{
 "cells": [
  {
   "cell_type": "markdown",
   "id": "90263bef",
   "metadata": {},
   "source": [
    "# Testing & Benchmarking"
   ]
  },
  {
   "cell_type": "markdown",
   "id": "a9d1b866",
   "metadata": {},
   "source": [
    "Tests must\n",
    "\n",
    "\n",
    "        ● be in a file that ends with “_test.go”  \n",
    "        ● put the file in the same package as the one being tested\n",
    "        ● be in a func with a signature “func TestXxx(*testing.T)”\n",
    "        \n",
    "Run a test at bash\n",
    "\n",
    "\n",
    "        ● > go test\n",
    "        ● > go test -v (more info)\n",
    "        ● > go test ./... (./ en donde estoy y ... todos los directores que estan por debajo)\n",
    "        \n",
    "No es necesario que name_test.go tenga el mismo nombre que name.go. Pero es una buena práctica.\n",
    "\n",
    "- https://pkg.go.dev/testing#B.Error"
   ]
  },
  {
   "cell_type": "markdown",
   "id": "459bcbea",
   "metadata": {},
   "source": [
    "## Error:\n",
    "\n",
    "Retorna:\n",
    "\n",
    "        PASS\n",
    "        ok  \tmycodes/13.Test\t0.001s\n"
   ]
  },
  {
   "cell_type": "code",
   "execution_count": 1,
   "id": "d58de0d7",
   "metadata": {},
   "outputs": [
    {
     "name": "stdout",
     "output_type": "stream",
     "text": [
      "2 + 3 = 5\n",
      "4 + 7 = 11\n",
      "5 + 9 = 14\n"
     ]
    }
   ],
   "source": [
    "package main\n",
    "\n",
    "import \"fmt\"\n",
    "\n",
    "func main() {\n",
    "\tfmt.Println(\"2 + 3 =\", mySum(2, 3))\n",
    "\tfmt.Println(\"4 + 7 =\", mySum(4, 7))\n",
    "\tfmt.Println(\"5 + 9 =\", mySum(5, 9))\n",
    "}\n",
    "\n",
    "func mySum(xi ...int) int {\n",
    "\tsum := 0\n",
    "\tfor _, v := range xi {\n",
    "\t\tsum += v\n",
    "\t}\n",
    "\treturn sum\n",
    "}\n",
    "main()"
   ]
  },
  {
   "cell_type": "code",
   "execution_count": 5,
   "id": "4f2bfa28",
   "metadata": {},
   "outputs": [],
   "source": [
    "package main\n",
    "\n",
    "import(\n",
    "    \"testing\"\n",
    ")\n",
    "func TestMySum (t *testing.T){\n",
    "    x:=mySum(2,3)\n",
    "    if x!=5{\n",
    "            t.Error(\"Problemas! Esperado\", 5, \" obtenido: \", x)\n",
    "    }\n",
    "} "
   ]
  },
  {
   "cell_type": "markdown",
   "id": "13a889e1",
   "metadata": {},
   "source": [
    "## If it fails:\n",
    "    === RUN   TestMySum\n",
    "    main_test.go:9: Problemas! Esperado 5  obtenido:  6\n",
    "    --- FAIL: TestMySum (0.00s)\n",
    "    FAIL\n",
    "    exit status 1\n",
    "    FAIL\tmycodes/13.Test\t0.001s\n"
   ]
  },
  {
   "cell_type": "markdown",
   "id": "e5ed2de6",
   "metadata": {},
   "source": [
    "## Table text\n",
    "We can create:\n",
    "\n"
   ]
  },
  {
   "cell_type": "code",
   "execution_count": 6,
   "id": "f3656ea3",
   "metadata": {},
   "outputs": [],
   "source": [
    "package main\n",
    "\n",
    "import(\n",
    "    \"testing\"\n",
    ")\n",
    "func TestMySum (t *testing.T){       // It stars now with capital letter. The name is whatever, but this name is a good practice\n",
    "    type test struct{\n",
    "            data []int\n",
    "            answer int\n",
    "        }\n",
    "\n",
    "    tests := []test{\n",
    "            test{[]int{21,21},42},\n",
    "            test{[]int{3,4,5},12},\n",
    "            test{[]int{1,1},2},\n",
    "            test{[]int{-1,0,1},0},\n",
    "        }\n",
    "\n",
    "    for _,v := range tests {\n",
    "            x:=mySum(v.data...)\n",
    "            if x != v.answer{\n",
    "                t.Error(\"Problemas! Esperado:\",v.answer, \" obtenido: \",x)\n",
    "            }\n",
    "        }\n",
    "} "
   ]
  },
  {
   "cell_type": "markdown",
   "id": "65564034",
   "metadata": {},
   "source": [
    "## Examples\n",
    "An example is a wonderful way to document your code.\n",
    "\n",
    "Allow a user to understand what this code does by seeing an example, the wonderful way to document the code, and then also to test your code, because those examples will run as tests.\n",
    "\n",
    "- https://go.dev/blog/examples\n",
    "\n"
   ]
  },
  {
   "cell_type": "code",
   "execution_count": 7,
   "id": "e96519b4",
   "metadata": {},
   "outputs": [
    {
     "ename": "ERROR",
     "evalue": "repl.go:7:14: undefined identifier: Sum",
     "output_type": "error",
     "traceback": [
      "repl.go:7:14: undefined identifier: Sum"
     ]
    }
   ],
   "source": [
    "package acdc\n",
    "\n",
    "import(\n",
    "    \"fmt\"\n",
    ")\n",
    "func ExampleSum(){\n",
    "    fmt.Println(Sum(1,2,3))\n",
    "    // Output:\n",
    "        // 7\n",
    "}\n",
    "\n",
    "// No olvidar los : despues del output"
   ]
  },
  {
   "cell_type": "markdown",
   "id": "9cafdbe4",
   "metadata": {},
   "source": [
    "Example functions without output comments are compiled but not executed.\n",
    "\n",
    "\n",
    "Para que aparezcan bonitos los ejemplos!!\n",
    "\n",
    "        > godoc -http=:8080\n",
    "     "
   ]
  },
  {
   "cell_type": "markdown",
   "id": "fcfaa3c6",
   "metadata": {},
   "source": [
    "The naming convention to declare examples for the package, a function F, a type T and method M on type T are:\n",
    "\n",
    "        func Example() { ... }\n",
    "        func ExampleF() { ... }\n",
    "        func ExampleT() { ... }\n",
    "        func ExampleT_M() { ... }\n",
    "\n",
    "\n",
    "- https://pkg.go.dev/testing#hdr-Examples\n"
   ]
  },
  {
   "cell_type": "markdown",
   "id": "e57ce415",
   "metadata": {},
   "source": [
    "## Golint\n",
    "\n",
    "        ● gofmt\n",
    "            ○ formats go code\n",
    "        ● go vet\n",
    "            ○ reports suspicious constructs\n",
    "        ● golint\n",
    "            ○ reports poor coding style\n",
    "            \n",
    "https://github.com/golang/lint\n",
    "\n",
    "At terminal:\n",
    "\n",
    "        > golint ./..."
   ]
  },
  {
   "cell_type": "markdown",
   "id": "d1b856d2",
   "metadata": {},
   "source": [
    "Cosas importantes para el trabajo:\n",
    "\n",
    "- Como hacer la documentación\n",
    "- Golint\n",
    "- Revisar la version de go"
   ]
  },
  {
   "cell_type": "markdown",
   "id": "55ae09c1",
   "metadata": {},
   "source": [
    "## go1.20 (released 2023-02-01)\n",
    "Go 1.20 is a major release of Go.\n",
    "\n",
    "\n",
    "Mi version de go: <br>\n",
    "1.13 <br>\n",
    "https://go.dev/doc/devel/release#policy :\n",
    "\n",
    "Se admite cada versión principal de Go hasta que haya dos versiones principales más recientes. Por ejemplo, Go 1.5 fue compatible hasta la versión Go 1.7 y Go 1.6 fue compatible hasta la versión Go 1.8. Solucionamos problemas críticos, incluidos problemas de seguridad críticos, en versiones compatibles según sea necesario mediante la publicación de revisiones menores (por ejemplo, Go 1.6.1, Go 1.6.2, etc.).\n",
    "\n"
   ]
  },
  {
   "cell_type": "code",
   "execution_count": null,
   "id": "6d347977",
   "metadata": {},
   "outputs": [],
   "source": []
  },
  {
   "cell_type": "markdown",
   "id": "5cab20fb",
   "metadata": {},
   "source": [
    "# Benchmark\n",
    "Permite medir el rendimiento de su código.\n",
    "Es posible escribir el codigo de varias maneras, pero, cual es la más rápida?\n",
    "\n",
    "\n",
    "Part of the testing package allows us to measure the speed of our code. This could also be\n",
    "called “measuring the performance” of your code, or “benchmarking” your code - finding out how\n",
    "fast the code runs.\n",
    "\n",
    "\n",
    "At teminal:\n",
    "\n",
    "        > go test -bench .             (all bechmarks)\n",
    "        > go test -bench Greet \n",
    "        \n",
    "Output: \n",
    "\n",
    "    goos: linux\n",
    "    goarch: amd64\n",
    "    pkg: GO_Udemy_My_Codes/13.Test/Benchmark/Saying\n",
    "    BenchmarkGreet-4(#núcleos)  8779282(#veces que se corre)  116 ns/op (tiempo que tomó)\n",
    "    PASS\n",
    "       \n",
    "       \n",
    "\n",
    ">go help testflag:\n",
    "\n",
    "        -bench regexp\n",
    "\t    Run only those benchmarks matching a regular expression.\n",
    "\t    By default, no benchmarks are run.\n",
    "\t    To run all benchmarks, use '-bench .' or '-bench=.'.\n",
    "\t    The regular expression is split by unbracketed slash (/)\n",
    "\t    characters into a sequence of regular expressions, and each\n",
    "\t    part of a benchmark's identifier must match the corresponding\n",
    "\t    element in the sequence, if any. Possible parents of matches\n",
    "\t    are run with b.N=1 to identify sub-benchmarks. For example,\n",
    "\t    given -bench=X/Y, top-level benchmarks matching X are run\n",
    "\t    with b.N=1 to find any sub-benchmarks matching Y, which are\n",
    "\t    then run in full.\n"
   ]
  },
  {
   "cell_type": "code",
   "execution_count": null,
   "id": "c18026d3",
   "metadata": {},
   "outputs": [],
   "source": [
    "// And the way benchmarking works is it's going to run this code \n",
    "// a lot of times until it gets a statistically\n",
    "// accurate measurement of how long it took to run it.\n",
    "\n",
    "\n",
    "func BenchmarkGreet(b *testing.B){\n",
    "    for i :=0 ; i <b.N; i++{       //It'll determine how many times it runs.\n",
    "        Greet(\"Jammes\")\n",
    "    } \n",
    "}"
   ]
  },
  {
   "cell_type": "markdown",
   "id": "701a74cf",
   "metadata": {},
   "source": [
    "# Coverage\n",
    "Coverage in programming is how much of the code that you've written is covered by tests.\n",
    "The best practice is to cover as much as possible of you code with test.\n",
    "    \n",
    "\n",
    "Neverless, in practice,  that idea is impossible at 100%. At least 70 or 80% is the ideal.\n",
    "\n",
    "There is a coverage analysis:\n",
    "\n",
    "\n",
    ">go help testflag (only test has less info)\n",
    "\n",
    "        -cover\n",
    "                Enable coverage analysis.\n",
    "                Note that because coverage works by annotating the source\n",
    "                code before compilation, compilation and test failures with\n",
    "                coverage enabled may report line numbers that don't correspond\n",
    "                to the original sources.\n"
   ]
  },
  {
   "cell_type": "markdown",
   "id": "b4f5b350",
   "metadata": {},
   "source": [
    ">go test -cover\n",
    "\n",
    "Output:\n",
    "\n",
    "        PASS\n",
    "        coverage: 100.0% of statements\n",
    "        ok  \tGO_Udemy_My_Codes/13.Test/Benchmark/Saying\t0.002s\n",
    "\n",
    "\n",
    "Porque todas mis funciones tienen test!"
   ]
  },
  {
   "cell_type": "markdown",
   "id": "223bc122",
   "metadata": {},
   "source": [
    ">go help testflag\n",
    "\n",
    "    -coverprofile cover.out\n",
    "\t    Write a coverage profile to the file after all tests have passed.\n",
    "\t    Sets -cover.\n",
    "> go test -coverprofile c.out\n",
    "\n",
    "Esto me crea un archivo c.out. El cual puedo ver en html al dar:\n",
    "\n",
    "> go tool cover -html=c.out\n",
    "\n",
    "Y se obtiene un resumen de que funciones estan cubiertas y cuales no."
   ]
  },
  {
   "attachments": {
    "Cover.png": {
     "image/png": "[encoded data removed]"
    }
   },
   "cell_type": "markdown",
   "id": "2cdbeeb0",
   "metadata": {},
   "source": [
    "![Cover.png](attachment:Cover.png)\n",
    "\n",
    "Recordar que para más info:\n",
    "> go tool cover -help"
   ]
  },
  {
   "cell_type": "markdown",
   "id": "37aee3f4",
   "metadata": {},
   "source": [
    "## Benchmark examples"
   ]
  },
  {
   "cell_type": "markdown",
   "id": "20b32b3b",
   "metadata": {},
   "source": [
    "## Remember to BET\n",
    "- benchmark\n",
    "- Example\n",
    "- Test\n",
    "\n",
    "\n",
    "        BenchmarkCat(b *testing.B)\n",
    "        ExampleCat()\n",
    "        TestCat(t *testing.T)\n",
    "        \n",
    "And the commands are:\n",
    "\n",
    ">godoc -http=:8080\n",
    "\n",
    "> go test <br>\n",
    "> go test -bench . <br>\n",
    "> go test -cover  <br>\n",
    "> go test -coverprofile c.out  <br>\n",
    "> go tool cover -html=c.out  <br>"
   ]
  },
  {
   "cell_type": "code",
   "execution_count": null,
   "id": "32f086a9",
   "metadata": {},
   "outputs": [],
   "source": []
  }
 ],
 "metadata": {
  "kernelspec": {
   "display_name": "Go",
   "language": "go",
   "name": "gophernotes"
  },
  "language_info": {
   "codemirror_mode": "",
   "file_extension": ".go",
   "mimetype": "",
   "name": "go",
   "nbconvert_exporter": "",
   "pygments_lexer": "",
   "version": "go1.20.3"
  }
 },
 "nbformat": 4,
 "nbformat_minor": 5
}

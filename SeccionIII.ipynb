{
 "cells": [
  {
   "cell_type": "markdown",
   "id": "44be1b73",
   "metadata": {},
   "source": [
    "# Sección III\n",
    "Programming Fundamentals"
   ]
  },
  {
   "cell_type": "markdown",
   "id": "42ef83de",
   "metadata": {},
   "source": [
    "## Boolean types"
   ]
  },
  {
   "cell_type": "code",
   "execution_count": 4,
   "id": "f3b71c21",
   "metadata": {},
   "outputs": [
    {
     "name": "stdout",
     "output_type": "stream",
     "text": [
      "false\n",
      "true\n",
      "false\n",
      "true\n"
     ]
    }
   ],
   "source": [
    "package main\n",
    "\n",
    "import (\n",
    "    \"fmt\"\n",
    ")\n",
    "\n",
    "func main() {\n",
    "    a := 7\n",
    "    b := 42\n",
    "    fmt.Println(a == b)\n",
    "    fmt.Println(a != b)\n",
    "    fmt.Println(a >= b)\n",
    "    fmt.Println(a <= b)\n",
    "    \n",
    "}\n",
    "main()"
   ]
  },
  {
   "cell_type": "markdown",
   "id": "ce42dec0",
   "metadata": {},
   "source": [
    "## Numeric types\n",
    "- https://go.dev/ref/spec#Numeric_types\n",
    "\n",
    "\n",
    "Un decimal será automáticamente **float64**\n",
    "\n",
    "Recordar que esto es para optimizar la memoria. Cuantos bytes se usan"
   ]
  },
  {
   "cell_type": "code",
   "execution_count": 5,
   "id": "412fea06",
   "metadata": {},
   "outputs": [
    {
     "name": "stdout",
     "output_type": "stream",
     "text": [
      "42\n",
      "42.34534\n",
      "int\n",
      "float64\n"
     ]
    }
   ],
   "source": [
    "package main\n",
    "\n",
    "import \"fmt\"\n",
    "func main() {\n",
    "    x := 42\n",
    "    y := 42.34534\n",
    "    fmt.Println(x)\n",
    "    fmt.Println(y)\n",
    "    fmt.Printf(\"%T\\n\", x)\n",
    "    fmt.Printf(\"%T\\n\", y)\n",
    "}\n",
    "main()"
   ]
  },
  {
   "cell_type": "code",
   "execution_count": 7,
   "id": "f466bd94",
   "metadata": {},
   "outputs": [
    {
     "name": "stdout",
     "output_type": "stream",
     "text": [
      "42\n",
      "42.34534\n",
      "int\n",
      "float64\n"
     ]
    }
   ],
   "source": [
    "package main\n",
    "\n",
    "var x int\n",
    "var y float64\n",
    "\n",
    "func main() {\n",
    "    x = 42\n",
    "    y = 42.34534\n",
    "    fmt.Println(x)\n",
    "    fmt.Println(y)\n",
    "    fmt.Printf(\"%T\\n\", x)\n",
    "    fmt.Printf(\"%T\\n\", y)\n",
    "}\n",
    "main()"
   ]
  },
  {
   "cell_type": "markdown",
   "id": "3466882a",
   "metadata": {},
   "source": [
    "## https://go.dev/ref/spec#Numeric_types\n",
    "\n",
    "Acá estan todas las especificaciones. Recordar que:\n",
    "- Un bit es esta info de ensendido y apagado. \n",
    "- 1 byte son 8 bits\n",
    "- la diferencia entre uint e int es que int acepta negativos, por lo que su rango en positivos es menor\n",
    "- Rune is an alias for int32\n",
    "- byte is an alias for uint8\n",
    "- As a rule of thumb, for numeric types, you should just use \"int\" for whole numbers (without decimals) and \"float64\" for real numbers (with decimals)"
   ]
  },
  {
   "cell_type": "markdown",
   "id": "ddbdf5f7",
   "metadata": {},
   "source": [
    "## Runtime Package\n",
    "- https://pkg.go.dev/runtime\n",
    "\n",
    " includes the low-level type information used by the reflect package;\n",
    " \n",
    " Con las constantes de este paquete, podemos ver el sistema operativo y la arquitectura con la que se ejecuta."
   ]
  },
  {
   "cell_type": "code",
   "execution_count": 5,
   "id": "02b65f45",
   "metadata": {},
   "outputs": [
    {
     "name": "stdout",
     "output_type": "stream",
     "text": [
      "linux\n",
      "amd64\n"
     ]
    }
   ],
   "source": [
    "package main\n",
    "\n",
    "import (\n",
    "    \"fmt\"\n",
    "    \"runtime\"\n",
    ")\n",
    "\n",
    "func main() {\n",
    "    fmt.Println(runtime.GOOS)\n",
    "    fmt.Println(runtime.GOARCH)\n",
    "}\n",
    "main()"
   ]
  },
  {
   "cell_type": "markdown",
   "id": "d43de830",
   "metadata": {},
   "source": [
    "# Strings\n",
    "“A string value is a (possibly empty) sequence of bytes. Strings are immutable: once\n",
    "created, it is impossible to change the contents of a string.”\n",
    "\n",
    "\n",
    "No significa que no puedo reasignar un valor. Significa que como estan escritos así se queda su codificación"
   ]
  },
  {
   "cell_type": "markdown",
   "id": "d6803758",
   "metadata": {},
   "source": [
    "Puedo convertir un string en byte"
   ]
  },
  {
   "cell_type": "code",
   "execution_count": 10,
   "id": "3483f7fe",
   "metadata": {},
   "outputs": [
    {
     "name": "stdout",
     "output_type": "stream",
     "text": [
      "hola\n",
      "[104 111 108 97]\n",
      "[]uint8"
     ]
    }
   ],
   "source": [
    "package main\n",
    "\n",
    "import (\n",
    "    \"fmt\"\n",
    ")\n",
    "\n",
    "func main() {\n",
    "    s:=\"hola\"\n",
    "    fmt.Println(s)\n",
    "    \n",
    "    bs:=[]byte(s)\n",
    "    fmt.Println(bs)\n",
    "    fmt.Printf(\"%T\",bs)\n",
    "    \n",
    "}\n",
    "main()"
   ]
  },
  {
   "cell_type": "markdown",
   "id": "e6c8584f",
   "metadata": {},
   "source": [
    "        [] significa que es una rebanada de uint8\n",
    "        \n",
    "        Los números vienen del código ASCI: https://en.wikipedia.org/wiki/ASCII Columna DEC (decimal)"
   ]
  },
  {
   "cell_type": "markdown",
   "id": "3bf87dda",
   "metadata": {},
   "source": [
    "Veamos como sacar la info de ASCII"
   ]
  },
  {
   "cell_type": "code",
   "execution_count": 13,
   "id": "e6dab7b4",
   "metadata": {},
   "outputs": [
    {
     "name": "stdout",
     "output_type": "stream",
     "text": [
      "hola\n",
      "U+0068 'h'\n",
      "U+006F 'o'\n",
      "U+006C 'l'\n",
      "U+0061 'a'\n"
     ]
    }
   ],
   "source": [
    "\n",
    "func main() {\n",
    "    s:=\"hola\"\n",
    "    fmt.Println(s)\n",
    "    \n",
    "    for i:=0; i<len(s); i++{\n",
    "        fmt.Printf(\"%#U\\n\",s[i])\n",
    "    }\n",
    "    \n",
    "}\n",
    "main()"
   ]
  },
  {
   "cell_type": "markdown",
   "id": "bd4eb527",
   "metadata": {},
   "source": [
    "<div class=\"alert alert-block alert-info\">\n",
    "<b>Tip:</b> El esquema de código que se usa es el UTF 8. \"U+0068\" esta es la forma en que se representa.\n",
    "\n",
    "Todo el código que se escribe, va codificado como UTF8. Pero eso no significa que todos los string vayan a ser puntos de código UTF8 (como bytes)\n",
    "    \n",
    "    Go source code is always UTF-8.\n",
    "</div>"
   ]
  },
  {
   "cell_type": "code",
   "execution_count": 15,
   "id": "73970938",
   "metadata": {},
   "outputs": [
    {
     "name": "stdout",
     "output_type": "stream",
     "text": [
      "hola\n",
      "[104 111 108 97]\n",
      "0 104\n",
      "1 111\n",
      "2 108\n",
      "3 97\n"
     ]
    }
   ],
   "source": [
    "\n",
    "func main() {\n",
    "    s:=\"hola\"\n",
    "    fmt.Println(s)\n",
    "    bs:=[]byte(s)\n",
    "    fmt.Println(bs)\n",
    "    \n",
    "    for i,v:= range s{\n",
    "        fmt.Println(i,v)\n",
    "        //fmt.Printf(\"%#U\\n\",s[i])\n",
    "    }\n",
    "    \n",
    "}\n",
    "main()"
   ]
  },
  {
   "cell_type": "markdown",
   "id": "8f143b1b",
   "metadata": {},
   "source": [
    "Para ver el string hexagesimal:"
   ]
  },
  {
   "cell_type": "code",
   "execution_count": 19,
   "id": "c806a088",
   "metadata": {},
   "outputs": [
    {
     "name": "stdout",
     "output_type": "stream",
     "text": [
      "hola\n",
      "[104 111 108 97]\n",
      "at the index potition 0, we have the hexadesimal 0x68\n",
      "at the index potition 1, we have the hexadesimal 0x6f\n",
      "at the index potition 2, we have the hexadesimal 0x6c\n",
      "at the index potition 3, we have the hexadesimal 0x61\n"
     ]
    }
   ],
   "source": [
    "func main() {\n",
    "    s:=\"hola\"\n",
    "    fmt.Println(s)\n",
    "    bs:=[]byte(s)\n",
    "    fmt.Println(bs)\n",
    "    \n",
    "    for i,v:= range s{\n",
    "        fmt.Printf(\"at the index potition %d, we have the hexadesimal %#x\\n\",i,v)\n",
    "        //fmt.Printf(\"%#U\\n\",s[i])\n",
    "    }\n",
    "    \n",
    "}\n",
    "main()"
   ]
  },
  {
   "cell_type": "markdown",
   "id": "0ba6c65c",
   "metadata": {},
   "source": [
    "Blog about the background of strings:\n",
    "\n",
    "- https://go.dev/blog/strings"
   ]
  },
  {
   "cell_type": "markdown",
   "id": "d0eea122",
   "metadata": {},
   "source": [
    "# Numerical Systems"
   ]
  },
  {
   "cell_type": "markdown",
   "id": "c513e2b5",
   "metadata": {},
   "source": [
    "## Decimal"
   ]
  },
  {
   "cell_type": "markdown",
   "id": "3ccab335",
   "metadata": {},
   "source": [
    "| $$10^3$$| $$10^2$$ | $$10^1$$ | $$10^0$$ |\n",
    "| :- | -: | :-: | :-: |\n",
    "| $0$ |  $$9$$ | $1$ |  $1$  |\n",
    "\n",
    "Ejemplo: 911"
   ]
  },
  {
   "cell_type": "markdown",
   "id": "683b737c",
   "metadata": {},
   "source": [
    "## Binario:"
   ]
  },
  {
   "cell_type": "markdown",
   "id": "d67bbb9d",
   "metadata": {},
   "source": [
    "| $$2^3$$| $$2^2$$ | $$2^1$$ | $$2^0$$ |\n",
    "| :- | -: | :-: | :-: |\n",
    "| $0$ |  $$1$$ | $0$ |  $1$  |\n",
    "\n",
    "Ejemplo= 5"
   ]
  },
  {
   "cell_type": "markdown",
   "id": "b9b369ba",
   "metadata": {},
   "source": [
    "## Hexagesimal\n",
    "\n",
    "0123456789abcdef\n",
    "\n",
    "a=10\n",
    "\n",
    "b=11\n",
    "\n",
    "c=12\n",
    "\n",
    "d=13\n",
    "\n",
    "e=14\n",
    "\n",
    "f=15"
   ]
  },
  {
   "cell_type": "markdown",
   "id": "93ea0929",
   "metadata": {},
   "source": [
    "| Ejemplo | $4096$ | $$256$$ | $$16$$ | ones |\n",
    "| :- | :- | -: | :-: | :-: |\n",
    "|  | $$16^3$$| $$16^2$$ | $$16^1$$ | $$16^0$$ |\n",
    "| $8 =$ | $0$ |  $$0$$ | $0$ |  $8$  |\n",
    "| $11 =$ | $0$ |  $$0$$ | $0$ |  $b$  |\n",
    "| $29 =$ | $0$ |  $$0$$ | $1$ |  $d$  |\n",
    "| $257 =   $      | $0$ |  $$1$$ | $0$ |  $1$  |\n",
    "| $287=$ | $0$ |  $$1$$ | $1$ |  $f$  |\n",
    "\n",
    "$$287=256+16+15$$"
   ]
  },
  {
   "cell_type": "code",
   "execution_count": 63,
   "id": "d9ca6c87",
   "metadata": {},
   "outputs": [
    {
     "name": "stdout",
     "output_type": "stream",
     "text": [
      "287\n",
      "int\n",
      "El número en hex es: 11f\n",
      "El número en hex es: 0X11F\n"
     ]
    }
   ],
   "source": [
    "func main() {\n",
    "    s:=287\n",
    "    fmt.Println(s)\n",
    "    fmt.Printf(\"%T\\n\",s)\n",
    "    \n",
    "    fmt.Printf(\"El número en hex es: %x\\n\",s)\n",
    "    fmt.Printf(\"El número en hex es: %#X\\n\",s)\n",
    "    \n",
    "}\n",
    "main()"
   ]
  },
  {
   "cell_type": "code",
   "execution_count": 39,
   "id": "d4fad113",
   "metadata": {},
   "outputs": [
    {
     "name": "stdout",
     "output_type": "stream",
     "text": [
      "H\n",
      "string\n",
      "[72]\n",
      "[]uint8\n",
      "\n",
      "El numero en decimal 72\n",
      "El tipouint8\n",
      "El número en binario: 1001000\n",
      "El número en hex: 48\n",
      "El número en hex: 0X48\n"
     ]
    }
   ],
   "source": [
    "func main() {\n",
    "    s:=\"H\" \n",
    "    fmt.Println(s)\n",
    "    fmt.Printf(\"%T\\n\",s)\n",
    "    \n",
    "    bs:=[]byte(s)\n",
    "    fmt.Println(bs)\n",
    "    fmt.Printf(\"%T\\n\\n\",bs)\n",
    "    \n",
    "    \n",
    "    n:=bs[0]\n",
    "    fmt.Println(\"El numero en decimal\",n)\n",
    "    fmt.Printf(\"El tipo%T\\n\",n)\n",
    "    fmt.Printf(\"El número en binario: %b\\n\",n)\n",
    "    fmt.Printf(\"El número en hex: %x\\n\",n)\n",
    "    fmt.Printf(\"El número en hex: %#X\\n\",n)\n",
    "    \n",
    "}\n",
    "main()"
   ]
  },
  {
   "cell_type": "code",
   "execution_count": 25,
   "id": "159a6c2a",
   "metadata": {},
   "outputs": [
    {
     "data": {
      "text/plain": [
       "910"
      ]
     },
     "execution_count": 25,
     "metadata": {},
     "output_type": "execute_result"
    }
   ],
   "source": [
    "455*2"
   ]
  },
  {
   "cell_type": "markdown",
   "id": "20447eff",
   "metadata": {},
   "source": [
    "## Constants\n",
    "\n",
    "Se puede o no especificar el tipo de constante. \n",
    "\n",
    "No especificarlo le da más flexibilidad al compilador a la hora de trabajar con la const definida."
   ]
  },
  {
   "cell_type": "code",
   "execution_count": 65,
   "id": "4b0c5ac1",
   "metadata": {},
   "outputs": [
    {
     "name": "stdout",
     "output_type": "stream",
     "text": [
      "2 42 James Bond\n",
      "int, float64, string\n"
     ]
    }
   ],
   "source": [
    "const (\n",
    "    a  = 2\n",
    "    b  = 42.\n",
    "    c  = \"James Bond\"\n",
    ")\n",
    "\n",
    "func main() {\n",
    "    fmt.Println(a,b,c)\n",
    "    fmt.Printf(\"%T, %T, %T\\n\", a,b,c)\n",
    "}\n",
    "main()"
   ]
  },
  {
   "cell_type": "code",
   "execution_count": 23,
   "id": "5874d4dd",
   "metadata": {},
   "outputs": [
    {
     "name": "stdout",
     "output_type": "stream",
     "text": [
      "42 42.78 James Bond\n",
      "int, float64, string\n"
     ]
    }
   ],
   "source": [
    "const (\n",
    "    a int     = 42\n",
    "    b float64 = 42.78\n",
    "    c string  = \"James Bond\"\n",
    ")\n",
    "\n",
    "func main() {\n",
    "    fmt.Println(a,b,c)\n",
    "    fmt.Printf(\"%T, %T, %T\\n\", a,b,c)\n",
    "}\n",
    "main()"
   ]
  },
  {
   "cell_type": "markdown",
   "id": "9a3c8094",
   "metadata": {},
   "source": [
    "# Iota\n",
    "Es un identificador predeclarado.\n",
    "\n",
    "Within a constant declaration, the predeclared identifier iota represents successive untyped integer constants. \n",
    "\n",
    "- https://go.dev/ref/spec#Iota"
   ]
  },
  {
   "cell_type": "code",
   "execution_count": 41,
   "id": "80915770",
   "metadata": {},
   "outputs": [
    {
     "name": "stdout",
     "output_type": "stream",
     "text": [
      "0 1 2\n",
      "int, int, int\n"
     ]
    }
   ],
   "source": [
    "const (\n",
    "    a = iota\n",
    "    b= iota\n",
    "    c=iota\n",
    ")\n",
    "\n",
    "func main() {\n",
    "    fmt.Println(a,b,c)\n",
    "    fmt.Printf(\"%T, %T, %T\\n\", a,b,c)\n",
    "}\n",
    "main()"
   ]
  },
  {
   "cell_type": "markdown",
   "id": "0bc03fb4",
   "metadata": {},
   "source": [
    "Automáticamente Incrementó."
   ]
  },
  {
   "cell_type": "code",
   "execution_count": 42,
   "id": "b2d5ecf5",
   "metadata": {},
   "outputs": [
    {
     "name": "stdout",
     "output_type": "stream",
     "text": [
      "1 2 3\n",
      "int, int, int\n"
     ]
    }
   ],
   "source": [
    "const (\n",
    "    a = iota +1\n",
    "    b\n",
    "    c\n",
    ")\n",
    "\n",
    "func main() {\n",
    "    fmt.Println(a,b,c)\n",
    "    fmt.Printf(\"%T, %T, %T\\n\", a,b,c)\n",
    "}\n",
    "main()"
   ]
  },
  {
   "cell_type": "markdown",
   "id": "6e33c4d1",
   "metadata": {},
   "source": [
    "Si usas la keyword const denuevo, se reinicia el conteo:"
   ]
  },
  {
   "cell_type": "code",
   "execution_count": 43,
   "id": "4f352738",
   "metadata": {},
   "outputs": [
    {
     "name": "stdout",
     "output_type": "stream",
     "text": [
      "0 1 2\n",
      "int, int, int\n",
      "0 1 2\n",
      "int, int, int\n"
     ]
    }
   ],
   "source": [
    "const (\n",
    "    a = iota\n",
    "    b = iota\n",
    "    c = iota\n",
    ")\n",
    "\n",
    "const (\n",
    "    d = iota\n",
    "    e = iota\n",
    "    f = iota\n",
    ")\n",
    "\n",
    "func main() {\n",
    "    fmt.Println(a,b,c)\n",
    "    fmt.Printf(\"%T, %T, %T\\n\", a,b,c)\n",
    "    fmt.Println(d,e,f)\n",
    "    fmt.Printf(\"%T, %T, %T\\n\", d,e,f)\n",
    "}\n",
    "main()"
   ]
  },
  {
   "cell_type": "markdown",
   "id": "f05983c8",
   "metadata": {},
   "source": [
    "# Bit Shifting\n",
    "100<br>\n",
    "010\n",
    "\n",
    "El operador para cambiar bits es **<<**"
   ]
  },
  {
   "cell_type": "code",
   "execution_count": 49,
   "id": "e4de3268",
   "metadata": {},
   "outputs": [
    {
     "name": "stdout",
     "output_type": "stream",
     "text": [
      "2\t\t10\n",
      "4\t\t100\n",
      "1\t\t1"
     ]
    }
   ],
   "source": [
    "\n",
    "func main() {\n",
    "    x:=2\n",
    "    fmt.Printf(\"%d\\t\\t%b\\n\",x,x)\n",
    "    \n",
    "    y:=x<<1\n",
    "    fmt.Printf(\"%d\\t\\t%b\\n\",y,y)\n",
    "    \n",
    "    z:=x>>1\n",
    "    fmt.Printf(\"%d\\t\\t%b\",z,z)\n",
    "    \n",
    "    \n",
    "}\n",
    "main()"
   ]
  },
  {
   "cell_type": "code",
   "execution_count": 53,
   "id": "c9e08527",
   "metadata": {},
   "outputs": [
    {
     "name": "stdout",
     "output_type": "stream",
     "text": [
      "10000000000\t\t\t\t1024\n",
      "100000000000000000000\t\t\t1048576\n",
      "1000000000000000000000000000000\t\t1073741824"
     ]
    }
   ],
   "source": [
    "func main() {\n",
    "    kb := 1024\n",
    "    mb := 1024*kb\n",
    "    gb := 1024*mb\n",
    "    \n",
    "    fmt.Printf(\"%b\\t\\t\\t\\t%d\\n\",kb,kb)\n",
    "    fmt.Printf(\"%b\\t\\t\\t%d\\n\",mb,mb)\n",
    "    fmt.Printf(\"%b\\t\\t%d\",gb,gb)\n",
    "    \n",
    "    \n",
    "    \n",
    "}\n",
    "main()"
   ]
  },
  {
   "cell_type": "markdown",
   "id": "90184499",
   "metadata": {},
   "source": [
    "Ahora usaremos Iota para lograr lo mismo"
   ]
  },
  {
   "cell_type": "code",
   "execution_count": 60,
   "id": "7458e4ec",
   "metadata": {},
   "outputs": [
    {
     "name": "stdout",
     "output_type": "stream",
     "text": [
      "10000000000\t\t\t\t1024\n",
      "100000000000000000000\t\t\t1048576\n",
      "1000000000000000000000000000000\t\t1073741824"
     ]
    }
   ],
   "source": [
    "const(\n",
    "    _ = iota\n",
    "    kb=1<<10  //kb = 1024\n",
    "    mb = 1024*kb\n",
    "    gb = 1024*mb\n",
    ")\n",
    "func main() {\n",
    "    \n",
    "    //fmt.Println(a)\n",
    "    \n",
    "    fmt.Printf(\"%b\\t\\t\\t\\t%d\\n\",kb,kb)\n",
    "    fmt.Printf(\"%b\\t\\t\\t%d\\n\",mb,mb)\n",
    "    fmt.Printf(\"%b\\t\\t%d\",gb,gb)  \n",
    "    \n",
    "}\n",
    "main()"
   ]
  },
  {
   "cell_type": "code",
   "execution_count": 61,
   "id": "40519671",
   "metadata": {},
   "outputs": [
    {
     "name": "stdout",
     "output_type": "stream",
     "text": [
      "10000000000\t\t\t\t1024\n",
      "100000000000000000000\t\t\t1048576\n",
      "1000000000000000000000000000000\t\t1073741824"
     ]
    }
   ],
   "source": [
    "const(\n",
    "    _ = iota\n",
    "    kb = 1 << (iota * 10)  //kb = 1024\n",
    "    mb = 1 << (iota * 10)  //1024*kb\n",
    "    gb = 1 << (iota * 10)  //1024*mb\n",
    ")\n",
    "func main() {\n",
    "    \n",
    "    //fmt.Println(a)\n",
    "    \n",
    "    fmt.Printf(\"%b\\t\\t\\t\\t%d\\n\",kb,kb)\n",
    "    fmt.Printf(\"%b\\t\\t\\t%d\\n\",mb,mb)\n",
    "    fmt.Printf(\"%b\\t\\t%d\",gb,gb)  \n",
    "    \n",
    "}\n",
    "main()"
   ]
  },
  {
   "cell_type": "code",
   "execution_count": null,
   "id": "10dbe8db",
   "metadata": {},
   "outputs": [],
   "source": []
  }
 ],
 "metadata": {
  "kernelspec": {
   "display_name": "Go",
   "language": "go",
   "name": "gophernotes"
  },
  "language_info": {
   "codemirror_mode": "",
   "file_extension": ".go",
   "mimetype": "",
   "name": "go",
   "nbconvert_exporter": "",
   "pygments_lexer": "",
   "version": "go1.20.3"
  }
 },
 "nbformat": 4,
 "nbformat_minor": 5
}

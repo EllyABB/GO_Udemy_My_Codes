{
 "cells": [
  {
   "cell_type": "markdown",
   "id": "c56cc73f",
   "metadata": {},
   "source": [
    "# Sección V  - Grouping data\n",
    "# Arreglos"
   ]
  },
  {
   "cell_type": "code",
   "execution_count": 2,
   "id": "f4407cb0",
   "metadata": {},
   "outputs": [],
   "source": [
    "package main\n",
    "import \"fmt\""
   ]
  },
  {
   "cell_type": "code",
   "execution_count": 6,
   "id": "b8bec8fb",
   "metadata": {},
   "outputs": [
    {
     "name": "stdout",
     "output_type": "stream",
     "text": [
      "[0 0 0 0 0]\n"
     ]
    }
   ],
   "source": [
    "func main(){\n",
    "    var x [5]int\n",
    "    fmt.Println(x)\n",
    "}\n",
    "\n",
    "main()"
   ]
  },
  {
   "cell_type": "markdown",
   "id": "9ffeb2b8",
   "metadata": {},
   "source": [
    "## El contador empieza en 0 !!"
   ]
  },
  {
   "cell_type": "code",
   "execution_count": 8,
   "id": "c5c91b8d",
   "metadata": {},
   "outputs": [
    {
     "name": "stdout",
     "output_type": "stream",
     "text": [
      "[0 0 0 0 0]\n",
      "[0 0 0 0 42]\n"
     ]
    }
   ],
   "source": [
    "func main(){\n",
    "    var x [5]int\n",
    "    fmt.Println(x)\n",
    "    x[4] = 42\n",
    "    fmt.Println(x)\n",
    "    \n",
    "}\n",
    "\n",
    "main()"
   ]
  },
  {
   "cell_type": "code",
   "execution_count": 31,
   "id": "0bdcb2af",
   "metadata": {},
   "outputs": [
    {
     "name": "stdout",
     "output_type": "stream",
     "text": [
      "[0 0 0 0 0]\n",
      "[0 0 0 0 42]\n",
      "0 0\n",
      "Tipo i : int. \t Tipo v=int\n",
      "1 0\n",
      "Tipo i : int. \t Tipo v=int\n",
      "2 0\n",
      "Tipo i : int. \t Tipo v=int\n",
      "3 0\n",
      "Tipo i : int. \t Tipo v=int\n",
      "4 42\n",
      "Tipo i : int. \t Tipo v=int\n"
     ]
    }
   ],
   "source": [
    "func main(){\n",
    "    var x [5]int\n",
    "    fmt.Println(x)\n",
    "    x[4] = 42\n",
    "    fmt.Println(x)\n",
    "    \n",
    "    for i,v :=range x {\n",
    "        fmt.Println(i,v)\n",
    "        fmt.Printf(\"Tipo i : %T. \\t Tipo v=%T\\n\",i,v)\n",
    "    }\n",
    "    \n",
    "}\n",
    "\n",
    "main()"
   ]
  },
  {
   "cell_type": "markdown",
   "id": "2c8980f9",
   "metadata": {},
   "source": [
    "## len para saber el tamaño!"
   ]
  },
  {
   "cell_type": "code",
   "execution_count": 12,
   "id": "605043cf",
   "metadata": {},
   "outputs": [
    {
     "name": "stdout",
     "output_type": "stream",
     "text": [
      "[0 0 0 0 0]\n",
      "Tamaño= 5\n"
     ]
    }
   ],
   "source": [
    "func main(){\n",
    "    var x [5]int\n",
    "    fmt.Println(x)\n",
    "    fmt.Println(\"Tamaño=\",len(x))\n",
    "    \n",
    "}\n",
    "\n",
    "main()"
   ]
  },
  {
   "cell_type": "code",
   "execution_count": 17,
   "id": "1930f844",
   "metadata": {},
   "outputs": [
    {
     "name": "stdout",
     "output_type": "stream",
     "text": [
      "[0 0 0 0 0]\n",
      "Tamaño= 5\n",
      "Tipo = [5]int\n"
     ]
    }
   ],
   "source": [
    "func main(){\n",
    "    var x [5]int\n",
    "    fmt.Println(x)\n",
    "    fmt.Println(\"Tamaño=\",len(x))\n",
    "    fmt.Printf(\"Tipo = %T\\n\",x)\n",
    "    \n",
    "}\n",
    "\n",
    "main()"
   ]
  },
  {
   "cell_type": "markdown",
   "id": "9806929f",
   "metadata": {},
   "source": [
    "# Slice \n",
    "\n",
    "https://go.dev/ref/spec#Slice_types\n",
    "\n",
    "Un literal compuesto tiene la siguiente estructura\n",
    "\n",
    "        x:=type{values}\n",
    "\n",
    "\n",
    "Es una forma en la que vamos a crear diferentes valores de este tipo, donde compilamos juntos un monton de valores juntos.\n",
    "\n",
    "        a SLICE allows you to group together VALUES of the same TYPE\n",
    "        \n",
    "        Tiene tamaño dinámico."
   ]
  },
  {
   "cell_type": "code",
   "execution_count": 18,
   "id": "260cd41c",
   "metadata": {},
   "outputs": [
    {
     "name": "stdout",
     "output_type": "stream",
     "text": [
      "[4 5 6 7 8 9]\n",
      "Tipo= []int\n"
     ]
    }
   ],
   "source": [
    "func main(){\n",
    "    x:=[]int{4,5,6,7,8,9}\n",
    "    fmt.Println(x)        // Valores del mismo tipo !!\n",
    "    fmt.Printf(\"Tipo= %T\\n\",x)\n",
    "}\n",
    "\n",
    "main()"
   ]
  },
  {
   "cell_type": "code",
   "execution_count": 30,
   "id": "1163115e",
   "metadata": {},
   "outputs": [
    {
     "name": "stdout",
     "output_type": "stream",
     "text": [
      "0 4\n",
      "Tipo i : int. \t Tipo v=int\n",
      "1 5\n",
      "Tipo i : int. \t Tipo v=int\n",
      "2 6\n",
      "Tipo i : int. \t Tipo v=int\n",
      "3 7\n",
      "Tipo i : int. \t Tipo v=int\n",
      "4 8\n",
      "Tipo i : int. \t Tipo v=int\n",
      "5 9\n",
      "Tipo i : int. \t Tipo v=int\n"
     ]
    }
   ],
   "source": [
    "func main(){\n",
    "    x:=[]int{4,5,6,7,8,9}\n",
    "    \n",
    "    for i,v :=range x {\n",
    "        fmt.Println(i,v)\n",
    "        fmt.Printf(\"Tipo i : %T. \\t Tipo v=%T\\n\",i,v)\n",
    "    }\n",
    "}\n",
    "\n",
    "main()"
   ]
  },
  {
   "cell_type": "markdown",
   "id": "4acd2921",
   "metadata": {},
   "source": [
    "# slicing a slice"
   ]
  },
  {
   "cell_type": "code",
   "execution_count": 36,
   "id": "3378853f",
   "metadata": {},
   "outputs": [
    {
     "name": "stdout",
     "output_type": "stream",
     "text": [
      "[4 5 6 7 8 9]\n",
      "[5 6 7]\n",
      "[7 8 9]\n"
     ]
    }
   ],
   "source": [
    "func main(){\n",
    "    x:=[]int{4,5,6,7,8,9}\n",
    "    fmt.Println(x)\n",
    "    fmt.Println(x[1:4]) // No incluye el item en la posicion 4\n",
    "    fmt.Println(x[3:])\n",
    "}\n",
    "\n",
    "main()"
   ]
  },
  {
   "cell_type": "markdown",
   "id": "19d2371a",
   "metadata": {},
   "source": [
    "## Append"
   ]
  },
  {
   "cell_type": "code",
   "execution_count": 38,
   "id": "75cd8a7c",
   "metadata": {},
   "outputs": [
    {
     "name": "stdout",
     "output_type": "stream",
     "text": [
      "[4 5 7 8 42]\n",
      "[4 5 7 8 42 77 88 99 1014]\n",
      "[4 5 7 8 42 77 88 99 1014 234 456 678 987]\n"
     ]
    }
   ],
   "source": [
    "func main() {\n",
    "    x := []int{4, 5, 7, 8, 42}\n",
    "    fmt.Println(x)\n",
    "    x = append(x, 77, 88, 99, 1014)\n",
    "    fmt.Println(x)\n",
    "\n",
    "    y := []int{234, 456, 678, 987}\n",
    "    x = append(x, y...)\n",
    "    fmt.Println(x)\n",
    "}\n",
    "main()"
   ]
  },
  {
   "cell_type": "code",
   "execution_count": 44,
   "id": "a3f91e3d",
   "metadata": {},
   "outputs": [
    {
     "ename": "ERROR",
     "evalue": "repl.go:4:16: first argument to append must be slice; have <[5]int>",
     "output_type": "error",
     "traceback": [
      "repl.go:4:16: first argument to append must be slice; have <[5]int>"
     ]
    }
   ],
   "source": [
    "func main() {\n",
    "    var x [5]int\n",
    "    fmt.Println(x)\n",
    "    x = append(x, 77, 88, 99, 1014)\n",
    "    fmt.Println(x)\n",
    "\n",
    "}\n",
    "main()\n"
   ]
  },
  {
   "cell_type": "markdown",
   "id": "222dcd94",
   "metadata": {},
   "source": [
    "## Delete"
   ]
  },
  {
   "cell_type": "code",
   "execution_count": 53,
   "id": "982b13f9",
   "metadata": {},
   "outputs": [
    {
     "name": "stdout",
     "output_type": "stream",
     "text": [
      "[1 2 3 4 5 6]\n",
      "[1 2 4 5 6]\n"
     ]
    }
   ],
   "source": [
    "func main() {\n",
    "    x := []int{1,2,3,4,5,6}\n",
    "    fmt.Println(x)\n",
    "    x = append(x[:2], x[3:]...)\n",
    "    fmt.Println(x)\n",
    "\n",
    "}\n",
    "main()"
   ]
  },
  {
   "cell_type": "markdown",
   "id": "3419d544",
   "metadata": {},
   "source": [
    "## make\n",
    "\n",
    "Hacer que se defina una nueva variable para añadir cosas:\n",
    "\n",
    "        x=append (....)\n",
    "        \n",
    "Eso requiere algo de poder de procesamiento.\n",
    "\n",
    "Por lo tanto la funcion make ayuda a mejorar esto. Si se sabe el tamaño y longitud de un slide se define mejor con make. Pero aun es posible añadir cosas, más de su capacidad!!"
   ]
  },
  {
   "cell_type": "code",
   "execution_count": 54,
   "id": "68b74d1a",
   "metadata": {},
   "outputs": [
    {
     "name": "stdout",
     "output_type": "stream",
     "text": [
      "Tipo=[]int \t valor= [0 0 0 0 0 0 0 0 0 0]\n",
      "10\n",
      "12\n"
     ]
    }
   ],
   "source": [
    "func main() {\n",
    "    x := make([]int, 10, 12)\n",
    "    fmt.Printf(\"Tipo=%T \\t valor= %d\\n\",x,x)\n",
    "    fmt.Println(len(x))\n",
    "    fmt.Println(cap(x))\n",
    "}\n",
    "main()"
   ]
  },
  {
   "cell_type": "code",
   "execution_count": 55,
   "id": "820371d4",
   "metadata": {},
   "outputs": [
    {
     "name": "stdout",
     "output_type": "stream",
     "text": [
      "Tipo=[]int \t valor= [0 0 0 0 0 0 0 0 0 0]\n",
      "10\n",
      "12\n",
      "[42 0 0 0 0 0 0 0 0 999]\n",
      "10\n",
      "12\n"
     ]
    }
   ],
   "source": [
    "func main() {\n",
    "    x := make([]int, 10, 12)\n",
    "    fmt.Printf(\"Tipo=%T \\t valor= %d\\n\",x,x)\n",
    "    fmt.Println(len(x))\n",
    "    fmt.Println(cap(x))\n",
    "    \n",
    "    x[0] = 42\n",
    "    x[9] = 999\n",
    "    \n",
    "    fmt.Println(x)\n",
    "    fmt.Println(len(x))\n",
    "    fmt.Println(cap(x))\n",
    "}\n",
    "main()"
   ]
  },
  {
   "cell_type": "code",
   "execution_count": 58,
   "id": "9e524b2a",
   "metadata": {},
   "outputs": [
    {
     "name": "stdout",
     "output_type": "stream",
     "text": [
      "Tipo=[]int \t valor= [0 0 0 0 0 0 0 0 0 0]\n",
      "10\n",
      "12\n",
      "[42 0 0 0 0 0 0 0 0 999]\n",
      "10\n",
      "12\n",
      "[42 0 0 0 0 0 0 0 0 999 3423]\n",
      "11\n",
      "12\n",
      "[42 0 0 0 0 0 0 0 0 999 3423 3424]\n",
      "12\n",
      "12\n",
      "[42 0 0 0 0 0 0 0 0 999 3423 3424 3425]\n",
      "13\n",
      "24\n"
     ]
    }
   ],
   "source": [
    "func main() {\n",
    "    // x=make(type, len, cap)\n",
    "    x := make([]int, 10, 12)\n",
    "    fmt.Printf(\"Tipo=%T \\t valor= %d\\n\",x,x)\n",
    "    fmt.Println(len(x))\n",
    "    fmt.Println(cap(x))\n",
    "    x[0] = 42\n",
    "    x[9] = 999\n",
    "    \n",
    "    fmt.Println(x)\n",
    "    fmt.Println(len(x))\n",
    "    fmt.Println(cap(x))\n",
    "    \n",
    "    x = append(x, 3423)\n",
    "    \n",
    "    fmt.Println(x)\n",
    "    fmt.Println(len(x))\n",
    "    fmt.Println(cap(x))\n",
    "    \n",
    "    x = append(x, 3424)\n",
    "\n",
    "    fmt.Println(x)\n",
    "    fmt.Println(len(x))\n",
    "    fmt.Println(cap(x))\n",
    "    \n",
    "    x = append(x, 3425)\n",
    "\n",
    "    fmt.Println(x)\n",
    "    fmt.Println(len(x))\n",
    "    fmt.Println(cap(x))\n",
    "}\n",
    "main()"
   ]
  },
  {
   "cell_type": "markdown",
   "id": "4117fcd7",
   "metadata": {},
   "source": [
    "Aunque parece de tamaño fino. Es tambien dinámico."
   ]
  },
  {
   "cell_type": "markdown",
   "id": "f844f82d",
   "metadata": {},
   "source": [
    "## For cycles:"
   ]
  },
  {
   "cell_type": "code",
   "execution_count": 75,
   "id": "fe021a6b",
   "metadata": {},
   "outputs": [
    {
     "name": "stdout",
     "output_type": "stream",
     "text": [
      "0 4\n",
      "Tipo i : int. \t Tipo v=int\n",
      "\n",
      "1 5\n",
      "Tipo i : int. \t Tipo v=int\n",
      "\n",
      "2 6\n",
      "Tipo i : int. \t Tipo v=int\n",
      "\n",
      "3 7\n",
      "Tipo i : int. \t Tipo v=int\n",
      "\n",
      "4 8\n",
      "Tipo i : int. \t Tipo v=int\n",
      "\n",
      "5 9\n",
      "Tipo i : int. \t Tipo v=int\n",
      "\n"
     ]
    }
   ],
   "source": [
    "func main() {\n",
    "    x := []int{4, 5, 6, 7, 8, 9}\n",
    "\n",
    "    for i,v := range x {\n",
    "        fmt.Println(i,v)\n",
    "        fmt.Printf(\"Tipo i : %T. \\t Tipo v=%T\\n\\n\",i,v)\n",
    "    }\n",
    "}\n",
    "\n",
    "main()"
   ]
  },
  {
   "cell_type": "markdown",
   "id": "cb414aba",
   "metadata": {},
   "source": [
    "## multidimensional"
   ]
  },
  {
   "cell_type": "code",
   "execution_count": 69,
   "id": "998cc9d3",
   "metadata": {},
   "outputs": [
    {
     "name": "stdout",
     "output_type": "stream",
     "text": [
      "[James Bond Chocolate martini]\n",
      "[Miss Moneypenny Strawberry Hazelnut]\n",
      "\n",
      " Multi dimensional Slice: \n",
      "[[James Bond Chocolate martini] [Miss Moneypenny Strawberry Hazelnut]]\n"
     ]
    }
   ],
   "source": [
    "func main() {\n",
    "    jb := []string{\"James\", \"Bond\", \"Chocolate\", \"martini\"}\n",
    "    fmt.Println(jb)\n",
    "    mp := []string{\"Miss\", \"Moneypenny\", \"Strawberry\", \"Hazelnut\"}\n",
    "    fmt.Println(mp)\n",
    "    \n",
    "    fmt.Println(\"\\n Multi dimensional Slice: \")\n",
    "    \n",
    "    xp := [][]string{jb, mp}\n",
    "    fmt.Println(xp)\n",
    "} \n",
    "main()"
   ]
  },
  {
   "cell_type": "markdown",
   "id": "7830115e",
   "metadata": {},
   "source": [
    "# Map"
   ]
  },
  {
   "cell_type": "code",
   "execution_count": 64,
   "id": "177e853b",
   "metadata": {},
   "outputs": [
    {
     "name": "stdout",
     "output_type": "stream",
     "text": [
      "map[James:32 Miss Moneypenny:27]\n",
      "32 true\n",
      "0 false\n",
      "0\n",
      "false\n"
     ]
    }
   ],
   "source": [
    "func main() {\n",
    "    m := map[string]int{\n",
    "        \"James\":           32,\n",
    "        \"Miss Moneypenny\": 27,\n",
    "    }\n",
    "    fmt.Println(m)\n",
    "\n",
    "    fmt.Println(m[\"James\"])\n",
    "\n",
    "    fmt.Println(m[\"Barnabas\"])\n",
    "\n",
    "    v, ok := m[\"Barnabas\"]\n",
    "    fmt.Println(v)\n",
    "    fmt.Println(ok)\n",
    "\n",
    "    if v, ok := m[\"Barnabas\"]; ok {\n",
    "        fmt.Println(v)\n",
    "    }\n",
    "\n",
    "}\n",
    "main()"
   ]
  },
  {
   "cell_type": "markdown",
   "id": "9bb3f7d6",
   "metadata": {},
   "source": [
    "## ok"
   ]
  },
  {
   "cell_type": "code",
   "execution_count": 77,
   "id": "080c6756",
   "metadata": {},
   "outputs": [
    {
     "name": "stdout",
     "output_type": "stream",
     "text": [
      "0\n",
      "false\n"
     ]
    }
   ],
   "source": [
    "func main() {\n",
    "    m := map[string]int{\n",
    "        \"James\":           32,\n",
    "        \"Miss Moneypenny\": 27,\n",
    "    }\n",
    "    \n",
    "    v, ok := m[\"Barnabas\"]\n",
    "    fmt.Println(v)\n",
    "    fmt.Println(ok)\n",
    "\n",
    "    if v, ok := m[\"Barnabas\"]; ok {\n",
    "        fmt.Println(v)\n",
    "    }\n",
    "}\n",
    "main()"
   ]
  },
  {
   "cell_type": "markdown",
   "id": "858bc99e",
   "metadata": {},
   "source": [
    "## Add"
   ]
  },
  {
   "cell_type": "code",
   "execution_count": 80,
   "id": "8540444d",
   "metadata": {},
   "outputs": [
    {
     "name": "stdout",
     "output_type": "stream",
     "text": [
      "La edad de tood es:  33\n"
     ]
    }
   ],
   "source": [
    "func main() {\n",
    "    m := map[string]int{\n",
    "        \"James\":           32,\n",
    "        \"Miss Moneypenny\": 27,\n",
    "    }\n",
    "\n",
    "    m[\"todd\"] = 33\n",
    "\n",
    "    if v, ok := m[\"todd\"]; ok {\n",
    "        fmt.Println(\"La edad de tood es: \",v)\n",
    "    }\n",
    "}\n",
    "main()"
   ]
  },
  {
   "cell_type": "markdown",
   "id": "4b941de4",
   "metadata": {},
   "source": [
    "## For cycle"
   ]
  },
  {
   "cell_type": "code",
   "execution_count": 83,
   "id": "929f6931",
   "metadata": {},
   "outputs": [
    {
     "name": "stdout",
     "output_type": "stream",
     "text": [
      "Map cycle:\n",
      "James 32\n",
      "Miss Moneypenny 27\n",
      "todd 33\n",
      "\n",
      "Slice cycle:\n",
      "0 4\n",
      "1 5\n",
      "2 7\n",
      "3 8\n",
      "4 9\n",
      "5 42\n"
     ]
    }
   ],
   "source": [
    "func main() {\n",
    "    m := map[string]int{\n",
    "        \"James\":           32,\n",
    "        \"Miss Moneypenny\": 27,\n",
    "    }\n",
    "\n",
    "    m[\"todd\"] = 33\n",
    "    \n",
    "    fmt.Println(\"Map cycle:\")\n",
    "    for k, v := range m {\n",
    "        fmt.Println(k, v)\n",
    "    }\n",
    "\n",
    "    xi := []int{4, 5, 7, 8, 9, 42}\n",
    "    fmt.Println(\"\\nSlice cycle:\")\n",
    "    for i, v := range xi {\n",
    "        fmt.Println(i, v)\n",
    "    }\n",
    "}\n",
    "main()"
   ]
  },
  {
   "cell_type": "markdown",
   "id": "f46e605c",
   "metadata": {},
   "source": [
    "## delete on a map"
   ]
  },
  {
   "cell_type": "code",
   "execution_count": 3,
   "id": "b05f7392",
   "metadata": {},
   "outputs": [
    {
     "name": "stdout",
     "output_type": "stream",
     "text": [
      "Map cycle:\n",
      "James 32\n",
      "Miss Moneypenny 27\n",
      "todd 33\n",
      " \n",
      "\n",
      "\n",
      "James 32\n",
      "Miss Moneypenny 27\n"
     ]
    }
   ],
   "source": [
    "func main() {\n",
    "    m := map[string]int{\n",
    "        \"James\":           32,\n",
    "        \"Miss Moneypenny\": 27,\n",
    "    }\n",
    "\n",
    "    m[\"todd\"] = 33\n",
    "    \n",
    "    fmt.Println(\"Map cycle:\")\n",
    "    for k, v := range m {\n",
    "        fmt.Println(k, v)\n",
    "    }\n",
    "    \n",
    "    delete(m,\"todd\")\n",
    "    fmt.Println(\" \\n\\n\")\n",
    "    \n",
    "    for k, v := range m {\n",
    "        fmt.Println(k, v)\n",
    "    }\n",
    "\n",
    "}\n",
    "main()"
   ]
  },
  {
   "cell_type": "code",
   "execution_count": null,
   "id": "f44cefdc",
   "metadata": {},
   "outputs": [],
   "source": []
  },
  {
   "cell_type": "markdown",
   "id": "6709984f",
   "metadata": {},
   "source": [
    "<div class=\"alert alert-block alert-danger\">\n",
    "<b>Just don't:</b> En efecto no se pueden sumar<br>\n",
    "Go.\n",
    "</div>"
   ]
  },
  {
   "cell_type": "code",
   "execution_count": 48,
   "id": "f67d3b66",
   "metadata": {},
   "outputs": [
    {
     "ename": "ERROR",
     "evalue": "repl.go:7:19: invalid binary operation + between <[5]int> and <[5]int>: x + y",
     "output_type": "error",
     "traceback": [
      "repl.go:7:19: invalid binary operation + between <[5]int> and <[5]int>: x + y"
     ]
    }
   ],
   "source": [
    "func main() {\n",
    "    var x [5]int\n",
    "    var y [5]int\n",
    "    fmt.Println(x)\n",
    "    x[3]=2\n",
    "    y[3]=1\n",
    "    fmt.Println(x+y)\n",
    "}\n",
    "main()"
   ]
  },
  {
   "cell_type": "code",
   "execution_count": 49,
   "id": "0c2640e1",
   "metadata": {},
   "outputs": [
    {
     "ename": "ERROR",
     "evalue": "repl.go:5:19: invalid binary operation + between <[]int> and <[]int>: x + y",
     "output_type": "error",
     "traceback": [
      "repl.go:5:19: invalid binary operation + between <[]int> and <[]int>: x + y"
     ]
    }
   ],
   "source": [
    "func main() {\n",
    "    x := []int{4, 5, 7, 8, 42}\n",
    "    y := []int{4, 5, 7, 8, 42}\n",
    "    fmt.Println(x)\n",
    "    fmt.Println(x+y)\n",
    "}\n",
    "main()"
   ]
  }
 ],
 "metadata": {
  "kernelspec": {
   "display_name": "Go",
   "language": "go",
   "name": "gophernotes"
  },
  "language_info": {
   "codemirror_mode": "",
   "file_extension": ".go",
   "mimetype": "",
   "name": "go",
   "nbconvert_exporter": "",
   "pygments_lexer": "",
   "version": "go1.20.3"
  }
 },
 "nbformat": 4,
 "nbformat_minor": 5
}

{
 "cells": [
  {
   "cell_type": "markdown",
   "id": "8d4ad8aa",
   "metadata": {},
   "source": [
    "# Sección VI\n",
    "# Struct\n",
    "A struct is an composite data type. (composite data types, aka, aggregate data types, aka,\n",
    "complex data types). Structs allow us to compose together values of different types."
   ]
  },
  {
   "cell_type": "code",
   "execution_count": 4,
   "id": "7edd0460",
   "metadata": {},
   "outputs": [],
   "source": [
    "package main\n",
    "import \"fmt\""
   ]
  },
  {
   "cell_type": "code",
   "execution_count": 5,
   "id": "ed25f5d0",
   "metadata": {},
   "outputs": [],
   "source": [
    "type animal struct {\n",
    "    name string\n",
    "    age int\n",
    "}"
   ]
  },
  {
   "cell_type": "code",
   "execution_count": 6,
   "id": "09edee06",
   "metadata": {},
   "outputs": [
    {
     "name": "stdout",
     "output_type": "stream",
     "text": [
      "{Vinny 2}\n",
      "{Ryuk 4}\n",
      "Vinny 2\n",
      "Ryuk 2\n"
     ]
    }
   ],
   "source": [
    "func main(){\n",
    "    Vinny := animal{\n",
    "        name: \"Vinny\",\n",
    "        age: 2,\n",
    "    }\n",
    "    \n",
    "    Ryuk := animal{\n",
    "        name: \"Ryuk\",\n",
    "        age: 4,\n",
    "    }\n",
    "    fmt.Println(Vinny)\n",
    "    fmt.Println(Ryuk)\n",
    "    \n",
    "    \n",
    "    fmt.Println(Vinny.name,Vinny.age)\n",
    "    fmt.Println(Ryuk.name, Vinny.age)\n",
    "    \n",
    "}\n",
    "main()"
   ]
  },
  {
   "cell_type": "markdown",
   "id": "386066e5",
   "metadata": {},
   "source": [
    "## Embedded structs\n",
    "We can take one struct and embed it in another struct. When you do this the inner type gets\n",
    "promoted to the outer type."
   ]
  },
  {
   "cell_type": "code",
   "execution_count": 7,
   "id": "c26baf19",
   "metadata": {},
   "outputs": [],
   "source": [
    "type animal struct {\n",
    "    name string\n",
    "    age int\n",
    "}"
   ]
  },
  {
   "cell_type": "code",
   "execution_count": 8,
   "id": "58b17ede",
   "metadata": {},
   "outputs": [],
   "source": [
    "type SecretAnimal struct {\n",
    "    animal \n",
    "    ltk bool\n",
    "}"
   ]
  },
  {
   "cell_type": "code",
   "execution_count": 11,
   "id": "bb136314",
   "metadata": {},
   "outputs": [
    {
     "name": "stdout",
     "output_type": "stream",
     "text": [
      "{{Vinny 2} true}\n",
      "2 Vinny true\n"
     ]
    }
   ],
   "source": [
    "func main(){\n",
    "    SecretVinny := SecretAnimal{\n",
    "        animal : animal{\n",
    "            name: \"Vinny\",\n",
    "            age: 2,\n",
    "        },\n",
    "        ltk: true,\n",
    "    }\n",
    "    \n",
    "    fmt.Println(SecretVinny)    \n",
    "    \n",
    "    fmt.Println(SecretVinny.age,SecretVinny.name, SecretVinny.ltk)\n",
    "    \n",
    "}\n",
    "main()"
   ]
  },
  {
   "cell_type": "markdown",
   "id": "15b6187a",
   "metadata": {},
   "source": [
    "## Anonymous structs\n",
    " An anonymous struct is a struct which is not associated with a specific identifier.\n",
    " \n",
    " Se usa cuando la estructura solo se requiere una vez"
   ]
  },
  {
   "cell_type": "code",
   "execution_count": 13,
   "id": "e20a261e",
   "metadata": {},
   "outputs": [
    {
     "name": "stdout",
     "output_type": "stream",
     "text": [
      "{Vinny 2}\n",
      "Vinny 2\n"
     ]
    }
   ],
   "source": [
    "func main(){\n",
    "    Vinny := struct {\n",
    "                name string\n",
    "                age int\n",
    "    }{\n",
    "            name: \"Vinny\",\n",
    "            age: 2,\n",
    "    }\n",
    " \n",
    "    fmt.Println(Vinny)     \n",
    "    fmt.Println(Vinny.name,Vinny.age)\n",
    "    \n",
    "}\n",
    "main()"
   ]
  },
  {
   "cell_type": "markdown",
   "id": "6b1348b5",
   "metadata": {},
   "source": [
    "Anonymous types are indeterminate. They have not been declared as a\n",
    "type yet. The compiler has flexibility with anonymous types. You can\n",
    "assign an anonymous type to a variable declared as a certain type. If the\n",
    "assignment can occur, the compiler will figure it out; the compiler will do\n",
    "an implicit conversion. You cannot assign a named type to a different\n",
    "named type.\n",
    "\n",
    "Como se muestra en el siguiente ejemplo (el cual un compilador arrojaría como type=foo)"
   ]
  },
  {
   "cell_type": "code",
   "execution_count": 17,
   "id": "3d8a9349",
   "metadata": {},
   "outputs": [
    {
     "name": "stdout",
     "output_type": "stream",
     "text": [
      "int"
     ]
    }
   ],
   "source": [
    "type foo int\n",
    "const hola = 42\n",
    "\n",
    "func main(){\n",
    "    V:= hola\n",
    "    fmt.Printf(\"%T\",V)     \n",
    "}\n",
    "main()\n"
   ]
  },
  {
   "cell_type": "code",
   "execution_count": 18,
   "id": "a84cd009",
   "metadata": {},
   "outputs": [
    {
     "name": "stdout",
     "output_type": "stream",
     "text": [
      "{Albert Einstein [No_idea No_idea_2]} {Elly Bayona [Vainilla! Chocolate]}\n",
      "Albert Einstein [No_idea No_idea_2]\n",
      "Elly Bayona [Vainilla! Chocolate]\n",
      "struct { 𒀸first string; 𒀸last string; 𒀸flavor []string },\tstruct { 𒀸first string; 𒀸last string; 𒀸flavor []string }\n",
      "0 No_idea\n",
      "1 No_idea_2\n"
     ]
    }
   ],
   "source": [
    "type person struct{\n",
    "    first string\n",
    "    last string\n",
    "    flavor []string\n",
    "}\n",
    "\n",
    "func main() {\n",
    "    p1 := person {\n",
    "        \"Albert\",\n",
    "        \"Einstein\",\n",
    "        []string{\"No_idea\",\"No_idea_2\"},\n",
    "    }\n",
    "    p2 := person {\n",
    "        first: \"Elly\",\n",
    "        last: \"Bayona\",\n",
    "        flavor: []string{\"Vainilla!\",\"Chocolate\"},\n",
    "    }\n",
    "   \n",
    "    fmt.Println(p1,p2)\n",
    "    fmt.Println(p1.first,p1.last,p1.flavor)\n",
    "    fmt.Println(p2.first,p2.last,p2.flavor)\n",
    "    fmt.Printf(\"%T,\\t%T\\n\",p1,p2)\n",
    "    \n",
    "    \n",
    "    for i,v:=range p1.flavor {\n",
    "        fmt.Println(i,v)\n",
    "    \n",
    "    }\n",
    "}\n",
    "main()"
   ]
  },
  {
   "cell_type": "markdown",
   "id": "3a38a919",
   "metadata": {},
   "source": [
    "## struct in a map"
   ]
  },
  {
   "cell_type": "code",
   "execution_count": 19,
   "id": "2f653c55",
   "metadata": {},
   "outputs": [
    {
     "name": "stdout",
     "output_type": "stream",
     "text": [
      "Albert\n",
      "Einstein\n",
      "0 No_idea\n",
      "1 No_idea_2\n",
      "----\n",
      "Elly\n",
      "Bayona\n",
      "0 Vainilla!\n",
      "1 Chocolate\n",
      "----\n"
     ]
    }
   ],
   "source": [
    "package main\n",
    "\n",
    "import \"fmt\"\n",
    "\n",
    "type person struct{\n",
    "    first string\n",
    "    last string\n",
    "    flavor []string\n",
    "}\n",
    "\n",
    "func main() {\n",
    "    p1 := person {\n",
    "        \"Albert\",\n",
    "        \"Einstein\",\n",
    "        []string{\"No_idea\",\"No_idea_2\"},\n",
    "    }\n",
    "    p2 := person {\n",
    "        first: \"Elly\",\n",
    "        last: \"Bayona\",\n",
    "        flavor: []string{\"Vainilla!\",\"Chocolate\"},\n",
    "    }\n",
    "   \n",
    "    m := map[string]person{\n",
    "        p1.last: p1,\n",
    "        p2.last: p2,\n",
    "    }\n",
    "    \n",
    "    \n",
    "    for _,v:=range m {\n",
    "        fmt.Println(v.first)\n",
    "        fmt.Println(v.last)\n",
    "        for i,v2:= range v.flavor {\n",
    "            fmt.Println(i,v2)\n",
    "        }\n",
    "     fmt.Println(\"----\")\n",
    "\n",
    "    \n",
    "    }\n",
    "}\n",
    "main()"
   ]
  },
  {
   "cell_type": "markdown",
   "id": "7701d187",
   "metadata": {},
   "source": [
    "## Or a map in a struct"
   ]
  },
  {
   "cell_type": "code",
   "execution_count": 20,
   "id": "91e0fe67",
   "metadata": {},
   "outputs": [
    {
     "name": "stdout",
     "output_type": "stream",
     "text": [
      "James\n",
      "map[M:888 Moneypenny:555 Q:777]\n",
      "[Martini Water]\n",
      "Moneypenny 555\n",
      "Q 777\n",
      "M 888\n",
      "0 Martini\n",
      "1 Water\n"
     ]
    }
   ],
   "source": [
    "func main() {\n",
    "\n",
    "    s := struct {\n",
    "        first     string\n",
    "        friends   map[string]int\n",
    "        favDrinks []string\n",
    "    }{\n",
    "        first: \"James\",\n",
    "        friends: map[string]int{\n",
    "            \"Moneypenny\": 555,\n",
    "            \"Q\":          777,\n",
    "            \"M\":          888,\n",
    "        },\n",
    "        favDrinks: []string{\n",
    "            \"Martini\",\n",
    "            \"Water\",\n",
    "        },\n",
    "    }\n",
    "    fmt.Println(s.first)\n",
    "    fmt.Println(s.friends)\n",
    "    fmt.Println(s.favDrinks)\n",
    "\n",
    "    for k, v := range s.friends {\n",
    "        fmt.Println(k, v)\n",
    "    }\n",
    "\n",
    "    for i, val := range s.favDrinks {\n",
    "        fmt.Println(i, val)\n",
    "    }\n",
    "}\n",
    "main()"
   ]
  },
  {
   "cell_type": "markdown",
   "id": "43870afe",
   "metadata": {},
   "source": [
    "## Is Go an object-oriented language?\n",
    "Yes and no. Although Go has types and methods and allows an object-oriented style of programming, there is no type hierarchy. The concept of “interface” in Go provides a different approach that we believe is easy to use and in some ways more general. There are also ways to embed types in other types to provide something analogous—but not identical—to subclassing. Moreover, methods in Go are more general than in C++ or Java: they can be defined for any sort of data, even built-in types such as plain, “unboxed” integers. They are not restricted to structs (classes).\n",
    "\n",
    "Also, the lack of a type hierarchy makes “objects” in Go feel much more lightweight than in languages such as C++ or Java."
   ]
  },
  {
   "cell_type": "code",
   "execution_count": null,
   "id": "b2715ad4",
   "metadata": {},
   "outputs": [],
   "source": []
  },
  {
   "cell_type": "code",
   "execution_count": null,
   "id": "27939cc0",
   "metadata": {},
   "outputs": [],
   "source": []
  }
 ],
 "metadata": {
  "kernelspec": {
   "display_name": "Go",
   "language": "go",
   "name": "gophernotes"
  },
  "language_info": {
   "codemirror_mode": "",
   "file_extension": ".go",
   "mimetype": "",
   "name": "go",
   "nbconvert_exporter": "",
   "pygments_lexer": "",
   "version": "go1.20.3"
  }
 },
 "nbformat": 4,
 "nbformat_minor": 5
}

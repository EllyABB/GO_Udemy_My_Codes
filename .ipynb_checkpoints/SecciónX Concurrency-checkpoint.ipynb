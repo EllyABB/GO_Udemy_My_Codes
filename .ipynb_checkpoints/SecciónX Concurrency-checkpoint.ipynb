{
 "cells": [
  {
   "cell_type": "markdown",
   "id": "c69d903d",
   "metadata": {},
   "source": [
    "# SecciónX \n",
    "# Concurrency\n",
    "\n",
    "For an advanced level: https://www.youtube.com/@ardanlabs6339/playlists\n",
    "\n",
    "\n",
    "\n",
    "\n",
    "In programming, concurrency is the composition of independently\n",
    "executing processes, while parallelism is the simultaneous execution of (possibly\n",
    "related) computations.\n",
    "\n",
    "El código se escribe de forma tal que esté listo para ser mandado en paralelo. Esto es la concurrencia. Pero si solo tiene un procesador, solo podrá correr un proceso a la vez."
   ]
  },
  {
   "cell_type": "code",
   "execution_count": 1,
   "id": "27a5a72f",
   "metadata": {},
   "outputs": [],
   "source": [
    "import \"fmt\""
   ]
  },
  {
   "cell_type": "code",
   "execution_count": 4,
   "id": "da6ce450",
   "metadata": {},
   "outputs": [
    {
     "name": "stdout",
     "output_type": "stream",
     "text": [
      "Estoy en la func foo: 0\n",
      "Estoy en la func foo: 1\n",
      "Estoy en la func foo: 2\n",
      "Estoy en la func foo: 3\n",
      "Estoy en la func foo: 4\n",
      "ahora en bar: 0\n",
      "ahora en bar: 1\n",
      "ahora en bar: 2\n"
     ]
    }
   ],
   "source": [
    "func foo(){\n",
    "    for i :=0; i<5;i++{\n",
    "        fmt.Println(\"Estoy en la func foo:\",i)\n",
    "    }\n",
    "}\n",
    "\n",
    "func bar() {\n",
    "    for i:=0; i<3; i++{\n",
    "        fmt.Println(\"ahora en bar:\",i)\n",
    "    }\n",
    "}\n",
    "func main(){\n",
    "    foo()\n",
    "    bar()\n",
    "}\n",
    "main()"
   ]
  },
  {
   "cell_type": "markdown",
   "id": "d72c8083",
   "metadata": {},
   "source": [
    "## Runtime !\n",
    "Package runtime contains operations that interact with Go's runtime system, such as functions to control goroutines. It also includes the low-level type information used by the reflect package; see reflect's documentation for the programmable interface to the run-time type system. \n",
    "\n",
    "- https://pkg.go.dev/runtime\n"
   ]
  },
  {
   "cell_type": "code",
   "execution_count": 5,
   "id": "44b97633",
   "metadata": {},
   "outputs": [],
   "source": [
    "import \"runtime\""
   ]
  },
  {
   "cell_type": "code",
   "execution_count": 9,
   "id": "263ec895",
   "metadata": {},
   "outputs": [
    {
     "name": "stdout",
     "output_type": "stream",
     "text": [
      "OS\t\t linux\n",
      "ARCH\t\t amd64\n",
      "CPUs\t\t 4\n",
      "Goroutines\t 26\n"
     ]
    }
   ],
   "source": [
    "func foo(){\n",
    "    for i :=0; i<5;i++{\n",
    "        fmt.Println(\"Estoy en la func foo:\",i)\n",
    "    }\n",
    "}\n",
    "\n",
    "func bar() {\n",
    "    for i:=0; i<3; i++{\n",
    "        fmt.Println(\"ahora en bar:\",i)\n",
    "    }\n",
    "}\n",
    "func main(){\n",
    "    fmt.Println(\"OS\\t\\t\",runtime.GOOS)\n",
    "    fmt.Println(\"ARCH\\t\\t\",runtime.GOARCH)\n",
    "    fmt.Println(\"CPUs\\t\\t\",runtime.NumCPU())\n",
    "    fmt.Println(\"Goroutines\\t\",runtime.NumGoroutine())\n",
    "    \n",
    "}\n",
    "main()\n",
    "\n",
    "// Aca dice que tengo 8 CPUs https://go.dev/play/p/K2M2s3rm9NM"
   ]
  },
  {
   "cell_type": "markdown",
   "id": "3330625a",
   "metadata": {},
   "source": [
    "# Go routine:\n",
    " A goroutine has a simple model: it is a function executing concurrently with other goroutines in the same address space. \n",
    "\n",
    "Goroutines are multiplexed onto multiple OS threads so if one should block, such as while waiting for I/O, others continue to run. Their design hides many of the complexities of thread creation and management.\n",
    "\n",
    "\n",
    "The function value and parameters are evaluated as usual in the calling goroutine, but unlike with a regular call, program execution does not wait for the invoked function to complete. Instead, the function begins executing independently in a new goroutine. When the function terminates, its goroutine also terminates. **If the function has any return values, they are discarded when the function completes.** (Como errores o cosas así)\n",
    "\n",
    "\n",
    "## We're going to launch something into a go routine.\n",
    "Our control flow doesn't have to wait for this to execute it."
   ]
  },
  {
   "cell_type": "code",
   "execution_count": 11,
   "id": "f96ea71b",
   "metadata": {},
   "outputs": [
    {
     "name": "stdout",
     "output_type": "stream",
     "text": [
      "OS\t\t linux\n",
      "ARCH\t\t amd64\n",
      "CPUs\t\t 4\n",
      "Goroutines\t 26\n",
      "ahora en bar: 0\n",
      "ahora en bar: 1\n",
      "ahora en bar: 2\n",
      "CPUs\t\t 4\n",
      "Goroutines\t 27\n"
     ]
    }
   ],
   "source": [
    "func foo(){\n",
    "    for i :=0; i<5;i++{\n",
    "        fmt.Println(\"Estoy en la func foo:\",i)\n",
    "    }\n",
    "}\n",
    "\n",
    "func bar() {\n",
    "    for i:=0; i<3; i++{\n",
    "        fmt.Println(\"ahora en bar:\",i)\n",
    "    }\n",
    "}\n",
    "func main(){\n",
    "    fmt.Println(\"OS\\t\\t\",runtime.GOOS)\n",
    "    fmt.Println(\"ARCH\\t\\t\",runtime.GOARCH)\n",
    "    fmt.Println(\"CPUs\\t\\t\",runtime.NumCPU())\n",
    "    fmt.Println(\"Goroutines\\t\",runtime.NumGoroutine())\n",
    "    \n",
    "    go foo() // And that's like the main go routine. That's func main. The main go routine.\n",
    "             // Our control flow doesn't have to wait for this to execute it.\n",
    "    \n",
    "    bar()   // Then, In that time bar ran and the rest of things\n",
    "            // Then, when the program exited, everything shut down \n",
    "            // because when func main shuts down, program's done.\n",
    "            // even any go routines that you launched\n",
    "            // Then foo didn't run\n",
    "\n",
    "    fmt.Println(\"CPUs\\t\\t\",runtime.NumCPU())\n",
    "    fmt.Println(\"Goroutines\\t\",runtime.NumGoroutine())\n",
    "    \n",
    "}\n",
    "main()\n",
    "\n",
    "/// Now this code is concurrent code, but it's not running in parallel.\n",
    "\n",
    "/// we do have a concurrent design pattern because we used Go.\n",
    "\n",
    "/// FOO no está apareciendo!! No alcanza a ejecutarse cuando ya salimos del main() !!\n",
    "\n",
    "// Necesitamos que se sincronicen"
   ]
  },
  {
   "cell_type": "markdown",
   "id": "2e907c3e",
   "metadata": {},
   "source": [
    "Parentesis: (La función \n",
    "\n",
    "        func init(){\n",
    "    \n",
    "        }\n",
    "Inicializa antes que la func main() )"
   ]
  },
  {
   "cell_type": "markdown",
   "id": "9074e879",
   "metadata": {},
   "source": [
    "Necesitamos decirle a nuestras funciones que esperen. Esperen a que este código termine de correr.\n",
    "\n",
    "Por tanto vamos a usar wait groups\n",
    "\n",
    "## Wait groups:\n",
    "\n",
    "- https://pkg.go.dev/sync#WaitGroup\n",
    "\n",
    "Es una variable tipo struct. Entonces tendrá métodos atados a ella:\n",
    "\n",
    "        type WaitGroup struct {\n",
    "            // contains filtered or unexported fields\n",
    "        }"
   ]
  },
  {
   "cell_type": "code",
   "execution_count": 12,
   "id": "847631b3",
   "metadata": {},
   "outputs": [],
   "source": [
    "import \"sync\""
   ]
  },
  {
   "cell_type": "code",
   "execution_count": 14,
   "id": "b22e88df",
   "metadata": {},
   "outputs": [],
   "source": [
    "var wg sync.WaitGroup"
   ]
  },
  {
   "cell_type": "markdown",
   "id": "8328100d",
   "metadata": {},
   "source": [
    " type WaitGroup\n",
    "\n",
    "    -func (wg *WaitGroup) Add(delta int)     Atado a WaitGroup y le entra un entero\n",
    "    -func (wg *WaitGroup) Done()\n",
    "    -func (wg *WaitGroup) Wait()\n"
   ]
  },
  {
   "cell_type": "code",
   "execution_count": 2,
   "id": "1244afbc",
   "metadata": {},
   "outputs": [
    {
     "name": "stdout",
     "output_type": "stream",
     "text": [
      "OS\t\t linux\n",
      "ARCH\t\t amd64\n",
      "CPUs\t\t 4\n",
      "Goroutines\t 26\n",
      "ahora en bar: 0\n",
      "ahora en bar: 1\n",
      "ahora en bar: 2\n",
      "CPUs\t\t 4\n",
      "Goroutines\t 27\n",
      "Estoy en la func foo: 0\n",
      "Estoy en la func foo: 1\n",
      "Estoy en la func foo: 2\n",
      "Estoy en la func foo: 3\n",
      "Estoy en la func foo: 4\n"
     ]
    }
   ],
   "source": [
    "import (\n",
    "    \"fmt\"\n",
    "    \"runtime\"\n",
    "    \"sync\"\n",
    ")\n",
    "\n",
    "var wg sync.WaitGroup\n",
    "\n",
    "func foo(){\n",
    "    for i :=0; i<5;i++{\n",
    "        fmt.Println(\"Estoy en la func foo:\",i)\n",
    "    }\n",
    "    wg.Done()  // (3) Acabé, ya no me esperes. \n",
    "               //     Se quita esa cosa que añadimos para esperar\n",
    "}\n",
    "\n",
    "func bar() {\n",
    "    for i:=0; i<3; i++{\n",
    "        fmt.Println(\"ahora en bar:\",i)\n",
    "    }\n",
    "}\n",
    "func main(){\n",
    "    fmt.Println(\"OS\\t\\t\",runtime.GOOS)\n",
    "    fmt.Println(\"ARCH\\t\\t\",runtime.GOARCH)\n",
    "    fmt.Println(\"CPUs\\t\\t\",runtime.NumCPU())\n",
    "    fmt.Println(\"Goroutines\\t\",runtime.NumGoroutine())\n",
    "    \n",
    "    wg.Add(1) // (1) Hay una cosa que estoy esperando\n",
    "    go foo() \n",
    "    \n",
    "    bar()   \n",
    "\n",
    "    fmt.Println(\"CPUs\\t\\t\",runtime.NumCPU())\n",
    "    fmt.Println(\"Goroutines\\t\",runtime.NumGoroutine())\n",
    "    wg.Wait() // (2) espera eso que estoy esperando\n",
    "}\n",
    "main()"
   ]
  },
  {
   "cell_type": "markdown",
   "id": "2828df74",
   "metadata": {},
   "source": [
    "So that's using a synchronization primitive -> basic building block built into the language.\n",
    "\n",
    "It's primitive because it's kind of like also like old school, how you do concurrency.\n",
    "\n",
    "So I'm just using that, that phrase because that's using the standard documentation.\n",
    "\n",
    "But, but that's how you kind of like get the basics of concurrency going.\n",
    "\n"
   ]
  },
  {
   "cell_type": "markdown",
   "id": "80d48b28",
   "metadata": {},
   "source": [
    "## Go statements \n",
    "\n",
    "A go stat ementstart the execution or a function call as an independent concurrent thread of control, or goroutine, within **the same address space**"
   ]
  },
  {
   "cell_type": "markdown",
   "id": "1fa4e452",
   "metadata": {},
   "source": [
    "from effective go: https://go.dev/doc/effective_go#concurrency\n",
    "\n",
    "Concurrent programming in many environments is made difficult by the subtleties required to implement correct access to shared variables.\n",
    "\n",
    "Go fomenta un enfoque diferente en el que los valores compartidos se transmiten en los canales y, de hecho, nunca se comparten activamente mediante hilos de ejecución separados. Solo una gorutina tiene acceso al valor en un momento dado. Las carreras de datos no pueden ocurrir, por diseño. Para fomentar esta forma de pensar la hemos reducido a un eslogan:\n",
    "\n",
    "        No te comuniques compartiendo la memoria; en cambio, comparta la memoria   comunicándose.\n",
    "        \n",
    "El uso de canales para controlar el acceso facilita la escritura de programas claros y correctos."
   ]
  },
  {
   "cell_type": "code",
   "execution_count": null,
   "id": "c3102ca4",
   "metadata": {},
   "outputs": [],
   "source": []
  },
  {
   "cell_type": "markdown",
   "id": "99161d52",
   "metadata": {},
   "source": [
    "\n",
    "En resumen:\n",
    "\n",
    "They're called goroutines because the existing terms—threads, coroutines, processes, and so\n",
    "on—convey inaccurate connotations. A goroutine has a simple model: it is a function executing\n",
    "concurrently with other goroutines in the same address space."
   ]
  },
  {
   "cell_type": "markdown",
   "id": "9117e1d5",
   "metadata": {},
   "source": []
  },
  {
   "cell_type": "markdown",
   "id": "badb3a27",
   "metadata": {},
   "source": [
    "## GOMAXPROCS\n",
    "\n",
    "GOMAXPROCS sets the maximum number of CPUs that can be executing simultaneously and returns the previous setting. It defaults to the value of runtime.NumCPU. If n < 1, it does not change the current setting. This call will go away when the scheduler improves."
   ]
  },
  {
   "cell_type": "code",
   "execution_count": null,
   "id": "bf9fe425",
   "metadata": {},
   "outputs": [],
   "source": []
  },
  {
   "cell_type": "markdown",
   "id": "3eb7d7c3",
   "metadata": {},
   "source": [
    "# Race condition"
   ]
  },
  {
   "cell_type": "code",
   "execution_count": 16,
   "id": "7a525c1e",
   "metadata": {},
   "outputs": [
    {
     "name": "stdout",
     "output_type": "stream",
     "text": [
      "NumCPU 4\n",
      "Goroutines 26\n",
      "Goroutines 126\n"
     ]
    }
   ],
   "source": [
    "// Por default GOMAXPROcs\n",
    "\n",
    "import \"runtime\"\n",
    "func main(){\n",
    "    \n",
    "    fmt.Println(\"NumCPU\",runtime.NumCPU())\n",
    "    fmt.Println(\"Goroutines\",runtime.NumGoroutine())\n",
    "    counter :=0\n",
    "    \n",
    "    const gs = 100    // This is the number of goroutines\n",
    "    \n",
    "    for i := 0 ;  i < gs;  i++ {\n",
    "        go func(){\n",
    "            v:= counter    // This i only visible in func\n",
    "            v++\n",
    "            counter =v\n",
    "            fmt.Println(\"algo\")   \n",
    "        }()\n",
    "    }\n",
    "    fmt.Println(\"Goroutines\",runtime.NumGoroutine())\n",
    "}\n",
    "main()\n",
    "\n",
    "/// Creo que no hace nada porque al igual que el primer programa, no estoy \n",
    "//  diciéndole que espere"
   ]
  },
  {
   "cell_type": "markdown",
   "id": "f87b75a9",
   "metadata": {},
   "source": [
    "## Gosched\n",
    "Gosched yields the processor, allowing other goroutines to run. It does not suspend the current goroutine, so execution resumes automatically.\n",
    "- https://pkg.go.dev/runtime#Gosched"
   ]
  },
  {
   "cell_type": "code",
   "execution_count": null,
   "id": "ddb0d893",
   "metadata": {},
   "outputs": [],
   "source": []
  },
  {
   "cell_type": "code",
   "execution_count": 3,
   "id": "994c19f2",
   "metadata": {},
   "outputs": [
    {
     "name": "stdout",
     "output_type": "stream",
     "text": [
      "NumCPU 4\n",
      "Goroutines 26\n",
      "Goroutines 26\n",
      "Counter 5\n"
     ]
    }
   ],
   "source": [
    "// Ahora le diremos al anterior programa que espere\n",
    "\n",
    "// Estamos creando una race condition\n",
    "import (\n",
    "    \"fmt\"\n",
    "    \"runtime\"\n",
    "    \"sync\"\n",
    ")\n",
    "\n",
    "func main(){\n",
    "    \n",
    "    fmt.Println(\"NumCPU\",runtime.NumCPU())\n",
    "    fmt.Println(\"Goroutines\",runtime.NumGoroutine())\n",
    "    counter :=0\n",
    "    \n",
    "    const gs = 100 \n",
    "    var wt sync.WaitGroup   // Aca creamos ese tipo de variable\n",
    "    wt.Add(gs)              // Aca añadimos que espere... 100 veces?\n",
    "    \n",
    "    for i := 0 ;  i < gs;  i++ {\n",
    "        go func(){\n",
    "            v:= counter    \n",
    "            \n",
    "            runtime.Gosched() // Básicamente dice: Adelánte! y corre algo más si tu quieres \n",
    "                              // Si queremos tambien podemos tener sleep\n",
    "            \n",
    "            //time.Sleep(time.Second)       // Esta dormirá por una cierta duración (1s)\n",
    "                                            // no se usa para no usar goshed al mismo tiempo\n",
    "            v++\n",
    "            counter =v\n",
    "            //fmt.Println(\"algo\")\n",
    "            \n",
    "            wt.Done()  //Debo asegurarme de que esté dentro de mi funcion. Porque\n",
    "                       //cuando la función termine de ejecutar es cuando doy por finalizada \n",
    "                       //ejecución\n",
    "            \n",
    "        }()\n",
    "    }\n",
    "    wt.Wait() // No salgas del programa hasta que todo halla terminado!\n",
    "    fmt.Println(\"Goroutines\",runtime.NumGoroutine())\n",
    "    fmt.Println(\"Counter\",counter)\n",
    "    \n",
    "}\n",
    "main()\n",
    "\n"
   ]
  },
  {
   "cell_type": "markdown",
   "id": "80f33ad1",
   "metadata": {},
   "source": [
    "Que pasa si metemos el print de goroutines dentro del for?"
   ]
  },
  {
   "cell_type": "code",
   "execution_count": 5,
   "id": "d629c869",
   "metadata": {},
   "outputs": [
    {
     "name": "stdout",
     "output_type": "stream",
     "text": [
      "NumCPU 4\n",
      "Goroutines 26\n",
      "Goroutines 27\n",
      "Goroutines 28\n",
      "Goroutines 29\n",
      "Goroutines 30\n",
      "Goroutines 31\n",
      "Goroutines 32\n",
      "Goroutines 33\n",
      "Goroutines 34\n",
      "Goroutines 35\n",
      "Goroutines 36\n",
      "Goroutines 26\n",
      "Counter 2\n"
     ]
    }
   ],
   "source": [
    "func main(){\n",
    "    \n",
    "    fmt.Println(\"NumCPU\",runtime.NumCPU())\n",
    "    fmt.Println(\"Goroutines\",runtime.NumGoroutine())\n",
    "    counter :=0\n",
    "    \n",
    "    const gs = 10\n",
    "    var wt sync.WaitGroup   \n",
    "    wt.Add(gs)              \n",
    "    \n",
    "    for i := 0 ;  i < gs;  i++ {\n",
    "        go func(){\n",
    "            v:= counter    \n",
    "            \n",
    "            runtime.Gosched() \n",
    "            v++\n",
    "            counter =v\n",
    "            \n",
    "            wt.Done()  \n",
    "            \n",
    "        }()\n",
    "        fmt.Println(\"Goroutines\",runtime.NumGoroutine())\n",
    "        \n",
    "    }\n",
    "    wt.Wait() \n",
    "    fmt.Println(\"Goroutines\",runtime.NumGoroutine()) // Acá vuelve a dar 26, porque ya \n",
    "                                                     // finalizó lo que tenía que hacer.\n",
    "    fmt.Println(\"Counter\",counter)\n",
    "    \n",
    "}\n",
    "main()\n",
    "\n",
    "// Nota el contador!!! Está en dos!"
   ]
  },
  {
   "cell_type": "code",
   "execution_count": 8,
   "id": "2065c24d",
   "metadata": {},
   "outputs": [
    {
     "name": "stdout",
     "output_type": "stream",
     "text": [
      "NumCPU 4\n",
      "Goroutines 26\n",
      "Counter 0\n",
      "Counter 0\n",
      "Counter 0\n",
      "Counter 0\n",
      "Counter 0\n",
      "Counter 0\n",
      "Counter 0\n",
      "Counter 0\n",
      "Counter 0\n",
      "Counter 0\n",
      "Goroutines 26\n",
      "Counter 1\n"
     ]
    }
   ],
   "source": [
    "func main(){\n",
    "    \n",
    "    fmt.Println(\"NumCPU\",runtime.NumCPU())\n",
    "    fmt.Println(\"Goroutines\",runtime.NumGoroutine())\n",
    "    counter :=0\n",
    "    \n",
    "    const gs = 10\n",
    "    var wt sync.WaitGroup   \n",
    "    wt.Add(gs)              \n",
    "    \n",
    "    for i := 0 ;  i < gs;  i++ {\n",
    "        go func(){\n",
    "            v:= counter    \n",
    "            \n",
    "            runtime.Gosched() // this one is cleaner\n",
    "            v++\n",
    "            counter =v\n",
    "            \n",
    "            wt.Done()  \n",
    "            \n",
    "        }()\n",
    "        fmt.Println(\"Counter\",counter)     \n",
    "    }\n",
    "    \n",
    "    wt.Wait() \n",
    "    fmt.Println(\"Goroutines\",runtime.NumGoroutine()) \n",
    "    fmt.Println(\"Counter\",counter)\n",
    "    \n",
    "}\n",
    "main()\n",
    "\n",
    "// Nota el contador!!! Está en dos!"
   ]
  },
  {
   "cell_type": "code",
   "execution_count": null,
   "id": "461c3ec1",
   "metadata": {},
   "outputs": [],
   "source": []
  },
  {
   "cell_type": "markdown",
   "id": "5d5339dc",
   "metadata": {},
   "source": [
    "## time.Sleep() \n",
    "se utiliza para introducir un retraso o pausa en la ejecución de un programa o una rutina específica. Le permite controlar el tiempo de las operaciones de su programa o crear un comportamiento basado en el tiempo.\n",
    "\n",
    "Estos son algunos casos de uso comunes para usar time.Sleep():\n",
    "\n",
    "     - Control del flujo de ejecución: puede usar time.Sleep() para introducir demoras entre operaciones o para controlar el tiempo de ciertas acciones. Por ejemplo, es posible que desee esperar una cantidad de tiempo específica antes de realizar una determinada tarea o repetir una operación a intervalos regulares.\n",
    "\n",
    "     - Limitación de velocidad: time.Sleep() se puede usar para limitar la velocidad a la que se realizan ciertas operaciones. Al introducir un retraso entre iteraciones o acciones, puede controlar la velocidad a la que se ejecuta un proceso u operación.\n",
    "\n",
    "     - Simulación de latencia: time.Sleep() se usa a menudo en escenarios de prueba para simular latencia o respuestas lentas. Le permite emular condiciones del mundo real donde puede haber retrasos en la comunicación de la red u otras operaciones dependientes del tiempo.\n",
    "\n",
    "     - Sincronización: en la programación concurrente, time.Sleep() se puede usar como un mecanismo de sincronización simple. Al introducir una pausa, puede coordinar la ejecución de diferentes rutinas o asegurarse de que ciertas operaciones se realicen en un orden específico.\n",
    "\n",
    "Vale la pena señalar que time.Sleep() es una operación de bloqueo, lo que significa que pausará la ejecución de la rutina actual durante el tiempo especificado. Durante este tiempo, la rutina go no consumirá recursos de la CPU y el planificador de Go no programará su ejecución."
   ]
  },
  {
   "cell_type": "markdown",
   "id": "048a0573",
   "metadata": {},
   "source": [
    "##  Entonces una race condition\n",
    "\n",
    "Cada rutina incrementa la variable contador, que está compartida, en 1, repetidamente 100 veces. Después de completar las rutinas, se pinta el valor final del contador.\n",
    "\n",
    "Sin embargo, dado que las gorrutinas acceden y modifican la variable de contador al mismo tiempo sin ningún mecanismo de sincronización, se produce una condición de carrera (race). El resultado del programa se vuelve impredecible y **diferentes ejecuciones del programa pueden producir resultados diferentes**.\n",
    "\n",
    "La condición de carrera surge porque las dos gorrutinas pueden acceder a la variable de contador simultáneamente e intentar incrementarla al mismo tiempo. Según el intercalado y la programación de las rutinas, el valor final del contador puede ser incoherente o incorrecto.\n",
    "\n",
    "Para abordar las condiciones de carrera en Go, debe usar los mecanismos de sincronización adecuados como, canales u otras primitivas de concurrencia. Estos mecanismos aseguran que solo una gorutina pueda acceder a los datos compartidos a la vez, evitando modificaciones simultáneas que pueden conducir a condiciones de carrera."
   ]
  },
  {
   "cell_type": "markdown",
   "id": "cbe6e38a",
   "metadata": {},
   "source": [
    "Para correr en terminal:\n",
    "\n",
    "> \\>go run -race name.go\n",
    "\n",
    "Me dice que hay dos carreras!!<br>\n",
    "Para arreglarlo usemos mutex!!"
   ]
  },
  {
   "cell_type": "markdown",
   "id": "c1b65d41",
   "metadata": {},
   "source": [
    "-------------------------------------\n",
    "Ok otra vez.\n",
    "\n",
    "Race condition ocurre porque multiples goroutines están accediendo a la misma variable (counter)\n",
    "\n",
    "\n",
    "Lo que se hará para solucionarlo es que cuando una goroutine acceda a una variable compartida, nadie podrá hacer nada hasta que la devuelva. Y lo desbloqueo, la ejecución. \n",
    "Hasta entonces, otras goroutines pueden usar la variable\n"
   ]
  },
  {
   "cell_type": "code",
   "execution_count": 5,
   "id": "c68e2652",
   "metadata": {},
   "outputs": [
    {
     "name": "stdout",
     "output_type": "stream",
     "text": [
      "NumCPU 4\n",
      "Goroutines 26\n",
      "Goroutines 27\n",
      "Goroutines 28\n",
      "Goroutines 29\n",
      "Goroutines 30\n",
      "Goroutines 31\n",
      "Goroutines 32\n",
      "Goroutines 33\n",
      "Goroutines 34\n",
      "Goroutines 35\n",
      "Goroutines 36\n",
      "Goroutines 26\n",
      "Counter 2\n"
     ]
    }
   ],
   "source": [
    "func main(){\n",
    "    \n",
    "    fmt.Println(\"NumCPU\",runtime.NumCPU())\n",
    "    fmt.Println(\"Goroutines\",runtime.NumGoroutine())\n",
    "    counter :=0\n",
    "    \n",
    "    const gs = 10\n",
    "    var wt sync.WaitGroup   \n",
    "    wt.Add(gs)   \n",
    "    \n",
    "    \n",
    "    var mu sync.Mutex //// Acá solucionamos el lío\n",
    "    \n",
    "    \n",
    "    \n",
    "    for i := 0 ;  i < gs;  i++ {\n",
    "        go func(){\n",
    "            mu.Lock()     // esta bloquea\n",
    "            \n",
    "            v:= counter    \n",
    "            \n",
    "            runtime.Gosched() \n",
    "            v++\n",
    "            counter =v\n",
    "            \n",
    "            mu.Unlock()  // acá se desbloquea\n",
    "            wt.Done()  \n",
    "            \n",
    "        }()\n",
    "        fmt.Println(\"Counter\",counter)     \n",
    "    }\n",
    "    \n",
    "    wt.Wait() \n",
    "    fmt.Println(\"Goroutines\",runtime.NumGoroutine()) \n",
    "    fmt.Println(\"Counter\",counter)\n",
    "    \n",
    "}\n",
    "main()"
   ]
  },
  {
   "cell_type": "markdown",
   "id": "4ba817a8",
   "metadata": {},
   "source": [
    "## si corro ahora en terminal \\>go run -race name.go\n",
    "Ya no aparece que hay alguna race"
   ]
  },
  {
   "cell_type": "markdown",
   "id": "8207df89",
   "metadata": {},
   "source": [
    "## Mutex \n",
    "\n",
    "## RWMutex\n",
    "\n",
    "Esta última tiene más flexibilidad. Porque permite que las variables sean leidas pero bloqueadas para escritura.\n",
    "Lecturas ilimitadas al mismo tiempo.\n",
    "- https://pkg.go.dev/sync#pkg-index"
   ]
  },
  {
   "cell_type": "markdown",
   "id": "bd63b406",
   "metadata": {},
   "source": [
    "# Atomic"
   ]
  },
  {
   "cell_type": "markdown",
   "id": "be1a9b20",
   "metadata": {},
   "source": [
    "Hay otra forma de prevenirlo y es con Atomic:\n",
    "\n",
    "https://pkg.go.dev/sync/atomic@go1.20.4\n",
    "\n",
    "Un sub paquete de sync: Package atomic provides low-level atomic memory primitives useful for implementing synchronization algorithms. \n",
    "\n",
    "These functions require great care to be used correctly. Except for special, low-level applications, synchronization is better done with channels or the facilities of the sync package. Share memory by communicating; don't communicate by sharing memory. \n",
    "\n",
    "\n",
    "Cada vez que veas int64 deberias pensar en el paquete Atomic"
   ]
  },
  {
   "cell_type": "code",
   "execution_count": null,
   "id": "16090957",
   "metadata": {},
   "outputs": [],
   "source": []
  }
 ],
 "metadata": {
  "kernelspec": {
   "display_name": "Go",
   "language": "go",
   "name": "gophernotes"
  },
  "language_info": {
   "codemirror_mode": "",
   "file_extension": ".go",
   "mimetype": "",
   "name": "go",
   "nbconvert_exporter": "",
   "pygments_lexer": "",
   "version": "go1.20.3"
  }
 },
 "nbformat": 4,
 "nbformat_minor": 5
}

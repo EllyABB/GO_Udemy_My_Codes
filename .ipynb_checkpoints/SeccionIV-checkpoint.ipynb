{
 "cells": [
  {
   "cell_type": "markdown",
   "id": "1c53f9ff",
   "metadata": {},
   "source": [
    "Recordar que está efective go (más práctico): https://go.dev/doc/effective_go"
   ]
  },
  {
   "cell_type": "markdown",
   "id": "9b6f302f",
   "metadata": {},
   "source": [
    "# Sección IV\n",
    "# Control Flow\n",
    "\n",
    "Ciclos for, switch etc"
   ]
  },
  {
   "cell_type": "markdown",
   "id": "cc00119f",
   "metadata": {},
   "source": [
    "<div class=\"alert alert-block alert-warning\">\n",
    "<b>Cuidado!:</b> En Go no existe el ciclo WHILE.\n",
    "</div>"
   ]
  },
  {
   "cell_type": "markdown",
   "id": "9cf4bb21",
   "metadata": {},
   "source": [
    "## For:\n",
    "\n",
    "Tiene 3 formas de funcionar (Que reemplazan el While).\n",
    "https://go.dev/doc/effective_go#for\n",
    "\n",
    "- Like a for\n",
    "\n",
    "    for init; condition; post { }\n",
    "\n",
    "<br>\n",
    "<br>\n",
    "- Like a while\n",
    "\n",
    "     for condition { }\n",
    "\n",
    "<br>\n",
    "<br>\n",
    "\n",
    "- Like a simple for\n",
    "\n",
    "     for { }"
   ]
  },
  {
   "cell_type": "code",
   "execution_count": 42,
   "id": "dac994e9",
   "metadata": {},
   "outputs": [],
   "source": [
    "package main\n",
    "\n",
    "import (\n",
    "    \"fmt\"\n",
    ")\n"
   ]
  },
  {
   "cell_type": "code",
   "execution_count": 6,
   "id": "d29b82ad",
   "metadata": {},
   "outputs": [
    {
     "name": "stdout",
     "output_type": "stream",
     "text": [
      "0\n",
      "1\n",
      "2\n",
      "3\n",
      "4\n",
      "5\n",
      "6\n",
      "7\n",
      "8\n",
      "9\n",
      "10\n"
     ]
    }
   ],
   "source": [
    "func main() {\n",
    "    // for init; condition; post {}\n",
    "    for i := 0; i <= 10; i++ {\n",
    "        fmt.Println(i)\n",
    "    }\n",
    "}\n",
    "main()"
   ]
  },
  {
   "cell_type": "markdown",
   "id": "a835c9f8",
   "metadata": {},
   "source": [
    "## Nested"
   ]
  },
  {
   "cell_type": "code",
   "execution_count": 1,
   "id": "6487b4e7",
   "metadata": {},
   "outputs": [
    {
     "name": "stdout",
     "output_type": "stream",
     "text": [
      "The outer loop: 0\n",
      "\t\t The inner loop: 0\n",
      "\t\t The inner loop: 1\n",
      "\t\t The inner loop: 2\n",
      "The outer loop: 1\n",
      "\t\t The inner loop: 0\n",
      "\t\t The inner loop: 1\n",
      "\t\t The inner loop: 2\n",
      "The outer loop: 2\n",
      "\t\t The inner loop: 0\n",
      "\t\t The inner loop: 1\n",
      "\t\t The inner loop: 2\n",
      "The outer loop: 3\n",
      "\t\t The inner loop: 0\n",
      "\t\t The inner loop: 1\n",
      "\t\t The inner loop: 2\n",
      "The outer loop: 4\n",
      "\t\t The inner loop: 0\n",
      "\t\t The inner loop: 1\n",
      "\t\t The inner loop: 2\n",
      "The outer loop: 5\n",
      "\t\t The inner loop: 0\n",
      "\t\t The inner loop: 1\n",
      "\t\t The inner loop: 2\n"
     ]
    }
   ],
   "source": [
    "package main\n",
    "\n",
    "import (\n",
    "    \"fmt\"\n",
    ")\n",
    "\n",
    "func main() {\n",
    "    // for init; condition; post {}\n",
    "    for i := 0; i <= 5; i++ {\n",
    "        fmt.Printf(\"The outer loop: %d\\n\", i)\n",
    "        \n",
    "        for j := 0; j < 3; j++ {\n",
    "            fmt.Printf(\"\\t\\t The inner loop: %d\\n\", j)\n",
    "            }\n",
    "        }\n",
    "}\n",
    "main()"
   ]
  },
  {
   "cell_type": "code",
   "execution_count": 2,
   "id": "037a5085",
   "metadata": {},
   "outputs": [
    {
     "name": "stdout",
     "output_type": "stream",
     "text": [
      "1\n",
      "2\n",
      "4\n",
      "8\n",
      "done.\n"
     ]
    }
   ],
   "source": [
    "package main\n",
    "\n",
    "import (\n",
    "    \"fmt\"\n",
    ")\n",
    "\n",
    "func main() {\n",
    "    x := 1\n",
    "    for x < 10 {\n",
    "    fmt.Println(x)\n",
    "        x*=2\n",
    "    }\n",
    "    fmt.Println(\"done.\")\n",
    "}\n",
    "main()"
   ]
  },
  {
   "cell_type": "code",
   "execution_count": 10,
   "id": "1c97cecb",
   "metadata": {},
   "outputs": [
    {
     "name": "stdout",
     "output_type": "stream",
     "text": [
      "1\n",
      "2\n",
      "3\n",
      "4\n",
      "5\n",
      "6\n",
      "7\n",
      "8\n",
      "9\n",
      "done.\n"
     ]
    }
   ],
   "source": [
    "package main\n",
    "\n",
    "import (\n",
    "    \"fmt\"\n",
    ")\n",
    "\n",
    "func main() {\n",
    "    x := 1\n",
    "    for {\n",
    "        if x > 9 {\n",
    "            break\n",
    "        }\n",
    "        fmt.Println(x)\n",
    "        x++\n",
    "    }\n",
    "    fmt.Println(\"done.\")\n",
    "}\n",
    "main()"
   ]
  },
  {
   "cell_type": "markdown",
   "id": "7c8cb1ac",
   "metadata": {},
   "source": [
    "<div class=\"alert alert-block alert-warning\">\n",
    "<b>Cuidado!:</b> El WHILE sería esos for sin condiciones.<br>\n",
    "    El BREAK funciona igual que siempre.\n",
    "</div>"
   ]
  },
  {
   "cell_type": "markdown",
   "id": "ebe5ea2b",
   "metadata": {},
   "source": [
    "## Break and Continue keyword in loops\n",
    "\n",
    "**Continue** ignora todo lo que venga despues.\n",
    "\n",
    "Tener cuidado con que x++ esté antes de un **continue**"
   ]
  },
  {
   "cell_type": "code",
   "execution_count": 4,
   "id": "a675d3f9",
   "metadata": {
    "scrolled": true
   },
   "outputs": [
    {
     "name": "stdout",
     "output_type": "stream",
     "text": [
      "2\n",
      "4\n",
      "6\n",
      "8\n",
      "10\n",
      "done.\n"
     ]
    }
   ],
   "source": [
    "func main() {\n",
    "    x := 1\n",
    "    for {\n",
    "        x++\n",
    "        if x > 10 {\n",
    "            break\n",
    "        }\n",
    "\n",
    "        if x%2 != 0 {\n",
    "            continue\n",
    "        }\n",
    "\n",
    "        fmt.Println(x)\n",
    "    }\n",
    "    fmt.Println(\"done.\")\n",
    "}\n",
    "main()"
   ]
  },
  {
   "cell_type": "markdown",
   "id": "a68531d1",
   "metadata": {},
   "source": [
    "## Conditional - if statement"
   ]
  },
  {
   "cell_type": "code",
   "execution_count": 16,
   "id": "c8a19152",
   "metadata": {},
   "outputs": [
    {
     "name": "stdout",
     "output_type": "stream",
     "text": [
      "001\n",
      "004\n",
      "005\n"
     ]
    }
   ],
   "source": [
    "func main() {\n",
    "    if true {\n",
    "        fmt.Println(\"001\")\n",
    "    }\n",
    "\n",
    "    if false {\n",
    "        fmt.Println(\"002\")\n",
    "    }\n",
    "\n",
    "    if !true {\n",
    "        fmt.Println(\"003\")\n",
    "    }\n",
    "\n",
    "    if !false {\n",
    "        fmt.Println(\"004\")\n",
    "    }\n",
    "\n",
    "    if 2 == 2 {\n",
    "        fmt.Println(\"005\")\n",
    "    }\n",
    "    if !(2 == 2) {\n",
    "        fmt.Println(\"006\")\n",
    "    }\n",
    "}\n",
    "main()"
   ]
  },
  {
   "cell_type": "markdown",
   "id": "b3f5edc2",
   "metadata": {},
   "source": [
    "<div class=\"alert alert-block alert-info\">\n",
    "<b>Tip:</b> Si queremos dos statements en una linea usamos el ;\n",
    "</div>"
   ]
  },
  {
   "cell_type": "markdown",
   "id": "d190fcbd",
   "metadata": {},
   "source": [
    "## The initialization statement\n",
    "\n"
   ]
  },
  {
   "cell_type": "code",
   "execution_count": 19,
   "id": "9109143e",
   "metadata": {},
   "outputs": [],
   "source": [
    "func main() {\n",
    "    if x := 42; x == 42 {\n",
    "        fmt.Println(\"001\")\n",
    "    }\n",
    "}\n"
   ]
  },
  {
   "cell_type": "markdown",
   "id": "9ae60860",
   "metadata": {},
   "source": [
    "<div class=\"alert alert-block alert-info\">\n",
    "<b>Tip:</b> El alcance de x está solo en el if !!! <br>\n",
    "     Es una forma de limitar el alcance de x.\n",
    "</div>"
   ]
  },
  {
   "cell_type": "code",
   "execution_count": 20,
   "id": "059c9054",
   "metadata": {},
   "outputs": [
    {
     "ename": "ERROR",
     "evalue": "repl.go:5:17: undefined identifier: x",
     "output_type": "error",
     "traceback": [
      "repl.go:5:17: undefined identifier: x"
     ]
    }
   ],
   "source": [
    "func main() {\n",
    "    if x := 42; x == 42 {\n",
    "        fmt.Println(\"001\")\n",
    "    }\n",
    "    fmt.Println(x)\n",
    "}\n"
   ]
  },
  {
   "cell_type": "markdown",
   "id": "850c9960",
   "metadata": {},
   "source": [
    "## else y else if:"
   ]
  },
  {
   "cell_type": "code",
   "execution_count": 38,
   "id": "d5465554",
   "metadata": {},
   "outputs": [
    {
     "name": "stdout",
     "output_type": "stream",
     "text": [
      "our value was not 40\n"
     ]
    }
   ],
   "source": [
    "func main() {\n",
    "    x := 42\n",
    "    if x == 40 {\n",
    "        fmt.Println(\"our value was 40\")\n",
    "    } else {\n",
    "        fmt.Println(\"our value was not 40\")\n",
    "    }\n",
    "}\n",
    "main()"
   ]
  },
  {
   "cell_type": "code",
   "execution_count": 39,
   "id": "10195f32",
   "metadata": {},
   "outputs": [
    {
     "name": "stdout",
     "output_type": "stream",
     "text": [
      "our value was not 40 or 41\n"
     ]
    }
   ],
   "source": [
    "func main() {\n",
    "    x := 434\n",
    "    if x == 40 {\n",
    "        fmt.Println(\"our value was 40\")\n",
    "    } else if x == 41 {\n",
    "        fmt.Println(\"our value was 41\")\n",
    "    } else {\n",
    "        fmt.Println(\"our value was not 40 or 41\")\n",
    "    }\n",
    "}\n",
    "main()"
   ]
  },
  {
   "cell_type": "markdown",
   "id": "c928d7fa",
   "metadata": {},
   "source": [
    "\n",
    "<div class=\"alert alert-block alert-danger\">\n",
    "<b>Cuidado!</b> La sintaxis correcta es:<br>\n",
    "\n",
    "    \n",
    "        } else \n",
    "    \n",
    "Si se pone un enter, dará error.\n",
    "</div>\n",
    "\n",
    "\n"
   ]
  },
  {
   "cell_type": "code",
   "execution_count": 55,
   "id": "c38b24fb",
   "metadata": {},
   "outputs": [
    {
     "ename": "ERROR",
     "evalue": "repl.go:5:10: duplicate case {bool true} <untyped.Lit> in switch\n\tprevious case at repl.go:3:10",
     "output_type": "error",
     "traceback": [
      "repl.go:5:10: duplicate case {bool true} <untyped.Lit> in switch\n\tprevious case at repl.go:3:10"
     ]
    }
   ],
   "source": [
    "func main() {\n",
    "    switch {\n",
    "    case true:\n",
    "        fmt.Println(\"this should not print\")\n",
    "    case true:\n",
    "        fmt.Println(\"this should not print2\")\n",
    "    }\n",
    "}\n",
    "main()"
   ]
  },
  {
   "cell_type": "code",
   "execution_count": 58,
   "id": "028e04d2",
   "metadata": {},
   "outputs": [
    {
     "ename": "ERROR",
     "evalue": "repl.go:5:9: return: expecting 0 expressions, found 1: return c - '0'",
     "output_type": "error",
     "traceback": [
      "repl.go:5:9: return: expecting 0 expressions, found 1: return c - '0'"
     ]
    }
   ],
   "source": [
    "func main() {\n",
    "    c:= 'A'\n",
    "    switch {\n",
    "    case '0' <= c && c <= '9':\n",
    "        return c - '0'\n",
    "    case 'a' <= c && c <= 'f':\n",
    "        return c - 'a' + 10\n",
    "    case 'A' <= c && c <= 'F':\n",
    "        return c - 'A' + 10\n",
    "    }\n",
    "}"
   ]
  },
  {
   "cell_type": "markdown",
   "id": "4be805f6",
   "metadata": {},
   "source": [
    "<div class=\"alert alert-block alert-danger\">\n",
    "<b>Just don't:</b> Switch doesnt work well on jupyter<br>\n",
    "Go failed.\n",
    "</div>\n"
   ]
  },
  {
   "cell_type": "code",
   "execution_count": 59,
   "id": "141d1f0a",
   "metadata": {},
   "outputs": [],
   "source": [
    "func unhex(c byte) byte {\n",
    "    switch {\n",
    "    case '0' <= c && c <= '9':\n",
    "        return c - '0'\n",
    "    case 'a' <= c && c <= 'f':\n",
    "        return c - 'a' + 10\n",
    "    case 'A' <= c && c <= 'F':\n",
    "        return c - 'A' + 10\n",
    "    }\n",
    "    return 0\n",
    "}"
   ]
  },
  {
   "cell_type": "code",
   "execution_count": null,
   "id": "2ac923c0",
   "metadata": {},
   "outputs": [],
   "source": []
  },
  {
   "cell_type": "code",
   "execution_count": null,
   "id": "5cefd6a3",
   "metadata": {},
   "outputs": [],
   "source": []
  },
  {
   "cell_type": "markdown",
   "id": "c04eeb20",
   "metadata": {},
   "source": [
    "## Conditional logic operators\n",
    "\n",
    "&& -> y \n",
    "\n",
    "||  -> o\n",
    "\n",
    "!   -> ¬ (not)"
   ]
  },
  {
   "cell_type": "code",
   "execution_count": 60,
   "id": "3793771f",
   "metadata": {},
   "outputs": [
    {
     "name": "stdout",
     "output_type": "stream",
     "text": [
      "true && true\t true\n",
      "true && false\t false\n",
      "true || true\t true\n",
      "true || false\t true\n",
      "!true\t\t false\n",
      "!false\t\t true\n"
     ]
    }
   ],
   "source": [
    "func main() {\n",
    "    fmt.Printf(\"true && true\\t %v\\n\", true && true)\n",
    "    fmt.Printf(\"true && false\\t %v\\n\", true && false)\n",
    "    fmt.Printf(\"true || true\\t %v\\n\", true || true)\n",
    "    fmt.Printf(\"true || false\\t %v\\n\", true || false)\n",
    "    fmt.Printf(\"!true\\t\\t %v\\n\", !true)\n",
    "    fmt.Printf(\"!false\\t\\t %v\\n\", !false)\n",
    "}\n",
    "main()"
   ]
  },
  {
   "cell_type": "markdown",
   "id": "d6db615e",
   "metadata": {},
   "source": [
    "Reto: Que el código arroje las letras del abecedario. Usando el codigo UTF"
   ]
  },
  {
   "cell_type": "code",
   "execution_count": 61,
   "id": "a57a2679",
   "metadata": {},
   "outputs": [
    {
     "name": "stdout",
     "output_type": "stream",
     "text": [
      "U+0021 '!'\n",
      "\n",
      "U+0022 '\"'\n",
      "\n",
      "U+0023 '#'\n",
      "\n",
      "U+0024 '$'\n",
      "\n",
      "U+0025 '%'\n",
      "\n",
      "U+0026 '&'\n",
      "\n",
      "U+0027 '''\n",
      "\n",
      "U+0028 '('\n",
      "\n",
      "U+0029 ')'\n",
      "\n",
      "U+002A '*'\n",
      "\n",
      "U+002B '+'\n",
      "\n",
      "U+002C ','\n",
      "\n",
      "U+002D '-'\n",
      "\n",
      "U+002E '.'\n",
      "\n",
      "U+002F '/'\n",
      "\n",
      "U+0030 '0'\n",
      "\n",
      "U+0031 '1'\n",
      "\n",
      "U+0032 '2'\n",
      "\n",
      "U+0033 '3'\n",
      "\n",
      "U+0034 '4'\n",
      "\n",
      "U+0035 '5'\n",
      "\n",
      "U+0036 '6'\n",
      "\n",
      "U+0037 '7'\n",
      "\n",
      "U+0038 '8'\n",
      "\n",
      "U+0039 '9'\n",
      "\n",
      "U+003A ':'\n",
      "\n",
      "U+003B ';'\n",
      "\n",
      "U+003C '<'\n",
      "\n",
      "U+003D '='\n",
      "\n",
      "U+003E '>'\n",
      "\n",
      "U+003F '?'\n",
      "\n",
      "U+0040 '@'\n",
      "\n",
      "U+0041 'A'\n",
      "\n",
      "U+0042 'B'\n",
      "\n",
      "U+0043 'C'\n",
      "\n",
      "U+0044 'D'\n",
      "\n",
      "U+0045 'E'\n",
      "\n",
      "U+0046 'F'\n",
      "\n",
      "U+0047 'G'\n",
      "\n",
      "U+0048 'H'\n",
      "\n",
      "U+0049 'I'\n",
      "\n",
      "U+004A 'J'\n",
      "\n",
      "U+004B 'K'\n",
      "\n",
      "U+004C 'L'\n",
      "\n",
      "U+004D 'M'\n",
      "\n",
      "U+004E 'N'\n",
      "\n",
      "U+004F 'O'\n",
      "\n",
      "U+0050 'P'\n",
      "\n",
      "U+0051 'Q'\n",
      "\n",
      "U+0052 'R'\n",
      "\n",
      "U+0053 'S'\n",
      "\n",
      "U+0054 'T'\n",
      "\n",
      "U+0055 'U'\n",
      "\n",
      "U+0056 'V'\n",
      "\n",
      "U+0057 'W'\n",
      "\n",
      "U+0058 'X'\n",
      "\n",
      "U+0059 'Y'\n",
      "\n",
      "U+005A 'Z'\n",
      "\n",
      "U+005B '['\n",
      "\n",
      "U+005C '\\'\n",
      "\n",
      "U+005D ']'\n",
      "\n",
      "U+005E '^'\n",
      "\n",
      "U+005F '_'\n",
      "\n",
      "U+0060 '`'\n",
      "\n",
      "U+0061 'a'\n",
      "\n",
      "U+0062 'b'\n",
      "\n",
      "U+0063 'c'\n",
      "\n"
     ]
    }
   ],
   "source": [
    "func main() {\n",
    "    b := false\n",
    "    \n",
    "    for x:=33; x<100; x++{\n",
    "\n",
    "        s:=fmt.Sprintf(\"%#U\\n\",x)        \n",
    "        \n",
    "        fmt.Println(s)\n",
    "\n",
    "        if s==\"A\"{\n",
    "            b:= true\n",
    "            fmt.Println(s[1])\n",
    "        } else {\n",
    "            continue\n",
    "        }\n",
    "        \n",
    "        if b{\n",
    "            fmt.Printf(\"%d,\\t %#x, \\t%#U\\n\",x,x,x)\n",
    "        }\n",
    "        if s==\"z\"{\n",
    "            fmt.Printf(\"%d,\\t %#x, \\t%#U\\n\",x,x,x)\n",
    "            break\n",
    "        }\n",
    "    }\n",
    "}\n",
    "main()"
   ]
  },
  {
   "cell_type": "code",
   "execution_count": null,
   "id": "67bc5734",
   "metadata": {},
   "outputs": [],
   "source": []
  }
 ],
 "metadata": {
  "kernelspec": {
   "display_name": "Go",
   "language": "go",
   "name": "gophernotes"
  },
  "language_info": {
   "codemirror_mode": "",
   "file_extension": ".go",
   "mimetype": "",
   "name": "go",
   "nbconvert_exporter": "",
   "pygments_lexer": "",
   "version": "go1.20.3"
  }
 },
 "nbformat": 4,
 "nbformat_minor": 5
}

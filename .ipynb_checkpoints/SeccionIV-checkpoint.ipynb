{
 "cells": [
  {
   "cell_type": "markdown",
   "id": "9b6f302f",
   "metadata": {},
   "source": [
    "# Sección IV\n",
    "# Control Flow\n",
    "\n",
    "Ciclos for, switch etc"
   ]
  },
  {
   "cell_type": "markdown",
   "id": "cc00119f",
   "metadata": {},
   "source": [
    "<div class=\"alert alert-block alert-warning\">\n",
    "<b>Cuidado!:</b> En Go no existe el ciclo WHILE.\n",
    "</div>"
   ]
  },
  {
   "cell_type": "markdown",
   "id": "9cf4bb21",
   "metadata": {},
   "source": [
    "## For:"
   ]
  },
  {
   "cell_type": "code",
   "execution_count": 4,
   "id": "d29b82ad",
   "metadata": {},
   "outputs": [],
   "source": [
    "package main\n",
    "\n",
    "import (\n",
    "    \"fmt\"\n",
    ")\n",
    "\n",
    "func main() {\n",
    "    // for init; condition; post {}\n",
    "    for i := 0; i <= 10; i++ {\n",
    "        fmt.Println(i)\n",
    "    }\n",
    "}\n",
    "main()"
   ]
  },
  {
   "cell_type": "markdown",
   "id": "a835c9f8",
   "metadata": {},
   "source": [
    "## Nested"
   ]
  },
  {
   "cell_type": "code",
   "execution_count": 5,
   "id": "6487b4e7",
   "metadata": {},
   "outputs": [],
   "source": [
    "package main\n",
    "\n",
    "import (\n",
    "    \"fmt\"\n",
    ")\n",
    "\n",
    "func main() {\n",
    "    // for init; condition; post {}\n",
    "    for i := 0; i <= 10; i++ {\n",
    "    for j := 0; j < 3; j++ {\n",
    "        fmt.Printf(\"The outer loop: %d\\t The inner loop: %d\\n\", i, j)\n",
    "        }\n",
    "    }\n",
    "}\n",
    "main()"
   ]
  },
  {
   "cell_type": "code",
   "execution_count": null,
   "id": "037a5085",
   "metadata": {},
   "outputs": [],
   "source": []
  }
 ],
 "metadata": {
  "kernelspec": {
   "display_name": "Go",
   "language": "go",
   "name": "gophernotes"
  },
  "language_info": {
   "codemirror_mode": "",
   "file_extension": ".go",
   "mimetype": "",
   "name": "go",
   "nbconvert_exporter": "",
   "pygments_lexer": "",
   "version": "go1.20.3"
  }
 },
 "nbformat": 4,
 "nbformat_minor": 5
}

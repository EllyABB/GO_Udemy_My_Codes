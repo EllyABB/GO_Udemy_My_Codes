{
 "cells": [
  {
   "cell_type": "markdown",
   "id": "9471cea7",
   "metadata": {},
   "source": [
    "Tour for go (suena más rápido):\n",
    "- https://go.dev/tour/welcome/1"
   ]
  },
  {
   "cell_type": "markdown",
   "id": "4096ed38",
   "metadata": {},
   "source": [
    "Dibujos lindos de la mascota de Go!\n",
    "- https://github.com/ashleymcnamara/gophers\n",
    "- https://github.com/egonelbre/gophers"
   ]
  },
  {
   "cell_type": "markdown",
   "id": "d963e05e",
   "metadata": {},
   "source": [
    "Otro link para jugar con Golang es:\n",
    "- https://go.dev/play/\n",
    "\n",
    "\n",
    "Para opciones avanzadas de Markdown en Jupyter ver:\n",
    "- https://www.ibm.com/docs/en/watson-studio-local/1.2.3?topic=notebooks-markdown-jupyter-cheatsheet\n",
    "- https://www.datacamp.com/tutorial/markdown-in-jupyter-notebook"
   ]
  },
  {
   "cell_type": "markdown",
   "id": "e1b73317",
   "metadata": {},
   "source": [
    "Para Documentación:\n",
    "- https://go.dev/doc/\n",
    "- go.dev/ language and standart library\n",
    "- pkg.go.dev/ standard library AND third-party packages\n",
    "- https://go.dev/ref/spec\n",
    "\n",
    "A great place to ask questions is the \"golang bridge forum\" at \n",
    "- https://forum.golangbridge.org/\n",
    "\n",
    "\n",
    "Para paquetes:\n",
    "- https://pkg.go.dev/std <br>\n",
    "\n",
    "Un paquete es una forma de poner codigos similares juntos \n",
    "\n",
    "\n",
    "\n"
   ]
  },
  {
   "cell_type": "markdown",
   "id": "ed39ff80",
   "metadata": {},
   "source": [
    "# Sección 2\n",
    " \n",
    "# Variables, Values and Types"
   ]
  },
  {
   "cell_type": "code",
   "execution_count": 4,
   "id": "be799e53",
   "metadata": {},
   "outputs": [],
   "source": [
    "package main"
   ]
  },
  {
   "cell_type": "markdown",
   "id": "0033c083",
   "metadata": {},
   "source": [
    "<div class=\"alert alert-block alert-info\">\n",
    "<b>Tip:</b> Siempre se necesitará package main\n",
    "</div>\n",
    "\n",
    "(Porqué lo habrán hecho necesitando esta función siempre?\n",
    "Habrán casos en donde no se use? \n",
    "Como en modulos?)"
   ]
  },
  {
   "cell_type": "code",
   "execution_count": 5,
   "id": "8014b7b9",
   "metadata": {},
   "outputs": [],
   "source": [
    "import \"fmt\""
   ]
  },
  {
   "cell_type": "markdown",
   "id": "86c96357",
   "metadata": {},
   "source": [
    "fmt options package: https://pkg.go.dev/fmt"
   ]
  },
  {
   "cell_type": "code",
   "execution_count": 9,
   "id": "d012ef45",
   "metadata": {},
   "outputs": [
    {
     "ename": "ERROR",
     "evalue": "repl.go:3:5: undefined identifier: fo",
     "output_type": "error",
     "traceback": [
      "repl.go:3:5: undefined identifier: fo"
     ]
    }
   ],
   "source": [
    "func main() {\n",
    "    fmt.Println(\"Hello, 世界\")\n",
    "    fo()\n",
    "}"
   ]
  },
  {
   "cell_type": "markdown",
   "id": "83b7d3f3",
   "metadata": {},
   "source": [
    "<div class=\"alert alert-block alert-info\">\n",
    "<b>Tip:</b> Cuando salga de la función main, el programa se acaba. \n",
    "</div>\n",
    "(Parecido a fortran o C++. Se pueden definir funciones fuera del main)."
   ]
  },
  {
   "cell_type": "code",
   "execution_count": 22,
   "id": "2f67360f",
   "metadata": {},
   "outputs": [
    {
     "name": "stdout",
     "output_type": "stream",
     "text": [
      "Hello, 世界\n",
      "I m in foo\n"
     ]
    }
   ],
   "source": [
    "main()"
   ]
  },
  {
   "cell_type": "markdown",
   "id": "ef73ecb8",
   "metadata": {},
   "source": [
    "<div class=\"alert alert-block alert-warning\">\n",
    "<b>Cuidado!:</b> Golang no usa ';' como en C++ <br>\n",
    "    Pero esto es porque cada enter es automaticamente rellenado por el compilador con ';' <br>\n",
    "    Esto implica que crear la función main de la siguiente forma:<br>\n",
    "    &nbsp &nbsp &nbsp &nbsp func main()<br>\n",
    "    &nbsp &nbsp &nbsp &nbsp     { <br>\n",
    "    &nbsp &nbsp &nbsp &nbsp     ...<br>\n",
    "    &nbsp &nbsp &nbsp &nbsp     }<br>\n",
    "    No funcionará!<br>\n",
    "    El primer Enter está mal<br>\n",
    "    Arrojará un: missing funtion body\n",
    "</div>"
   ]
  },
  {
   "cell_type": "code",
   "execution_count": 24,
   "id": "4cf44ad4",
   "metadata": {},
   "outputs": [],
   "source": [
    "func fo(){\n",
    "    fmt.Println(\"I m in foo\")\n",
    "}"
   ]
  },
  {
   "cell_type": "code",
   "execution_count": 30,
   "id": "705027cc",
   "metadata": {},
   "outputs": [
    {
     "name": "stdout",
     "output_type": "stream",
     "text": [
      "I m in foo\n"
     ]
    }
   ],
   "source": [
    "fo()"
   ]
  },
  {
   "cell_type": "markdown",
   "id": "4aaad7ea",
   "metadata": {},
   "source": [
    "# Sintaxis para ciclos for:"
   ]
  },
  {
   "cell_type": "code",
   "execution_count": 27,
   "id": "ef998259",
   "metadata": {},
   "outputs": [],
   "source": [
    "func main() {\n",
    "    for i :=0; i<10;i++{\n",
    "        fmt.Println(\"i=\",i)\n",
    "    }\n",
    "\n",
    "}"
   ]
  },
  {
   "cell_type": "code",
   "execution_count": 28,
   "id": "6b8aacbf",
   "metadata": {},
   "outputs": [
    {
     "name": "stdout",
     "output_type": "stream",
     "text": [
      "i= 0\n",
      "i= 1\n",
      "i= 2\n",
      "i= 3\n",
      "i= 4\n",
      "i= 5\n",
      "i= 6\n",
      "i= 7\n",
      "i= 8\n",
      "i= 9\n"
     ]
    }
   ],
   "source": [
    "main()"
   ]
  },
  {
   "cell_type": "markdown",
   "id": "aeed6ba6",
   "metadata": {},
   "source": [
    "# Sintaxis para if statements:"
   ]
  },
  {
   "cell_type": "code",
   "execution_count": null,
   "id": "808b9ac8",
   "metadata": {},
   "outputs": [],
   "source": []
  },
  {
   "cell_type": "markdown",
   "id": "ba7f6a8a",
   "metadata": {},
   "source": [
    "# Paquetes:"
   ]
  },
  {
   "cell_type": "markdown",
   "id": "450e3bad",
   "metadata": {},
   "source": [
    "Las especificaciones del paquete fmt están en: https://pkg.go.dev/fmt#Println <br>\n",
    "Nos dicen que lo que retorna la función Print line es (n int, err error)<br>\n",
    "n:# de bytes <br>\n",
    "err: cualquier error de escritura <br>\n",
    "\n",
    "<br>\n",
    "<br>\n",
    "...any : Es un parámetro que significa cualquier cosa(numero, strig, boleano) de cualquier longitud (...)"
   ]
  },
  {
   "cell_type": "code",
   "execution_count": 13,
   "id": "20e31a1a",
   "metadata": {},
   "outputs": [
    {
     "name": "stdout",
     "output_type": "stream",
     "text": [
      "hola 45 true\n",
      "#bytes= 13  error= <nil>\n"
     ]
    }
   ],
   "source": [
    "func main() {\n",
    "    n, err := fmt.Println(\"hola\",45,true)\n",
    "    fmt.Println(\"#bytes=\",n,\" error=\",err)\n",
    "}\n",
    "main()"
   ]
  },
  {
   "cell_type": "markdown",
   "id": "3266f32e",
   "metadata": {},
   "source": [
    "Que pasa si solo quiero el No de bytes?<br>\n",
    "Solo una info?<br>\n",
    "<br>\n",
    "Entonces usas el caracter \"_\" para dejarlo pasar"
   ]
  },
  {
   "cell_type": "code",
   "execution_count": 16,
   "id": "6963a23d",
   "metadata": {},
   "outputs": [
    {
     "name": "stdout",
     "output_type": "stream",
     "text": [
      "hola 45 true\n",
      "#bytes= 13\n"
     ]
    }
   ],
   "source": [
    "func main() {\n",
    "    n,_:= fmt.Println(\"hola\",45,true)\n",
    "    fmt.Println(\"#bytes=\",n)\n",
    "}\n",
    "main()"
   ]
  },
  {
   "cell_type": "markdown",
   "id": "d0f42690",
   "metadata": {},
   "source": [
    "<div class=\"alert alert-block alert-danger\">\n",
    "<b>Just don't:</b> Si no usas la variable, arrojará error!\n",
    "</div>\n",
    "Debemos ser explicitos con el compilador! <br>\n",
    "Go te fuerza a que tu código esté siempre bien hecho"
   ]
  },
  {
   "cell_type": "code",
   "execution_count": null,
   "id": "01627f86",
   "metadata": {},
   "outputs": [],
   "source": []
  },
  {
   "cell_type": "markdown",
   "id": "8fc67bda",
   "metadata": {},
   "source": [
    "Si con **import** traigo paquetes...\n",
    "# Entonces... Estoy creando un paquete llamado main?\n",
    "Podria cambiar el nombre?"
   ]
  },
  {
   "cell_type": "code",
   "execution_count": 18,
   "id": "8b588ada",
   "metadata": {},
   "outputs": [
    {
     "name": "stdout",
     "output_type": "stream",
     "text": [
      "hola 45 true\n",
      "#bytes= 13\n",
      "La respuesta es sí!, si puedo cambiar el nombre del main!\n",
      "Son como módulos!\n"
     ]
    }
   ],
   "source": [
    "package elly\n",
    "func elly() {\n",
    "    n,_:= fmt.Println(\"hola\",45,true)\n",
    "    fmt.Println(\"#bytes=\",n)\n",
    "    otro_print()\n",
    "}\n",
    "\n",
    "func otro_print(){\n",
    "    fmt.Println(\"La respuesta es sí!, si puedo cambiar el nombre del main!\")\n",
    "        fmt.Println(\"Son como módulos!\")\n",
    "\n",
    "}\n",
    "elly()\n"
   ]
  },
  {
   "cell_type": "markdown",
   "id": "7befd9ad",
   "metadata": {},
   "source": [
    "<div class=\"alert alert-block alert-danger\">\n",
    "<b>Just don't:</b> package name must be main<br>\n",
    "Go build failed.\n",
    "</div>\n",
    "Solo se puede en Jupyter"
   ]
  },
  {
   "cell_type": "markdown",
   "id": "a7c5e55f",
   "metadata": {},
   "source": []
  },
  {
   "cell_type": "markdown",
   "id": "d945ff07",
   "metadata": {},
   "source": [
    "# Short declaration operator"
   ]
  },
  {
   "cell_type": "markdown",
   "id": "c2e557be",
   "metadata": {},
   "source": [
    "The Go Programming Language Specification:\n",
    "\n",
    "- https://go.dev/ref/spec"
   ]
  },
  {
   "cell_type": "markdown",
   "id": "f7d1ba17",
   "metadata": {},
   "source": [
    "\n",
    "## Identifiers\n",
    "Identifiers name program **entities** such as variables and types. An identifier is a sequence of one or more letters and digits. The first character in an identifier must be a letter (acepta letras griegas). (https://go.dev/ref/spec#Identifiers)<br>\n",
    "**Son nombres!**<br>\n",
    "\n",
    "Algunos están predeclarados:\n",
    "\n",
    "Types:<br>\n",
    "&emsp;&emsp; any bool byte comparable<br>\n",
    "&emsp;&emsp; complex64 complex128 error float32 float64<br>\n",
    "&emsp;&emsp; int int8 int16 int32 int64 rune string<br>\n",
    "&emsp;&emsp; uint uint8 uint16 uint32 uint64 uintptr<br>\n",
    "<br>\n",
    "Constants:<br>\n",
    "&emsp;&emsp; true false iota<br>\n",
    "<br>\n",
    "Zero value:<br>\n",
    "&emsp;&emsp; nil<br>\n",
    "<br>\n",
    "Functions:<br>\n",
    "&emsp;&emsp; append cap close complex copy delete imag len<br>\n",
    "&emsp;&emsp; make new panic print println real recover<br>\n",
    "\n",
    "<br>\n",
    "<br>\n",
    "En la misma página tenemos keywords (como const) y Operadores y puntuación (como diferente ... etc) \n",
    "\n",
    "\n",
    " - https://go.dev/ref/spec#Operators_and_punctuation\n"
   ]
  },
  {
   "cell_type": "code",
   "execution_count": 20,
   "id": "277097db",
   "metadata": {},
   "outputs": [
    {
     "name": "stdout",
     "output_type": "stream",
     "text": [
      "x primera decraración = 3\n",
      "x redefinición = 2\n"
     ]
    }
   ],
   "source": [
    "package main\n",
    "func main() {\n",
    "    x:=3\n",
    "    fmt.Println(\"x primera decraración =\",x)\n",
    "    \n",
    "    x=2\n",
    "    fmt.Println(\"x redefinición =\",x)\n",
    "    \n",
    "}\n",
    "\n",
    "main()"
   ]
  },
  {
   "cell_type": "markdown",
   "id": "2113dd18",
   "metadata": {},
   "source": [
    "\":=\" short declaration operator (se declara por primera vez, se declara : y se asigna =) <br>\n",
    "\" = \" se redefine. <br>\n",
    "<br>\n"
   ]
  },
  {
   "cell_type": "code",
   "execution_count": 22,
   "id": "25babfcd",
   "metadata": {},
   "outputs": [
    {
     "name": "stdout",
     "output_type": "stream",
     "text": [
      "x primera decraración = -95\n",
      "x redefinición = 2\n"
     ]
    }
   ],
   "source": [
    "package main\n",
    "func main() {\n",
    "    x:=3+2-100\n",
    "    fmt.Println(\"x primera decraración =\",x)\n",
    "}\n",
    "\n",
    "main()"
   ]
  },
  {
   "cell_type": "markdown",
   "id": "1d6f47f8",
   "metadata": {},
   "source": [
    "statements(x:=3+2-100)-> usualmente hechas con expresiones <br>\n",
    "<br>\n",
    "<br>\n",
    "**Statement**\n",
    "\n",
    "- In programming a statement is **the smallest standalone element of a\n",
    "program that expresses some action to be carried out**. It is an instruction\n",
    "that commands the computer to perform a specified action. A program is\n",
    "formed by a sequence of one or more statements.\n",
    "\n",
    "**Expression**\n",
    "- In programming an expression is a combination of one or more explicit\n",
    "values, constants, variables, operators, and functions that the\n",
    "programming language interprets and computes to produce another\n",
    "value. For example, 2+3 is an expression which evaluates to 5."
   ]
  },
  {
   "cell_type": "markdown",
   "id": "c96c3e00",
   "metadata": {},
   "source": [
    "## var keyword:\n",
    "La diferencia entre asignar una variable con var y con el \"short declaration operator :=\" es:"
   ]
  },
  {
   "cell_type": "code",
   "execution_count": 23,
   "id": "4b94fad7",
   "metadata": {},
   "outputs": [
    {
     "name": "stdout",
     "output_type": "stream",
     "text": [
      "x (no puede estar afuera del main)= -95\n",
      "y (fuera del main)= 4\n"
     ]
    }
   ],
   "source": [
    "package main\n",
    "var y=4\n",
    "func main() {\n",
    "    x:=3+2-100\n",
    "    fmt.Println(\"x (no puede estar afuera del main)=\",x)\n",
    "    fmt.Println(\"y (fuera del main)=\",y)\n",
    "    \n",
    "}\n",
    "\n",
    "main()"
   ]
  },
  {
   "cell_type": "markdown",
   "id": "b86edbdf",
   "metadata": {},
   "source": [
    "<div class=\"alert alert-block alert-info\">\n",
    "<b>Tip:</b> Limita el alcance de tus variables. \n",
    "</div>\n",
    "<br>\n",
    "El alcance de y es diferente al de x.<br>\n",
    "En la medida de lo posible, usar :="
   ]
  },
  {
   "cell_type": "code",
   "execution_count": null,
   "id": "95dbf4a5",
   "metadata": {},
   "outputs": [],
   "source": []
  },
  {
   "cell_type": "markdown",
   "id": "77eaacf5",
   "metadata": {},
   "source": [
    "## Default"
   ]
  },
  {
   "cell_type": "markdown",
   "id": "b9d572f5",
   "metadata": {},
   "source": [
    "var z int <br>\n",
    "\n",
    "inicializa con defaut 0. <br>\n",
    "false for booleans, 0 for integers, 0.0 for floats, \"\" for strings,<br>\n",
    "and nil for pointers, functions, interfaces, slices, channels, and maps."
   ]
  },
  {
   "cell_type": "code",
   "execution_count": 27,
   "id": "78046804",
   "metadata": {},
   "outputs": [
    {
     "name": "stdout",
     "output_type": "stream",
     "text": [
      "0 efe\n"
     ]
    }
   ],
   "source": [
    "package main\n",
    "\n",
    "var z int\n",
    "var y string\n",
    "\n",
    "func main() {\n",
    "\n",
    "\tfmt.Println(z,y+\"efe\")\n",
    "}\n",
    "\n",
    "main()"
   ]
  },
  {
   "cell_type": "markdown",
   "id": "3b3e3470",
   "metadata": {},
   "source": [
    "# Go is about TYPE\n",
    "What does that mean? I have no idea. But by the end of the course, maybe i will"
   ]
  },
  {
   "cell_type": "code",
   "execution_count": 30,
   "id": "ce03f896",
   "metadata": {},
   "outputs": [
    {
     "name": "stdout",
     "output_type": "stream",
     "text": [
      "42\n",
      "int\n"
     ]
    }
   ],
   "source": [
    "package main\n",
    "var y = 42\n",
    "func main() {\n",
    "    fmt.Println(y)\n",
    "    fmt.Printf(\"%T\\n\", y)\n",
    "}\n",
    "main()"
   ]
  },
  {
   "cell_type": "code",
   "execution_count": 33,
   "id": "b0e39cb3",
   "metadata": {},
   "outputs": [
    {
     "name": "stdout",
     "output_type": "stream",
     "text": [
      "hi?\n",
      "string\n"
     ]
    }
   ],
   "source": [
    "package main\n",
    "var y string = `hi?`\n",
    "func main() {\n",
    "    fmt.Println(y)\n",
    "    fmt.Printf(\"%T\\n\", y)\n",
    "}\n",
    "main()"
   ]
  },
  {
   "cell_type": "markdown",
   "id": "cf4b151a",
   "metadata": {},
   "source": [
    "Go es un lenguaje de programación estático. <br>\n",
    "Si z se define como int no se puede cambiar a string<br>"
   ]
  },
  {
   "cell_type": "markdown",
   "id": "482b1175",
   "metadata": {},
   "source": [
    "# String literals\n",
    "- https://go.dev/ref/spec#String_literals\n",
    "\n",
    "`` -> literales"
   ]
  },
  {
   "cell_type": "code",
   "execution_count": 40,
   "id": "bafbca9d",
   "metadata": {},
   "outputs": [
    {
     "name": "stdout",
     "output_type": "stream",
     "text": [
      "James said\\, \n",
      "\"Shaken, \n",
      "\n",
      "not stirred\"\n",
      "stringstring\n",
      "string"
     ]
    }
   ],
   "source": [
    "package main\n",
    "\n",
    "\n",
    "var a string = `James said\\, \n",
    "\"Shaken, \n",
    "\n",
    "not stirred\"`\n",
    "\n",
    "func main() {\n",
    "    fmt.Println(a)\n",
    "    fmt.Printf(\"%T\", a)   // '\\n' es como se hace una nueva linea \n",
    "    fmt.Printf(\"%T\\n\", a)\n",
    "    fmt.Printf(\"%T\", a)\n",
    "\n",
    "}\n",
    "main()"
   ]
  },
  {
   "cell_type": "markdown",
   "id": "34253bce",
   "metadata": {},
   "source": [
    "# Más del fmt package"
   ]
  },
  {
   "cell_type": "markdown",
   "id": "b5285533",
   "metadata": {},
   "source": [
    ">\\a $\\;\\;\\;\\;\\;\\;$ U+0007 alert or bell<br>\n",
    "\\b $\\;\\;\\;\\;\\;\\;$ U+0008 backspace<br>\n",
    "\\f $\\;\\;\\;\\;\\;\\;$ U+000C form feed<br>\n",
    "\\n $\\;\\;\\;\\;\\;\\;$ U+000A line feed or newline<br>\n",
    "\\r $\\;\\;\\;\\;\\;\\;$ U+000D carriage return<br>\n",
    "\\t $\\;\\;\\;\\;\\;\\;$ U+0009 horizontal tab<br>\n",
    "\\v $\\;\\;\\;\\;\\;\\;$ U+000B vertical tab<br>\n",
    "\\\\ $\\;\\;\\;\\;\\;\\;$ U+005C backslash<br>\n",
    "\\' $\\;\\;\\;\\;\\;\\;$ U+0027 single quote  (valid escape only within rune literals)<br>\n",
    "\\\" $\\;\\;\\;\\;\\;\\;$ U+0022 double quote  (valid escape only within string literals)<br>\n",
    "https://go.dev/ref/spec#Rune_literals"
   ]
  },
  {
   "cell_type": "code",
   "execution_count": 11,
   "id": "6f563dff",
   "metadata": {},
   "outputs": [
    {
     "name": "stdout",
     "output_type": "stream",
     "text": [
      "42\n",
      "int\n",
      "101010\n",
      "2a\n",
      "0x2a\n",
      "here:\n",
      "0x2a\t101010\t2a\n"
     ]
    }
   ],
   "source": [
    "package main\n",
    "\n",
    "var y = 42\n",
    "\n",
    "func main() {\n",
    "    fmt.Println(y)\n",
    "    fmt.Printf(\"%T\\n\", y)\n",
    "    fmt.Printf(\"%b\\n\", y) //base 2, binario\n",
    "    fmt.Printf(\"%x\\n\", y) //base 16, with lower-case letters for a-f (hexagesimal)\n",
    "    fmt.Printf(\"%#x\\n\", y) //\n",
    "    \n",
    "    fmt.Println(\"here:\")\n",
    "    \n",
    "    fmt.Printf(\"%#x\\t%b\\t%x\\n\", y, y, y)// '\\t' es para espacio. '\\n' para nueva linea\n",
    "\n",
    "}\n",
    "main()"
   ]
  },
  {
   "cell_type": "markdown",
   "id": "f99cfda2",
   "metadata": {},
   "source": [
    "## Sprint f\n",
    "Sirve como para generar una nueva variable de eso que se printo."
   ]
  },
  {
   "cell_type": "code",
   "execution_count": 24,
   "id": "9b2a999f",
   "metadata": {},
   "outputs": [
    {
     "name": "stdout",
     "output_type": "stream",
     "text": [
      "0x2a\t101010\t2a\n",
      "\n",
      "0x2a\t101010\t2a\n"
     ]
    }
   ],
   "source": [
    "package main\n",
    "\n",
    "var y = 42\n",
    "\n",
    "func main() {\n",
    "\n",
    "    s := fmt.Sprintf(\"%#x\\t%b\\t%x\\n\", y, y, y)\n",
    "    fmt.Println(s)\n",
    "    fmt.Printf(\"%v\", s)\n",
    "}\n",
    "main()"
   ]
  },
  {
   "cell_type": "markdown",
   "id": "bfdc1f74",
   "metadata": {},
   "source": [
    "## Fprint f\n",
    "¡Para archivos!!"
   ]
  },
  {
   "cell_type": "markdown",
   "id": "202fd1a8",
   "metadata": {},
   "source": [
    "# Podemos crear nuestros propios tipos de variables!"
   ]
  },
  {
   "cell_type": "code",
   "execution_count": 4,
   "id": "6fc2b04c",
   "metadata": {},
   "outputs": [
    {
     "name": "stdout",
     "output_type": "stream",
     "text": [
      "42\n",
      "int\n",
      "\n",
      "string\n"
     ]
    }
   ],
   "source": [
    "package main\n",
    "import \"fmt\"\n",
    "\n",
    "var a int\n",
    "\n",
    "type hotdog string\n",
    "\n",
    "var b hotdog\n",
    "\n",
    "func main() {\n",
    "    a = 42\n",
    "    fmt.Println(a)\n",
    "    fmt.Printf(\"%T\\n\", a)\n",
    "    fmt.Println(b)\n",
    "    fmt.Printf(\"%T\\n\", b)\n",
    "}\n",
    "main()"
   ]
  },
  {
   "cell_type": "markdown",
   "id": "c5515e8f",
   "metadata": {},
   "source": [
    "\n",
    "<div class=\"alert alert-block alert-danger\">\n",
    "<b>Cuidado!:</b> En terminal el resultado es otro!;<br>\n",
    "    42<br>\n",
    "int<br>\n",
    "43<br>\n",
    "main.hotdog \n",
    "</div>\n",
    "\n",
    "Esto es importante porque creamos un tipo de variable nueva"
   ]
  },
  {
   "cell_type": "code",
   "execution_count": 14,
   "id": "dd2cc49f",
   "metadata": {},
   "outputs": [
    {
     "name": "stdout",
     "output_type": "stream",
     "text": [
      "42\n",
      "int\n",
      "0\n",
      "int\n",
      "42\n",
      "int\n"
     ]
    }
   ],
   "source": [
    "package main\n",
    "import \"fmt\"\n",
    "\n",
    "var a int\n",
    "\n",
    "type hotdog int\n",
    "\n",
    "var b hotdog\n",
    "\n",
    "func main() {\n",
    "    a = 42\n",
    "    fmt.Println(a)\n",
    "    fmt.Printf(\"%T\\n\", a)\n",
    "    fmt.Println(b)\n",
    "    fmt.Printf(\"%T\\n\", b)\n",
    "    b=a\n",
    "    fmt.Println(b)\n",
    "    fmt.Printf(\"%T\\n\", b)\n",
    "}\n",
    "main()"
   ]
  },
  {
   "cell_type": "markdown",
   "id": "1518d5cb",
   "metadata": {},
   "source": [
    "\n",
    "<div class=\"alert alert-block alert-danger\">\n",
    "<b>Cuidado!:</b> No se porque Jupyter si lo hace, pero en terminal esto envía un error;<br>\n",
    "\n",
    "</div>\n",
    "\n"
   ]
  },
  {
   "cell_type": "markdown",
   "id": "e3566c36",
   "metadata": {},
   "source": [
    "\n",
    "<div class=\"alert alert-block alert-danger\">\n",
    "<b>Esto:</b> ./prog.go:19:6: cannot use a (variable of type int) as hotdog value in assignment\n",
    "\n",
    "</div>\n",
    "<br>\n",
    "La forma en la que lo \"soluciono\" es la siguiente:<br>"
   ]
  },
  {
   "cell_type": "code",
   "execution_count": 17,
   "id": "c99da256",
   "metadata": {},
   "outputs": [
    {
     "name": "stdout",
     "output_type": "stream",
     "text": [
      "42\n",
      "int\n",
      "0\n",
      "int\n",
      "42\n",
      "int\n"
     ]
    }
   ],
   "source": [
    "package main\n",
    "\n",
    "import \"fmt\"\n",
    "\n",
    "var a int\n",
    "\n",
    "type hotdog int\n",
    "\n",
    "var b hotdog\n",
    "\n",
    "func main() {\n",
    "    a = 42\n",
    "    fmt.Println(a)\n",
    "    fmt.Printf(\"%T\\n\", a)\n",
    "    fmt.Println(b)\n",
    "    fmt.Printf(\"%T\\n\", b)\n",
    "    b = hotdog(a)\n",
    "    fmt.Println(b)\n",
    "    fmt.Printf(\"%T\\n\", b)\n",
    "}\n",
    "main()"
   ]
  },
  {
   "cell_type": "markdown",
   "id": "6b9e9588",
   "metadata": {},
   "source": [
    "Acá deberia decir que son tipo hotdog <br>\n",
    "<div class=\"alert alert-block alert-info\">\n",
    "<b>Tip:</b> Por tanto, confirma todos tus códigos con: https://go.dev/play/ \n",
    "</div>\n",
    "<br>\n"
   ]
  },
  {
   "cell_type": "markdown",
   "id": "6f2cddbf",
   "metadata": {},
   "source": [
    "# Operadores"
   ]
  },
  {
   "cell_type": "code",
   "execution_count": 10,
   "id": "997af24b",
   "metadata": {},
   "outputs": [
    {
     "name": "stdout",
     "output_type": "stream",
     "text": [
      "8\n",
      "6\n",
      "16\n",
      "17\n",
      "16\n"
     ]
    }
   ],
   "source": [
    "func main(){\n",
    "    x:=4\n",
    "    x+=x\n",
    "    fmt.Println(x)\n",
    "    \n",
    "    x-=2\n",
    "    fmt.Println(x)\n",
    "    \n",
    "    x+=10\n",
    "    fmt.Println(x)\n",
    "    \n",
    "    x++\n",
    "    fmt.Println(x)\n",
    "    \n",
    "    x--\n",
    "    fmt.Println(x)\n",
    "}\n",
    "main()"
   ]
  },
  {
   "cell_type": "code",
   "execution_count": null,
   "id": "d9e94cd6",
   "metadata": {},
   "outputs": [],
   "source": []
  }
 ],
 "metadata": {
  "kernelspec": {
   "display_name": "Go",
   "language": "go",
   "name": "gophernotes"
  },
  "language_info": {
   "codemirror_mode": "",
   "file_extension": ".go",
   "mimetype": "",
   "name": "go",
   "nbconvert_exporter": "",
   "pygments_lexer": "",
   "version": "go1.20.3"
  }
 },
 "nbformat": 4,
 "nbformat_minor": 5
}

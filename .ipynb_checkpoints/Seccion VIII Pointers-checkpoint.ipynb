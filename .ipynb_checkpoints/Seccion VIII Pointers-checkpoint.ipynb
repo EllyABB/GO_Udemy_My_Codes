{
 "cells": [
  {
   "cell_type": "markdown",
   "id": "6a52a04a",
   "metadata": {},
   "source": [
    "# Sección VIII\n",
    "# Pointers\n",
    "\n",
    "All values are stored in memory. Every location in memory has an address. A pointer is a\n",
    "memory address."
   ]
  },
  {
   "cell_type": "code",
   "execution_count": 2,
   "id": "0a18caaa",
   "metadata": {},
   "outputs": [],
   "source": [
    "package main\n",
    "import \"fmt\""
   ]
  },
  {
   "cell_type": "markdown",
   "id": "490a820a",
   "metadata": {},
   "source": [
    " -  **&** :"
   ]
  },
  {
   "cell_type": "code",
   "execution_count": 8,
   "id": "902233cf",
   "metadata": {},
   "outputs": [
    {
     "name": "stdout",
     "output_type": "stream",
     "text": [
      "2\n",
      "0xc0003f7078\n"
     ]
    }
   ],
   "source": [
    "func main() {\n",
    "    a:=2\n",
    "    fmt.Println(a)\n",
    "    fmt.Println(&a) // Esta es la dirección\n",
    "}\n",
    "\n",
    "main()"
   ]
  },
  {
   "cell_type": "code",
   "execution_count": 12,
   "id": "3ae56890",
   "metadata": {},
   "outputs": [
    {
     "name": "stdout",
     "output_type": "stream",
     "text": [
      "Valor= 2 Dirección 0xc0001d22f8\n",
      "\n",
      "Tipo a = int\t Tipo &a = *int"
     ]
    }
   ],
   "source": [
    "func main() {\n",
    "    a:=2\n",
    "    fmt.Println(\"Valor=\",a,\"Dirección\",&a)\n",
    "    fmt.Printf(\"\\nTipo a = %T\\t Tipo &a = %T\",a,&a) // Tenemos un tipo *int\n",
    "}\n",
    "\n",
    "main()"
   ]
  },
  {
   "cell_type": "markdown",
   "id": "c6907a03",
   "metadata": {},
   "source": [
    "***int** is a pointer to int\n",
    "\n",
    "We are able to share address"
   ]
  },
  {
   "cell_type": "code",
   "execution_count": 13,
   "id": "b558a41d",
   "metadata": {},
   "outputs": [
    {
     "name": "stdout",
     "output_type": "stream",
     "text": [
      "0xc0003f61e8\n"
     ]
    }
   ],
   "source": [
    "func main() {\n",
    "    a:=2\n",
    "    \n",
    "    var b *int = &a\n",
    "    fmt.Println(b)\n",
    "}\n",
    "\n",
    "main()"
   ]
  },
  {
   "cell_type": "markdown",
   "id": "6d103c67",
   "metadata": {},
   "source": [
    "**\\*** Es también un operador"
   ]
  },
  {
   "cell_type": "code",
   "execution_count": 16,
   "id": "8e7c03a2",
   "metadata": {},
   "outputs": [
    {
     "name": "stdout",
     "output_type": "stream",
     "text": [
      "0xc0001d22a8\n",
      "2\n"
     ]
    }
   ],
   "source": [
    "func main() {\n",
    "    a:=2\n",
    "    b:=&a\n",
    "    fmt.Println(b)\n",
    "    fmt.Println(*b)  // Puedo acceder al valor llendo a la dirección\n",
    "}\n",
    "\n",
    "main()"
   ]
  },
  {
   "cell_type": "code",
   "execution_count": 18,
   "id": "3367c4aa",
   "metadata": {},
   "outputs": [
    {
     "name": "stdout",
     "output_type": "stream",
     "text": [
      "0xc0001d2628\n",
      "2\n",
      "2\n"
     ]
    }
   ],
   "source": [
    "func main() {\n",
    "    a:=2\n",
    "    b:=&a\n",
    "    fmt.Println(b)\n",
    "    fmt.Println(*b)  \n",
    "    fmt.Println(*&a)  // * y & son operadores inversos\n",
    "    \n",
    "}\n",
    "\n",
    "main()"
   ]
  },
  {
   "cell_type": "code",
   "execution_count": 20,
   "id": "603f1ffd",
   "metadata": {},
   "outputs": [
    {
     "name": "stdout",
     "output_type": "stream",
     "text": [
      "Son la misma variable!\n",
      "\n",
      "El nuevo valor de a es:  50\n"
     ]
    }
   ],
   "source": [
    "func main() {\n",
    "    a:=2\n",
    "    b:=&a\n",
    "    \n",
    "    if a == *b{\n",
    "        fmt.Println(\"Son la misma variable!\\n\")\n",
    "        \n",
    "        *b = 50 // Podemos cambiar el valor de a, llendo a su dirección\n",
    "        fmt.Println(\"El nuevo valor de a es: \", a)\n",
    "    }\n",
    "    \n",
    "}\n",
    "\n",
    "main()"
   ]
  },
  {
   "cell_type": "markdown",
   "id": "a9b3160b",
   "metadata": {},
   "source": [
    "## Cuando usamos pointers?"
   ]
  },
  {
   "cell_type": "markdown",
   "id": "30662995",
   "metadata": {},
   "source": [
    "Pointers allow you to share a value stored in some memory location. Use pointers when\n",
    "- you don’t want to pass around a lot of data\n",
    "- you want to change the data at a location\n",
    "\n",
    "Everything in Go is pass by value."
   ]
  },
  {
   "cell_type": "code",
   "execution_count": 23,
   "id": "f01bcd6b",
   "metadata": {},
   "outputs": [
    {
     "name": "stdout",
     "output_type": "stream",
     "text": [
      "0\n",
      "43\n",
      "main  0\n"
     ]
    }
   ],
   "source": [
    "// Paso 1: Sin pointers\n",
    "\n",
    "func main() {\n",
    "    x := 0\n",
    "    foo(x)\n",
    "    fmt.Println(\"main \",x)\n",
    "}\n",
    "\n",
    "func foo(y int) {\n",
    "    fmt.Println(y)\n",
    "    y = 43\n",
    "    fmt.Println(y)\n",
    "}\n",
    "main()"
   ]
  },
  {
   "cell_type": "code",
   "execution_count": 28,
   "id": "ead464bd",
   "metadata": {},
   "outputs": [
    {
     "name": "stdout",
     "output_type": "stream",
     "text": [
      "x=  0\n",
      "address  0xc00003a608\n",
      "\n",
      "En foo entró=  0xc00003a608\n",
      "En foo salió=  0xc00003a608\n",
      "En foo salió=  43\n",
      "\n",
      "x=  43\n",
      "address  0xc00003a608\n"
     ]
    }
   ],
   "source": [
    "// Paso 2: Con pointers\n",
    "\n",
    "func main() {\n",
    "    x := 0\n",
    "    fmt.Println(\"x= \",x)\n",
    "    fmt.Println(\"address \",&x)\n",
    "    \n",
    "    foo(&x)\n",
    "    fmt.Println(\"x= \",x)\n",
    "    fmt.Println(\"address \",&x)\n",
    "}\n",
    "\n",
    "func foo(y *int) {\n",
    "    fmt.Println(\"\\nEn foo entró= \",y)\n",
    "    *y = 43\n",
    "    fmt.Println(\"En foo salió= \",y)\n",
    "    fmt.Println(\"En foo salió= \",*y)\n",
    "    fmt.Println(\"\")\n",
    "}\n",
    "main()"
   ]
  },
  {
   "cell_type": "code",
   "execution_count": null,
   "id": "9f7016a6",
   "metadata": {},
   "outputs": [],
   "source": [
    "func main() {\n",
    "    x := 0\n",
    "    fmt.Println(\"x befor\", &x)\n",
    "    fmt.Println(\"x befor\", x)\n",
    "    foo(&x)\n",
    "    fmt.Println(\"x after\", &x)\n",
    "    fmt.Println(\"x after\", x)\n",
    "}\n",
    "\n",
    "func foo(y *int) {\n",
    "    fmt.Println(\"y befor\", y)\n",
    "    fmt.Println(\"y befor\", *y)\n",
    "    *y = 43\n",
    "    fmt.Println(\"y after\", y)\n",
    "    fmt.Println(\"y after\", *y)\n",
    "}\n"
   ]
  },
  {
   "cell_type": "markdown",
   "id": "c08033f3",
   "metadata": {},
   "source": [
    "## Method sets\n",
    "\n",
    "https://go.dev/ref/spec#Method_sets"
   ]
  },
  {
   "cell_type": "code",
   "execution_count": null,
   "id": "ce2111a2",
   "metadata": {},
   "outputs": [],
   "source": []
  }
 ],
 "metadata": {
  "kernelspec": {
   "display_name": "Go",
   "language": "go",
   "name": "gophernotes"
  },
  "language_info": {
   "codemirror_mode": "",
   "file_extension": ".go",
   "mimetype": "",
   "name": "go",
   "nbconvert_exporter": "",
   "pygments_lexer": "",
   "version": "go1.20.3"
  }
 },
 "nbformat": 4,
 "nbformat_minor": 5
}

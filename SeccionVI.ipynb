{
 "cells": [
  {
   "cell_type": "markdown",
   "id": "8d4ad8aa",
   "metadata": {},
   "source": [
    "# Sección VI\n",
    "# Struct\n",
    "A struct is an composite data type. (composite data types, aka, aggregate data types, aka,\n",
    "complex data types). Structs allow us to compose together values of different types."
   ]
  },
  {
   "cell_type": "code",
   "execution_count": 2,
   "id": "7edd0460",
   "metadata": {},
   "outputs": [],
   "source": [
    "package main\n",
    "import \"fmt\""
   ]
  },
  {
   "cell_type": "code",
   "execution_count": 6,
   "id": "ed25f5d0",
   "metadata": {},
   "outputs": [],
   "source": [
    "type animal struct {\n",
    "    name string\n",
    "    age int\n",
    "}"
   ]
  },
  {
   "cell_type": "code",
   "execution_count": 12,
   "id": "09edee06",
   "metadata": {},
   "outputs": [
    {
     "name": "stdout",
     "output_type": "stream",
     "text": [
      "{Vinny 2}\n",
      "{Ryuk 4}\n",
      "Vinny 2\n",
      "Ryuk 2\n"
     ]
    }
   ],
   "source": [
    "func main(){\n",
    "    Vinny := animal{\n",
    "        name: \"Vinny\",\n",
    "        age: 2,\n",
    "    }\n",
    "    \n",
    "    Ryuk := animal{\n",
    "        name: \"Ryuk\",\n",
    "        age: 4,\n",
    "    }\n",
    "    fmt.Println(Vinny)\n",
    "    fmt.Println(Ryuk)\n",
    "    \n",
    "    \n",
    "    fmt.Println(Vinny.name,Vinny.age)\n",
    "    fmt.Println(Ryuk.name, Vinny.age)\n",
    "    \n",
    "}\n",
    "main()"
   ]
  },
  {
   "cell_type": "markdown",
   "id": "386066e5",
   "metadata": {},
   "source": [
    "## Embedded structs\n",
    "We can take one struct and embed it in another struct. When you do this the inner type gets\n",
    "promoted to the outer type."
   ]
  },
  {
   "cell_type": "code",
   "execution_count": 13,
   "id": "c26baf19",
   "metadata": {},
   "outputs": [],
   "source": [
    "type animal struct {\n",
    "    name string\n",
    "    age int\n",
    "}"
   ]
  },
  {
   "cell_type": "code",
   "execution_count": 14,
   "id": "58b17ede",
   "metadata": {},
   "outputs": [],
   "source": [
    "type SecretAnimal struct {\n",
    "    animal\n",
    "    ltk bool\n",
    "}"
   ]
  },
  {
   "cell_type": "code",
   "execution_count": 17,
   "id": "bb136314",
   "metadata": {},
   "outputs": [
    {
     "ename": "ERROR",
     "evalue": "repl.go:14:17: undefined identifier: Vinny",
     "output_type": "error",
     "traceback": [
      "repl.go:14:17: undefined identifier: Vinny"
     ]
    }
   ],
   "source": [
    "func main(){\n",
    "    SecretVinny := SecretAnimal{\n",
    "        animal : animal{\n",
    "            name: \"Vinny\",\n",
    "            age: 2,\n",
    "        },\n",
    "        ltk: true,\n",
    "    }\n",
    "    \n",
    "    Ryuk := animal{\n",
    "        name: \"Ryuk\",\n",
    "        age: 4,\n",
    "    }\n",
    "    fmt.Println(Vinny)\n",
    "    fmt.Println(Ryuk)\n",
    "    \n",
    "    \n",
    "    fmt.Println(Vinny.name,Vinny.age)\n",
    "    fmt.Println(Ryuk.name, Vinny.age)\n",
    "    \n",
    "}\n",
    "main()"
   ]
  },
  {
   "cell_type": "code",
   "execution_count": null,
   "id": "801fa42a",
   "metadata": {},
   "outputs": [],
   "source": []
  }
 ],
 "metadata": {
  "kernelspec": {
   "display_name": "Go",
   "language": "go",
   "name": "gophernotes"
  },
  "language_info": {
   "codemirror_mode": "",
   "file_extension": ".go",
   "mimetype": "",
   "name": "go",
   "nbconvert_exporter": "",
   "pygments_lexer": "",
   "version": "go1.20.3"
  }
 },
 "nbformat": 4,
 "nbformat_minor": 5
}

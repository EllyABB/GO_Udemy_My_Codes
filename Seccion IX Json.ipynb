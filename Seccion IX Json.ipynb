{
 "cells": [
  {
   "cell_type": "markdown",
   "id": "68e314a7",
   "metadata": {},
   "source": [
    "# Sección IX\n",
    "# Json\n",
    "\n",
    "Package json implements encoding and decoding of JSON as defined in RFC 7159. The mapping between JSON and Go values is described in the documentation for the Marshal and Unmarshal functions. \n",
    "\n",
    "- https://pkg.go.dev/encoding/json Documentación\n",
    "- https://mholt.github.io/json-to-go/ De json a go"
   ]
  },
  {
   "cell_type": "code",
   "execution_count": 3,
   "id": "3f831005",
   "metadata": {},
   "outputs": [],
   "source": [
    "import (\n",
    "    \"encoding/json\"\n",
    "    \"fmt\"\n",
    ")"
   ]
  },
  {
   "cell_type": "markdown",
   "id": "2fcc733f",
   "metadata": {},
   "source": [
    "## From struct to json"
   ]
  },
  {
   "cell_type": "code",
   "execution_count": 1,
   "id": "a2ee5489",
   "metadata": {},
   "outputs": [],
   "source": [
    "type ColorGroup struct {       // La mayúscula indica que es visible en el exterior\n",
    "    ID int\n",
    "    Name string\n",
    "    Colors []string\n",
    "}"
   ]
  },
  {
   "cell_type": "code",
   "execution_count": 3,
   "id": "7afe3cad",
   "metadata": {},
   "outputs": [],
   "source": [
    "group := ColorGroup{          // Esta variable ya no es visible en el exterior (del módulo)\n",
    "    ID: 1,\n",
    "    Name: \"Reds\",\n",
    "    Colors: []string{\"Crimson\",\"Red\", \"Ruby\",\"Maroon\"},\n",
    "}"
   ]
  },
  {
   "cell_type": "code",
   "execution_count": 8,
   "id": "4deef926",
   "metadata": {},
   "outputs": [
    {
     "ename": "ERROR",
     "evalue": "repl.go:2:13: undefined \"json\" in json.Marshal <*ast.SelectorExpr>",
     "output_type": "error",
     "traceback": [
      "repl.go:2:13: undefined \"json\" in json.Marshal <*ast.SelectorExpr>"
     ]
    }
   ],
   "source": [
    "func main(){\n",
    "    b,err :=json.Marshal(group)\n",
    "    if err != nil {\n",
    "        fmt.Println(\"error: \",err)\n",
    "    }\n",
    "    os.Stdout.Write(b)\n",
    "}"
   ]
  },
  {
   "cell_type": "code",
   "execution_count": 9,
   "id": "294e457f",
   "metadata": {},
   "outputs": [
    {
     "name": "stdout",
     "output_type": "stream",
     "text": [
      "[{Elly Bayona 28} {Daniel Bayona 30}]\n",
      "[{\"𒀸first\":\"Elly\",\"𒀸last\":\"Bayona\",\"𒀸age\":28},{\"𒀸first\":\"Daniel\",\"𒀸last\":\"Bayona\",\"𒀸age\":30}]\n"
     ]
    }
   ],
   "source": [
    "type person struct{\n",
    "    first string\n",
    "    last string\n",
    "    age int\n",
    "}\n",
    "\n",
    "func main() {\n",
    "    p1:= person{\n",
    "        first: \"Elly\",\n",
    "        last: \"Bayona\",\n",
    "        age:28,\n",
    "    }\n",
    "    p2:= person{\n",
    "        first:\"Daniel\",\n",
    "        last:\"Bayona\",\n",
    "        age:30,\n",
    "    }\n",
    "    \n",
    "    people := []person{p1,p2}\n",
    "    \n",
    "    fmt.Println(people)\n",
    "    \n",
    "    byte_slide , err := json.Marshal(people)\n",
    "    if err != nil{\n",
    "        fmt.Println(\"Error: \",err)\n",
    "    }\n",
    "    fmt.Println(string(byte_slide))\n",
    "}\n",
    "main()"
   ]
  },
  {
   "cell_type": "markdown",
   "id": "c6b22e55",
   "metadata": {},
   "source": [
    "<div class=\"alert alert-block alert-danger\">\n",
    "<b>Just don't:</b> En un archivo.go arrojaria un slide vacío. Necesita mayúsculas!\n",
    "\n",
    "</div>\n",
    "\n",
    " El anterior código se ve mejor en go playground:https://go.dev/play/p/lSVVJ9c400M <br>\n",
    "    El > fmt.Println(string(byte_slide)) enrealidad arroja un archivo vacío.<br>\n",
    "    Para solucionarlo se necesitan las mayúsculas en los tipos\n"
   ]
  },
  {
   "cell_type": "code",
   "execution_count": 11,
   "id": "a6a0b90e",
   "metadata": {},
   "outputs": [
    {
     "name": "stdout",
     "output_type": "stream",
     "text": [
      "[{Elly Bayona 28} {Daniel Bayona 30}]\n",
      "[{\"First\":\"Elly\",\"Last\":\"Bayona\",\"Age\":28},{\"First\":\"Daniel\",\"Last\":\"Bayona\",\"Age\":30}]\n"
     ]
    }
   ],
   "source": [
    "type person struct{\n",
    "    First string\n",
    "    Last string\n",
    "    Age int\n",
    "}\n",
    "\n",
    "func main() {\n",
    "    p1:= person{\n",
    "        First: \"Elly\",\n",
    "        Last: \"Bayona\",\n",
    "        Age:28,\n",
    "    }\n",
    "    p2:= person{\n",
    "        First:\"Daniel\",\n",
    "        Last:\"Bayona\",\n",
    "        Age:30,\n",
    "    }\n",
    "    \n",
    "    people := []person{p1,p2}\n",
    "    \n",
    "    fmt.Println(people)\n",
    "    \n",
    "    byte_slide , err := json.Marshal(people)\n",
    "    if err != nil{\n",
    "        fmt.Println(\"Error: \",err)\n",
    "    }\n",
    "    fmt.Println(string(byte_slide))\n",
    "}\n",
    "main()"
   ]
  },
  {
   "cell_type": "markdown",
   "id": "4504c822",
   "metadata": {},
   "source": [
    "## From json to Go"
   ]
  },
  {
   "cell_type": "code",
   "execution_count": 17,
   "id": "8044134f",
   "metadata": {},
   "outputs": [
    {
     "name": "stdout",
     "output_type": "stream",
     "text": [
      "[91 123 34 70 105 114 115 116 34 58 34 69 108 108 121 34 44 34 76 97 115 116 34 58 34 66 97 121 111 110 97 34 44 34 65 103 101 34 58 50 56 125 44 123 34 70 105 114 115 116 34 58 34 68 97 110 105 101 108 34 44 34 76 97 115 116 34 58 34 66 97 121 111 110 97 34 44 34 65 103 101 34 58 51 48 125 93]\n",
      "\n",
      "Tipo s: string, Tipo s_bytes: []uint8"
     ]
    }
   ],
   "source": [
    "func main(){\n",
    "    s := `[{\"First\":\"Elly\",\"Last\":\"Bayona\",\"Age\":28},{\"First\":\"Daniel\",\"Last\":\"Bayona\",\"Age\":30}]`\n",
    "    s_bytes:=[]byte(s)\n",
    "    \n",
    "    fmt.Println(s_bytes)\n",
    "    fmt.Println()\n",
    "    fmt.Printf(\"Tipo s: %T, Tipo s_bytes: %T\",s,s_bytes)\n",
    "}\n",
    "main()"
   ]
  },
  {
   "cell_type": "markdown",
   "id": "6cea2640",
   "metadata": {},
   "source": [
    "[]uint8 : 8 bits enteros positivos. (0-255)"
   ]
  },
  {
   "cell_type": "markdown",
   "id": "9f5f7931",
   "metadata": {},
   "source": [
    "Para pasar de json a go, voy a necesitar :\n",
    "- https://mholt.github.io/json-to-go/ De json a go\n",
    "\n",
    "Porque necesito saber la estructura del jsin"
   ]
  },
  {
   "cell_type": "code",
   "execution_count": 19,
   "id": "8f35d560",
   "metadata": {},
   "outputs": [
    {
     "name": "stdout",
     "output_type": "stream",
     "text": [
      "datos! :  [{Elly Bayona 28} {Daniel Bayona 30}]\n"
     ]
    }
   ],
   "source": [
    "\t\n",
    "type Person_two struct {                    // la pagina arrojaba []struct ! lo cambio !\n",
    "\tFirst_name string `json:\"First\"`\n",
    "\tLast_name  string `json:\"Last\"`\n",
    "\tAge_please   int    `json:\"Age\"`\n",
    "}\n",
    "\n",
    "// Generado por la página anterior\n",
    "// el nombre despues del json: se mapea en el nombre primero del struct en GO\n",
    "\n",
    "\n",
    "func main(){\n",
    "    s := `[{\"First\":\"Elly\",\"Last\":\"Bayona\",\"Age\":28},{\"First\":\"Daniel\",\"Last\":\"Bayona\",\"Age\":30}]`\n",
    "    s_bytes:=[]byte(s)\n",
    "    \n",
    "    \n",
    "    //people := []Person_two{}  Esto funciona, pero tambien\n",
    "    var people []Person_two\n",
    "    \n",
    "    err := json.Unmarshal(s_bytes,&people)\n",
    "    \n",
    "    if err!=nil{\n",
    "        fmt.Println(\"error: \",err)\n",
    "    }\n",
    "    fmt.Println(\"datos! : \", people)\n",
    "    \n",
    "}\n",
    "main()"
   ]
  },
  {
   "cell_type": "code",
   "execution_count": 21,
   "id": "2943f5bd",
   "metadata": {},
   "outputs": [
    {
     "name": "stdout",
     "output_type": "stream",
     "text": [
      "Entro al error:  json: cannot unmarshal number into Go struct field .Age of type string\n",
      "datos! :  [{Elly Bayona } {Daniel Bayona }]\n"
     ]
    }
   ],
   "source": [
    "\t\n",
    "type Person_two struct {                    // la pagina arrojaba []struct ! lo cambio !\n",
    "\tFirst_name string `json:\"First\"`\n",
    "\tLast_name  string `json:\"Last\"`\n",
    "\tAge_please   string    `json:\"Age\"`\n",
    "}\n",
    "\n",
    "// Generado por la página anterior\n",
    "// el nombre despues del json: se mapea en el nombre primero del struct en GO\n",
    "\n",
    "\n",
    "func main(){\n",
    "    s := `[{\"First\":\"Elly\",\"Last\":\"Bayona\",\"Age\":28},{\"First\":\"Daniel\",\"Last\":\"Bayona\",\"Age\":30}]`\n",
    "    s_bytes:=[]byte(s)\n",
    "    \n",
    "    \n",
    "    //people := []Person_two{}  Esto funciona, pero tambien\n",
    "    var people []Person_two\n",
    "    \n",
    "    err := json.Unmarshal(s_bytes,&people)\n",
    "    \n",
    "    if err!=nil{\n",
    "        fmt.Println(\"Entro al error: \",err)\n",
    "    }\n",
    "    fmt.Println(\"datos! : \", people)\n",
    "    \n",
    "}\n",
    "main()"
   ]
  },
  {
   "cell_type": "code",
   "execution_count": 23,
   "id": "be072020",
   "metadata": {},
   "outputs": [
    {
     "name": "stdout",
     "output_type": "stream",
     "text": [
      "\n",
      "Person munber:  0\n",
      "Elly Bayona 28\n",
      "\n",
      "Person munber:  1\n",
      "Daniel Bayona 30\n"
     ]
    }
   ],
   "source": [
    "\t\n",
    "type Person_two struct {                    // la pagina arrojaba []struct ! lo cambio !\n",
    "\tFirst_name string `json:\"First\"`\n",
    "\tLast_name  string `json:\"Last\"`\n",
    "\tAge_please   int    `json:\"Age\"`\n",
    "}\n",
    "\n",
    "// Generado por la página anterior\n",
    "// el nombre despues del json: se mapea en el nombre primero del struct en GO\n",
    "\n",
    "\n",
    "func main(){\n",
    "    s := `[{\"First\":\"Elly\",\"Last\":\"Bayona\",\"Age\":28},{\"First\":\"Daniel\",\"Last\":\"Bayona\",\"Age\":30}]`\n",
    "    s_bytes:=[]byte(s)\n",
    "    \n",
    "    \n",
    "    //people := []Person_two{}  Esto funciona, pero tambien\n",
    "    var people []Person_two\n",
    "    \n",
    "    err := json.Unmarshal(s_bytes,&people)\n",
    "    \n",
    "    if err!=nil{\n",
    "        fmt.Println(\"error: \",err)\n",
    "    }\n",
    "    \n",
    "    for i,v := range people{\n",
    "        fmt.Println(\"\\nPerson munber: \", i)\n",
    "        fmt.Println(v.First_name, v.Last_name,v.Age_please)\n",
    "        \n",
    "    }\n",
    "}\n",
    "main()"
   ]
  },
  {
   "cell_type": "markdown",
   "id": "604181aa",
   "metadata": {},
   "source": [
    "Tambien existe el Decoder y Encoder.\n",
    "\n",
    "Trabajan con io.writer. \n",
    "\n",
    "No es necesario asignar una variable. "
   ]
  },
  {
   "cell_type": "markdown",
   "id": "e374b4cd",
   "metadata": {},
   "source": [
    "# writer interface\n",
    "\n",
    "The io.Writer interface it’s one of Go’s very small interfaces. It has only one method. The Write method. The io.Writer interface is used by many packages in the Go standard library and it represents the ability to write a byte slice into a stream of data. More generically allows you to write data into something that implements the io.Writer interface. Here’s the io.Writer interface definition:\n",
    "\n",
    "type Writer interface {\n",
    " \n",
    "        Write(p []byte) (n int, err error)\n",
    "\n",
    "\n",
    "}\n",
    "\n",
    "Cualquier otro tipo de variable, que tenga el método Write atado a este, es tambien tipo Writer"
   ]
  },
  {
   "cell_type": "code",
   "execution_count": 26,
   "id": "53eadebb",
   "metadata": {},
   "outputs": [
    {
     "name": "stdout",
     "output_type": "stream",
     "text": [
      "Hello, playground\n",
      "Hello, playground\n",
      "Hello, playground"
     ]
    }
   ],
   "source": [
    "package main\n",
    "\n",
    "import (\n",
    "    \"fmt\"\n",
    "    \"io\"\n",
    "    \"os\"\n",
    ")\n",
    "\n",
    "func main() {\n",
    "    fmt.Println(\"Hello, playground\")\n",
    "    fmt.Fprintln(os.Stdout, \"Hello, playground\")    // Estas funciones reciben tipo writer, pero writes tambien es \n",
    "    io.WriteString(os.Stdout, \"Hello, playground\")  // file. Entonces el typo writer deja que se reciban tipo file\n",
    "}                                                   // y se imprime lo mismo\n",
    "\n",
    "main()"
   ]
  },
  {
   "cell_type": "markdown",
   "id": "81338691",
   "metadata": {},
   "source": [
    "# Sort // Clasificar // Ordenar \n",
    "\n",
    "- https://pkg.go.dev/sort"
   ]
  },
  {
   "cell_type": "code",
   "execution_count": 30,
   "id": "6423b16c",
   "metadata": {},
   "outputs": [],
   "source": [
    "import (\n",
    "    \"fmt\"\n",
    "    \"sort\"\n",
    ")"
   ]
  },
  {
   "cell_type": "code",
   "execution_count": 34,
   "id": "c6c8333d",
   "metadata": {},
   "outputs": [
    {
     "name": "stdout",
     "output_type": "stream",
     "text": [
      "[4 7 3 42 99 18 16 56 12]\n",
      "[3 4 7 12 16 18 42 56 99]\n"
     ]
    }
   ],
   "source": [
    "func main() {\n",
    "    xi := []int{4, 7, 3, 42, 99, 18, 16, 56, 12}\n",
    "\n",
    "    fmt.Println(xi)\n",
    "    sort.Ints(xi)    // Ordenar enteros // no necesitamos asignarlo porque en la doc se muestra que no retorna nada\n",
    "    fmt.Println(xi)                     // reasigna xi\n",
    "}\n",
    "main()"
   ]
  },
  {
   "cell_type": "code",
   "execution_count": 33,
   "id": "164adbfc",
   "metadata": {},
   "outputs": [
    {
     "name": "stdout",
     "output_type": "stream",
     "text": [
      "[James Q M Moneypenny Dr. No]\n",
      "[Dr. No James M Moneypenny Q]\n"
     ]
    }
   ],
   "source": [
    "func main() {\n",
    "    xs := []string{\"James\", \"Q\", \"M\", \"Moneypenny\", \"Dr. No\"}\n",
    "\n",
    "    fmt.Println(xs)\n",
    "    sort.Strings(xs) // Ordenar strings\n",
    "    fmt.Println(xs)\n",
    "\n",
    "}\n",
    "main()"
   ]
  },
  {
   "cell_type": "markdown",
   "id": "7402c2b3",
   "metadata": {},
   "source": [
    "## A litte bit deeper "
   ]
  },
  {
   "cell_type": "code",
   "execution_count": 36,
   "id": "3e731153",
   "metadata": {},
   "outputs": [
    {
     "name": "stdout",
     "output_type": "stream",
     "text": [
      "[{James 32} {Moneypenny 27} {Q 64} {M 56}]\n"
     ]
    }
   ],
   "source": [
    "// Starting code:\n",
    "\n",
    "type person struct {\n",
    "    first string\n",
    "    age   int\n",
    "}\n",
    "\n",
    "func main() {\n",
    "        p1 := person{\"James\", 32}\n",
    "        p2 := person{\"Moneypenny\", 27}\n",
    "        p3 := person{\"Q\", 64}\n",
    "        p4 := person{\"M\", 56}\n",
    "\n",
    "        people := []person{p1, p2, p3, p4}\n",
    "\n",
    "        fmt.Println(people)\n",
    "}\n",
    "main()"
   ]
  },
  {
   "cell_type": "markdown",
   "id": "7c51800b",
   "metadata": {},
   "source": [
    "¿Qué pasa si lo quiero organizar por nombre o por edad?"
   ]
  },
  {
   "cell_type": "code",
   "execution_count": null,
   "id": "8feb9f90",
   "metadata": {},
   "outputs": [],
   "source": [
    "type person struct {\n",
    "    first string\n",
    "    age   int\n",
    "}\n",
    "\n",
    "func main() {\n",
    "        p1 := person{\"James\", 32}\n",
    "        p2 := person{\"Moneypenny\", 27}\n",
    "        p3 := person{\"Q\", 64}\n",
    "        p4 := person{\"M\", 56}\n",
    "\n",
    "        people := []person{p1, p2, p3, p4}\n",
    "\n",
    "        fmt.Println(people)\n",
    "}\n",
    "main()"
   ]
  },
  {
   "cell_type": "code",
   "execution_count": null,
   "id": "63b8b8ce",
   "metadata": {},
   "outputs": [],
   "source": []
  },
  {
   "cell_type": "code",
   "execution_count": 37,
   "id": "dfeec69c",
   "metadata": {},
   "outputs": [],
   "source": [
    "type Person struct {\n",
    "    First string\n",
    "    Age   int\n",
    "}\n",
    "\n",
    "type ByAge []Person\n",
    "\n",
    "func (a ByAge) Len() int           { return len(a) }\n",
    "func (a ByAge) Swap(i, j int)      { a[i], a[j] = a[j], a[i] }\n",
    "func (a ByAge) Less(i, j int) bool { return a[i].Age < a[j].Age }\n",
    "\n",
    "func main() {\n",
    "    p1 := Person{\"James\", 32}\n",
    "    p2 := Person{\"Moneypenny\", 27}\n",
    "    p3 := Person{\"Q\", 64}\n",
    "    p4 := Person{\"M\", 56}\n",
    "\n",
    "    people := []Person{p1, p2, p3, p4}\n",
    "\n",
    "    fmt.Println(people)\n",
    "    sort.Sort(ByAge(people))\n",
    "    fmt.Println(people)\n",
    "}\n",
    "main()"
   ]
  },
  {
   "cell_type": "code",
   "execution_count": null,
   "id": "09564943",
   "metadata": {},
   "outputs": [],
   "source": []
  },
  {
   "cell_type": "code",
   "execution_count": 38,
   "id": "da53f607",
   "metadata": {},
   "outputs": [
    {
     "name": "stdout",
     "output_type": "stream",
     "text": [
      "[{James 32} {Moneypenny 27} {Q 64} {M 56}]\n",
      "[{Moneypenny 27} {James 32} {M 56} {Q 64}]\n",
      "\n",
      "\n",
      " [{Moneypenny 27} {James 32} {M 56} {Q 64}]\n",
      "[{James 32} {M 56} {Moneypenny 27} {Q 64}]\n"
     ]
    }
   ],
   "source": [
    "type Person struct {\n",
    "    First string\n",
    "    Age   int\n",
    "}\n",
    "\n",
    "type ByAge []Person\n",
    "type ByName []Person\n",
    "\n",
    "func (a ByAge) Len() int           { return len(a) }\n",
    "func (a ByAge) Swap(i, j int)      { a[i], a[j] = a[j], a[i] }\n",
    "func (a ByAge) Less(i, j int) bool { return a[i].Age < a[j].Age }\n",
    "\n",
    "func (a ByName) Len() int           { return len(a) }\n",
    "func (a ByName) Swap(i, j int)      { a[i], a[j] = a[j], a[i] }\n",
    "func (a ByName) Less(i, j int) bool { return a[i].First < a[j].First }\n",
    "\n",
    "func main() {\n",
    "    p1 := Person{\"James\", 32}\n",
    "    p2 := Person{\"Moneypenny\", 27}\n",
    "    p3 := Person{\"Q\", 64}\n",
    "    p4 := Person{\"M\", 56}\n",
    "\n",
    "    people := []Person{p1, p2, p3, p4}\n",
    "\n",
    "    fmt.Println(people)\n",
    "    sort.Sort(ByAge(people))\n",
    "    fmt.Println(people)\n",
    "    \n",
    "    \n",
    "    fmt.Println(\"\\n\\n\",people)\n",
    "    sort.Sort(ByName(people))\n",
    "    fmt.Println(people)\n",
    "}\n",
    "main()"
   ]
  },
  {
   "cell_type": "code",
   "execution_count": null,
   "id": "78ec7548",
   "metadata": {},
   "outputs": [],
   "source": []
  },
  {
   "cell_type": "markdown",
   "id": "0c5be5ca",
   "metadata": {},
   "source": [
    "# Bcrypt \n",
    "\n",
    "Bcrypt is one of the tools you can use to protect user data. \n",
    "\n",
    "It is an excellent way to store password information. So as soon as you receive a password from a user, you use Bcrypt to encrypt it. You store the encrypted value and then you never even know that password.\n",
    "\n",
    "\n",
    "What's stored is encrypted.\n",
    "\n",
    "The same password gives you the same results. We never store their password, only the encrypted version of it.\n",
    "\n",
    "- https://pkg.go.dev/golang.org/x/crypto/bcrypt"
   ]
  },
  {
   "cell_type": "code",
   "execution_count": null,
   "id": "d49daaf7",
   "metadata": {},
   "outputs": [],
   "source": []
  },
  {
   "cell_type": "code",
   "execution_count": 47,
   "id": "977639bb",
   "metadata": {},
   "outputs": [],
   "source": [
    "import (\n",
    "    \"x/crypto/bcrypt\"\n",
    ")"
   ]
  },
  {
   "cell_type": "code",
   "execution_count": 50,
   "id": "858f69f7",
   "metadata": {},
   "outputs": [
    {
     "ename": "ERROR",
     "evalue": "repl.go:3:16: undefined identifier: bcrypt",
     "output_type": "error",
     "traceback": [
      "repl.go:3:16: undefined identifier: bcrypt"
     ]
    }
   ],
   "source": [
    "func main() {\n",
    "    s := `password123`\n",
    "    bs, err := bcrypt.GenerateFromPassword([]byte(s), bcrypt.MinCost)\n",
    "    if err != nil {\n",
    "        fmt.Println(err)\n",
    "    }\n",
    "    fmt.Println(s)\n",
    "    fmt.Println(bs)\n",
    "}\n",
    "main()\n",
    "\n",
    "/// Mirar doc bcrypt.go\n",
    "/// Nisiquiera go playground puede con esto"
   ]
  },
  {
   "cell_type": "code",
   "execution_count": 49,
   "id": "1b11ef79",
   "metadata": {},
   "outputs": [
    {
     "ename": "ERROR",
     "evalue": "repl.go:10:13: undefined identifier: bcrypt",
     "output_type": "error",
     "traceback": [
      "repl.go:10:13: undefined identifier: bcrypt"
     ]
    }
   ],
   "source": [
    "package main\n",
    "\n",
    "import (\n",
    "\t\"fmt\"\n",
    "\t\"golang.org/x/crypto/bcrypt\"\n",
    ")\n",
    "\n",
    "func main() {\n",
    "\ts := `password123`\n",
    "\tbs, err := bcrypt.GenerateFromPassword([]byte(s), bcrypt.MinCost)\n",
    "\tif err != nil {\n",
    "\t\tfmt.Println(err)\n",
    "\t}\n",
    "\tfmt.Println(s)\n",
    "\tfmt.Println(bs)\n",
    "\n",
    "\tloginPword1 := `password1234`\n",
    "\n",
    "\terr = bcrypt.CompareHashAndPassword(bs, []byte(loginPword1))\n",
    "\tif err != nil {\n",
    "\t\tfmt.Println(\"YOU CAN'T LOGIN\")\n",
    "\t\treturn\n",
    "\t}\n",
    "\n",
    "\tfmt.Println(\"You're logged in\")\n",
    "}"
   ]
  },
  {
   "cell_type": "code",
   "execution_count": null,
   "id": "3b3e06fb",
   "metadata": {},
   "outputs": [],
   "source": []
  }
 ],
 "metadata": {
  "kernelspec": {
   "display_name": "Go",
   "language": "go",
   "name": "gophernotes"
  },
  "language_info": {
   "codemirror_mode": "",
   "file_extension": ".go",
   "mimetype": "",
   "name": "go",
   "nbconvert_exporter": "",
   "pygments_lexer": "",
   "version": "go1.20.3"
  }
 },
 "nbformat": 4,
 "nbformat_minor": 5
}

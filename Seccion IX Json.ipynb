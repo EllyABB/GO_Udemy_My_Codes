{
 "cells": [
  {
   "cell_type": "markdown",
   "id": "68e314a7",
   "metadata": {},
   "source": [
    "# Sección IX\n",
    "# Json"
   ]
  },
  {
   "cell_type": "code",
   "execution_count": null,
   "id": "a2ee5489",
   "metadata": {},
   "outputs": [],
   "source": []
  }
 ],
 "metadata": {
  "kernelspec": {
   "display_name": "Go",
   "language": "go",
   "name": "gophernotes"
  },
  "language_info": {
   "codemirror_mode": "",
   "file_extension": ".go",
   "mimetype": "",
   "name": "go",
   "nbconvert_exporter": "",
   "pygments_lexer": "",
   "version": "go1.20.3"
  }
 },
 "nbformat": 4,
 "nbformat_minor": 5
}

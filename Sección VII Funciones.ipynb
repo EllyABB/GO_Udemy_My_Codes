{
 "cells": [
  {
   "cell_type": "markdown",
   "id": "f7c0d421",
   "metadata": {},
   "source": [
    "# Seccion VII\n",
    "\n",
    "# Funciones !\n",
    "\n",
    "## Sintaxis:\n",
    "\n",
    "func (r receiver) identifier(parameters) (return(s)) { ... }\n"
   ]
  },
  {
   "cell_type": "code",
   "execution_count": 6,
   "id": "f3341a92",
   "metadata": {},
   "outputs": [],
   "source": [
    "package main\n",
    "import \"fmt\""
   ]
  },
  {
   "cell_type": "markdown",
   "id": "5d4c7f1b",
   "metadata": {},
   "source": [
    "## básica:"
   ]
  },
  {
   "cell_type": "code",
   "execution_count": 2,
   "id": "d7389500",
   "metadata": {},
   "outputs": [
    {
     "name": "stdout",
     "output_type": "stream",
     "text": [
      "hello from foo\n"
     ]
    }
   ],
   "source": [
    "func main() {\n",
    "    foo()\n",
    "}\n",
    "\n",
    "func foo() {\n",
    "    fmt.Println(\"hello from foo\")\n",
    "}\n",
    "\n",
    "main()"
   ]
  },
  {
   "cell_type": "markdown",
   "id": "ec3e6be0",
   "metadata": {},
   "source": [
    "## takes an argument"
   ]
  },
  {
   "cell_type": "code",
   "execution_count": 4,
   "id": "42c70553",
   "metadata": {},
   "outputs": [
    {
     "name": "stdout",
     "output_type": "stream",
     "text": [
      "Hello, James\n"
     ]
    }
   ],
   "source": [
    "func main() {\n",
    "    bar(\"James\")\n",
    "}\n",
    "\n",
    "// everything in Go is PASS BY VALUE\n",
    "func bar(s string) {\n",
    "    fmt.Println(\"Hello,\", s)\n",
    "}\n",
    "main()"
   ]
  },
  {
   "cell_type": "markdown",
   "id": "4cb6a946",
   "metadata": {},
   "source": [
    "## Return"
   ]
  },
  {
   "cell_type": "code",
   "execution_count": 6,
   "id": "a99eb98a",
   "metadata": {},
   "outputs": [
    {
     "name": "stdout",
     "output_type": "stream",
     "text": [
      "Hello from woo, Moneypenny\n"
     ]
    }
   ],
   "source": [
    "func main() {\n",
    "    s1 := woo(\"Moneypenny\")\n",
    "    fmt.Println(s1)\n",
    "}\n",
    "\n",
    "func woo(st string) string {\n",
    "    return fmt.Sprint(\"Hello from woo, \", st)\n",
    "}\n",
    "main()"
   ]
  },
  {
   "cell_type": "markdown",
   "id": "635b2407",
   "metadata": {},
   "source": [
    "## Multiple return"
   ]
  },
  {
   "cell_type": "code",
   "execution_count": 8,
   "id": "9d8f344a",
   "metadata": {},
   "outputs": [
    {
     "name": "stdout",
     "output_type": "stream",
     "text": [
      "Ian Fleming, says \"Hello\"\n"
     ]
    }
   ],
   "source": [
    "func main() {\n",
    "    x, y := mouse(\"Ian\", \"Fleming\")\n",
    "    if y {\n",
    "        fmt.Println(x)\n",
    "    }\n",
    "}\n",
    "\n",
    "\n",
    "func mouse(fn string, ln string) (string, bool) {\n",
    "    a := fmt.Sprint(fn, \" \", ln, `, says \"Hello\"`)\n",
    "    b := true\n",
    "    return a, b\n",
    "\n",
    "}\n",
    "\n",
    "main()"
   ]
  },
  {
   "cell_type": "markdown",
   "id": "3b67d2bd",
   "metadata": {},
   "source": [
    "# Variadic parameter\n",
    "You can create a func which takes an **unlimited** number of arguments. When you do this,\n",
    "this is known as a “variadic parameter.” When use the lexical element operator “...T”\n",
    "\n",
    "Entonces, Pueden ingresar la cantidad que quieras al poner ... \n",
    "y automaticamente crea un **slide** de ellos\n",
    "\n",
    "Si le paso: \"hola\", \"adios\". Trabaja con []slide{\"hola\", \"adios\"}<br>\n",
    "Paso ...T y crea un []T  (tipo T)"
   ]
  },
  {
   "cell_type": "code",
   "execution_count": 9,
   "id": "e5674287",
   "metadata": {},
   "outputs": [
    {
     "name": "stdout",
     "output_type": "stream",
     "text": [
      "[2 3 4 5 6 7 8 9]\n",
      "[]int\n"
     ]
    }
   ],
   "source": [
    "func main() {\n",
    "    sum(2, 3, 4, 5, 6, 7, 8, 9)\n",
    "}\n",
    "\n",
    "func sum(x ...int) int {\n",
    "    fmt.Println(x)\n",
    "    fmt.Printf(\"Tipo = %T\\n\", x)\n",
    "}\n",
    "main()"
   ]
  },
  {
   "cell_type": "code",
   "execution_count": 12,
   "id": "6d4a59f9",
   "metadata": {},
   "outputs": [
    {
     "name": "stdout",
     "output_type": "stream",
     "text": [
      "i= 0  añades= 2  y vamos en=  2\n",
      "i= 1  añades= 3  y vamos en=  5\n",
      "i= 2  añades= 4  y vamos en=  9\n",
      "i= 3  añades= 5  y vamos en=  14\n",
      "i= 4  añades= 6  y vamos en=  20\n",
      "i= 5  añades= 7  y vamos en=  27\n",
      "i= 6  añades= 8  y vamos en=  35\n",
      "i= 7  añades= 9  y vamos en=  44\n",
      "The total is 44\n"
     ]
    }
   ],
   "source": [
    "func main() {\n",
    "    x := sum(2, 3, 4, 5, 6, 7, 8, 9)\n",
    "    fmt.Println(\"The total is\", x)\n",
    "}\n",
    "\n",
    "func sum(x ...int) int {\n",
    "    sum := 0\n",
    "    for i, v := range x {\n",
    "        sum += v\n",
    "        fmt.Println(\"i=\", i, \" añades=\", v, \" y vamos en= \", sum)\n",
    "    }\n",
    "    return sum\n",
    "}\n",
    "main()"
   ]
  },
  {
   "cell_type": "markdown",
   "id": "879e2933",
   "metadata": {},
   "source": [
    "NOTA:\n",
    "\n",
    "La función print está muy fea. \n",
    "\n",
    "No puedo hacerla más corta?"
   ]
  },
  {
   "cell_type": "markdown",
   "id": "aa8c7c97",
   "metadata": {},
   "source": [
    "# Unfurling a slice\n",
    "\n",
    "Una slide puede entrar en una función. Solo se necesita la notación ..."
   ]
  },
  {
   "cell_type": "code",
   "execution_count": 14,
   "id": "ed219d9e",
   "metadata": {},
   "outputs": [
    {
     "name": "stdout",
     "output_type": "stream",
     "text": [
      "[1 2]\n"
     ]
    }
   ],
   "source": [
    "func main(){\n",
    "    xi := []int{1,2} //Acuerdate que esta notacion se llama composite literal\n",
    "    fmt.Println(xi)\n",
    "}\n",
    "main()"
   ]
  },
  {
   "cell_type": "code",
   "execution_count": 15,
   "id": "cf26663d",
   "metadata": {},
   "outputs": [
    {
     "name": "stdout",
     "output_type": "stream",
     "text": [
      "i= 0  añades= 2  y vamos en=  2\n",
      "i= 1  añades= 3  y vamos en=  5\n",
      "i= 2  añades= 4  y vamos en=  9\n",
      "i= 3  añades= 5  y vamos en=  14\n",
      "i= 4  añades= 6  y vamos en=  20\n",
      "i= 5  añades= 7  y vamos en=  27\n",
      "i= 6  añades= 8  y vamos en=  35\n",
      "i= 7  añades= 9  y vamos en=  44\n",
      "The total is 44\n"
     ]
    }
   ],
   "source": [
    "func main() {\n",
    "    xi := []int{2, 3, 4, 5, 6, 7, 8, 9}\n",
    "    x := sum(xi...)                       // Entra una slide en una función int con\n",
    "                                          // poner ...\n",
    "                                          // No es creado ninguna nueva slide\n",
    "    fmt.Println(\"The total is\", x)\n",
    "}\n",
    "\n",
    "func sum(x ...int) int {\n",
    "    sum := 0\n",
    "    for i, v := range x {\n",
    "        sum += v\n",
    "        fmt.Println(\"i=\", i, \" añades=\", v, \" y vamos en= \", sum)\n",
    "    }\n",
    "    return sum\n",
    "}\n",
    "main()"
   ]
  },
  {
   "cell_type": "markdown",
   "id": "d85addef",
   "metadata": {},
   "source": [
    "## Pasar nada!\n",
    "\n",
    "Al ser de cualquier tipo y de cualquier tamaño. Nada tambien está contemplado\n",
    "\n"
   ]
  },
  {
   "cell_type": "code",
   "execution_count": 16,
   "id": "8e2f6678",
   "metadata": {},
   "outputs": [
    {
     "name": "stdout",
     "output_type": "stream",
     "text": [
      "The total is 0\n"
     ]
    }
   ],
   "source": [
    "func main() {\n",
    "    x := sum()                       // No entra nada!!\n",
    "    fmt.Println(\"The total is\", x)\n",
    "}\n",
    "\n",
    "func sum(x ...int) int {\n",
    "    sum := 0\n",
    "    for i, v := range x {\n",
    "        sum += v\n",
    "        fmt.Println(\"i=\", i, \" añades=\", v, \" y vamos en= \", sum)\n",
    "    }\n",
    "    return sum\n",
    "}\n",
    "main()"
   ]
  },
  {
   "cell_type": "markdown",
   "id": "ec0d07c7",
   "metadata": {},
   "source": [
    "Se crea el slide, pero no tiene nada dentro :"
   ]
  },
  {
   "cell_type": "code",
   "execution_count": 24,
   "id": "9904a671",
   "metadata": {},
   "outputs": [
    {
     "name": "stdout",
     "output_type": "stream",
     "text": [
      "[]\n",
      "[]int\n",
      "0\n",
      "0\n"
     ]
    }
   ],
   "source": [
    "func main() {\n",
    "    sum()                       // No entra nada!!\n",
    "}\n",
    "\n",
    "func sum(x ...int)  {\n",
    "    fmt.Println( x)\n",
    "    fmt.Printf(\"%T\\n\",x)\n",
    "    fmt.Println( len(x))\n",
    "    fmt.Println( cap(x))\n",
    "}\n",
    "main()"
   ]
  },
  {
   "cell_type": "code",
   "execution_count": 19,
   "id": "cc373376",
   "metadata": {},
   "outputs": [
    {
     "ename": "ERROR",
     "evalue": "repl.go:6:12: unimplemented type: ...int <*ast.Ellipsis>",
     "output_type": "error",
     "traceback": [
      "repl.go:6:12: unimplemented type: ...int <*ast.Ellipsis>"
     ]
    }
   ],
   "source": [
    "func main() {\n",
    "    x := sum(\"hola\",1,2,3)                       // No entra nada!!\n",
    "    fmt.Println(\"The total is\", x)\n",
    "}\n",
    "\n",
    "func sum(x ...int, t string) int {\n",
    "    sum := 0\n",
    "    for i, v := range x {\n",
    "        sum += v\n",
    "        fmt.Println(\"i=\", i, \" añades=\", v, \" y vamos en= \", sum)\n",
    "    }\n",
    "    return sum\n",
    "}\n",
    "main()"
   ]
  },
  {
   "cell_type": "markdown",
   "id": "ea9dfb2e",
   "metadata": {},
   "source": [
    "<div class=\"alert alert-block alert-warning\">\n",
    "<b>Cuidado!:</b>  Error <br>\n",
    "    los tipos ...T siempre van al final <br>\n",
    "</div>"
   ]
  },
  {
   "cell_type": "code",
   "execution_count": 21,
   "id": "26feb877",
   "metadata": {},
   "outputs": [
    {
     "name": "stdout",
     "output_type": "stream",
     "text": [
      "The total is 0\n"
     ]
    }
   ],
   "source": [
    "func main() {\n",
    "    x := sum(\"hola\")                       // No entra nada!!\n",
    "    fmt.Println(\"The total is\", x)\n",
    "}\n",
    "\n",
    "func sum(t string, x ...int) int {\n",
    "    sum := 0\n",
    "    for i, v := range x {\n",
    "        sum += v\n",
    "        fmt.Println(\"i=\", i, \" añades=\", v, \" y vamos en= \", sum)\n",
    "    }\n",
    "    return sum\n",
    "}\n",
    "main()"
   ]
  },
  {
   "cell_type": "markdown",
   "id": "0310aa32",
   "metadata": {},
   "source": []
  },
  {
   "cell_type": "markdown",
   "id": "3e33684c",
   "metadata": {},
   "source": []
  },
  {
   "cell_type": "markdown",
   "id": "5e939af4",
   "metadata": {},
   "source": [
    "# Defer Keyword\n",
    "\n",
    "Aplaza la ejecución\n",
    "\n",
    "Sirve sobretodo para limpieza. Cuando se abren archivos. Para cerrarlos se utiliza esta keyword \n",
    "\n"
   ]
  },
  {
   "cell_type": "code",
   "execution_count": 4,
   "id": "d5b551b7",
   "metadata": {},
   "outputs": [
    {
     "name": "stdout",
     "output_type": "stream",
     "text": [
      "bar\n",
      "foo\n"
     ]
    }
   ],
   "source": [
    "func main() {\n",
    "    defer foo()\n",
    "    bar()\n",
    "}\n",
    "\n",
    "func foo() {\n",
    "    fmt.Println(\"foo\")\n",
    "}\n",
    "\n",
    "func bar() {\n",
    "    fmt.Println(\"bar\")\n",
    "}\n",
    "main()"
   ]
  },
  {
   "cell_type": "markdown",
   "id": "dd6d4660",
   "metadata": {},
   "source": [
    "# Método\n",
    "\n",
    "Suuuper curioso. A un cierto tipo, se le añaden los métodos.\n"
   ]
  },
  {
   "cell_type": "code",
   "execution_count": 5,
   "id": "c5bd9853",
   "metadata": {},
   "outputs": [
    {
     "name": "stdout",
     "output_type": "stream",
     "text": [
      "{{James Bond} true}\n",
      "I am James Bond\n",
      "I am Miss Moneypenny\n"
     ]
    }
   ],
   "source": [
    "type person struct {\n",
    "    first string\n",
    "    last  string\n",
    "}\n",
    "\n",
    "type secretAgent struct {\n",
    "    person\n",
    "    ltk bool\n",
    "}\n",
    "\n",
    "// Este es el método que ahora es parte del typo secretAgent\n",
    "func (s secretAgent) speak() {\n",
    "    fmt.Println(\"I am\", s.first, s.last)\n",
    "}\n",
    "\n",
    "func main() {\n",
    "    sa1 := secretAgent{\n",
    "        person: person{\n",
    "            \"James\",\n",
    "            \"Bond\",\n",
    "        },\n",
    "        ltk: true,\n",
    "    }\n",
    "\n",
    "    sa2 := secretAgent{\n",
    "        person: person{\n",
    "            \"Miss\",\n",
    "            \"Moneypenny\",\n",
    "        },\n",
    "        ltk: true,\n",
    "    }\n",
    "\n",
    "    fmt.Println(sa1)\n",
    "    sa1.speak()      // Con el .speak() accedemos al método!\n",
    "    sa2.speak()\n",
    "}\n",
    "main()"
   ]
  },
  {
   "cell_type": "markdown",
   "id": "f74efceb",
   "metadata": {},
   "source": [
    "# Interfaces\n",
    "\n",
    "Permite definir comportamiento.\n",
    "\n",
    "In Go, **values can be of more than one type**. An interface allows that.\n",
    "\n",
    "We create one using this syntax: “keyword identifier type” (type human interface)\n",
    "\n",
    "We then define which method(s) a type must have to implement that interface. If a TYPE has the required methods, which could be none (the empty interface denoted by interface{}), then that TYPE implicitly implements the interface and is also of that interface type. In Go, values can be of more than one type.\n",
    "\n",
    "\n"
   ]
  },
  {
   "cell_type": "markdown",
   "id": "cf1a701a",
   "metadata": {},
   "source": []
  },
  {
   "cell_type": "code",
   "execution_count": 10,
   "id": "7d32038c",
   "metadata": {},
   "outputs": [
    {
     "name": "stdout",
     "output_type": "stream",
     "text": [
      "struct { 𒀹person struct { 𒀸first string; 𒀸last string }; 𒀸ltk bool } \n",
      "{{James Bond} true}\n"
     ]
    }
   ],
   "source": [
    "type person struct {\n",
    "    first string\n",
    "    last  string\n",
    "}\n",
    "\n",
    "type secretAgent struct {\n",
    "    person\n",
    "    ltk bool\n",
    "}\n",
    "\n",
    "func (s secretAgent) speak() { \n",
    "    fmt.Println(\"I am\", s.first, s.last)\n",
    "}\n",
    "\n",
    "type human interface{\n",
    "//  sintaxis: keyword indetifier type\n",
    "    speak()\n",
    "//  Cualquier otro tipo que tenga el método speak, tambien es human.\n",
    "\n",
    "}\n",
    "\n",
    "\n",
    "func main() {\n",
    "    sa1 := secretAgent{\n",
    "        person: person{\n",
    "            \"James\",\n",
    "            \"Bond\",\n",
    "        },\n",
    "        ltk: true,\n",
    "    }\n",
    "    \n",
    "    // sa1 es de tipo secretAgent. Pero también tipo human\n",
    "\n",
    "    fmt.Printf(\"%T \\n\", sa1)\n",
    "    fmt.Println( sa1)\n",
    "    \n",
    "\n",
    "}\n",
    "main()"
   ]
  },
  {
   "cell_type": "code",
   "execution_count": 16,
   "id": "ac6f47af",
   "metadata": {},
   "outputs": [
    {
     "name": "stdout",
     "output_type": "stream",
     "text": [
      "I passed into bar  &{{{{0xc0003e52c0 0xc0002b98c0 409}} 0x1189340} 0x94ce80}\n",
      "I passed into bar  &{{{{0xc0003e5200 0xc00039ff00 409}} 0x1189340} 0x94ce80}\n"
     ]
    }
   ],
   "source": [
    "/// Tipos : ////\n",
    "type person struct {\n",
    "    first string\n",
    "    last  string\n",
    "}\n",
    "\n",
    "type secretAgent struct {\n",
    "    person\n",
    "    ltk bool\n",
    "}\n",
    "\n",
    "/// Funciones : ///\n",
    "\n",
    "func (s secretAgent) speak() {\n",
    "    fmt.Println(\"I am\", s.first, s.last, \" - the SecretAgent speak\" )\n",
    "}\n",
    "\n",
    "\n",
    "/// Interface ///\n",
    "type human interface{\n",
    "    speak()\n",
    "}\n",
    "\n",
    "////\n",
    "/// Puedo crear otra función que le entre una cosa tipo humano\n",
    "/// Esta nueva función puede usarse con tipo persona o secretAgent\n",
    "/// Porque interface las vincula\n",
    "/// Todo lo que este atado a speak entra acá\n",
    "func bar(h human){\n",
    "    fmt.Println(\"I passed into bar \",h)\n",
    "}\n",
    "\n",
    "\n",
    "\n",
    "func main() {\n",
    "    sa1 := secretAgent{\n",
    "        person: person{\n",
    "            \"James\",\n",
    "            \"Bond\",\n",
    "        },\n",
    "        ltk: true,\n",
    "    }\n",
    "    p1 := person {\n",
    "        first: \"dr\",\n",
    "        last: \"yes\",\n",
    "    }\n",
    "    bar(sa1) /// Como sa1 tambien es human, puede ser usado en la función bar\n",
    "    bar(p1)  /// igual con tipo persona\n",
    "\n",
    "}\n",
    "main()"
   ]
  },
  {
   "cell_type": "code",
   "execution_count": null,
   "id": "739248b8",
   "metadata": {},
   "outputs": [],
   "source": []
  },
  {
   "cell_type": "code",
   "execution_count": 19,
   "id": "cbf996aa",
   "metadata": {},
   "outputs": [
    {
     "name": "stdout",
     "output_type": "stream",
     "text": [
      "I am James Bond  - the SecretAgent speak\n",
      "I am Miss Moneypenny  - the SecretAgent speak\n",
      "I am dr yes  - the person speak\n"
     ]
    }
   ],
   "source": [
    "/// Tipos : ////\n",
    "type person struct {\n",
    "    first string\n",
    "    last  string\n",
    "}\n",
    "\n",
    "type secretAgent struct {\n",
    "    person\n",
    "    ltk bool\n",
    "}\n",
    "\n",
    "/// Funciones : ///\n",
    "func (s secretAgent) speak() {\n",
    "    fmt.Println(\"I am\", s.first, s.last, \" - the SecretAgent speak\" )\n",
    "}\n",
    "\n",
    "func (p person) speak() { // Ahora atamos speak() al type-> person\n",
    "    fmt.Println(\"I am\", p.first,p.last, \" - the person speak\" )\n",
    "}\n",
    "// Entonces tanto secretAgent como person tienen el mismo método anclado\n",
    "\n",
    "/// Interface ///\n",
    "type human interface{\n",
    "    speak()\n",
    "}\n",
    "\n",
    "/// Funciones : /// para diferentes types\n",
    "func bar(h human){\n",
    "    fmt.Println(\"I was passed into bar\", h)\n",
    "}\n",
    "\n",
    "\n",
    "func main() {\n",
    "    sa1 := secretAgent{\n",
    "        person: person{\n",
    "            \"James\",\n",
    "            \"Bond\",\n",
    "        },\n",
    "        ltk: true,\n",
    "    }\n",
    "    \n",
    "    sa2 := secretAgent{\n",
    "        person: person{\n",
    "            \"Miss\",\n",
    "            \"Moneypenny\",\n",
    "        },\n",
    "        ltk: true,\n",
    "    }\n",
    "    \n",
    "    p1 := person {\n",
    "        first: \"dr\",\n",
    "        last: \"yes\",\n",
    "    }\n",
    "    sa1.speak()\n",
    "    sa2.speak()\n",
    "    p1.speak()\n",
    "}\n",
    "main()"
   ]
  },
  {
   "cell_type": "markdown",
   "id": "768e87fd",
   "metadata": {},
   "source": [
    "## En resumen:"
   ]
  },
  {
   "cell_type": "markdown",
   "id": "5967d718",
   "metadata": {},
   "source": [
    "type human interface{\n",
    "  \n",
    "        speak()\n",
    "}\n",
    "\n",
    "**If you have got this method then you're my type** "
   ]
  },
  {
   "cell_type": "markdown",
   "id": "26b3cebd",
   "metadata": {},
   "source": [
    "## Assertion:\n",
    "h.(person).first\n",
    "\n",
    "Esta estructura se conoce como assertion, porque nos aseguramos del tipo.\n",
    "\n",
    "I'm converting that value to a different type.\n",
    "It's like when we create a type hotdog  x = 42 and then we write int(x) to do a convertion"
   ]
  },
  {
   "cell_type": "code",
   "execution_count": 24,
   "id": "e9a5be7d",
   "metadata": {},
   "outputs": [
    {
     "name": "stdout",
     "output_type": "stream",
     "text": [
      "I was passed into bar James\n",
      "I was passed into bar Miss\n",
      "I was passed into bar dr\n"
     ]
    }
   ],
   "source": [
    "/// Tipos : ////\n",
    "type person struct {\n",
    "    first string\n",
    "    last  string\n",
    "}\n",
    "\n",
    "type secretAgent struct {\n",
    "    person\n",
    "    ltk bool\n",
    "}\n",
    "\n",
    "/// Funciones : ///\n",
    "func (s secretAgent) speak() {\n",
    "    fmt.Println(\"I am\", s.first, s.last, \" - the SecretAgent speak\" )\n",
    "}\n",
    "\n",
    "func (p person) speak() { \n",
    "    fmt.Println(\"I am\", p.first,p.last, \" - the person speak\" )\n",
    "}\n",
    "\n",
    "/// Interface ///\n",
    "type human interface{\n",
    "    speak()\n",
    "}\n",
    "\n",
    "/// Funciones : /// Para diferentes types. \n",
    "//                  Como pueden entrar diferentes tipos, creemos un switch\n",
    "func bar(h human){\n",
    "    \n",
    "    switch h.(type) {\n",
    "        case person:\n",
    "        fmt.Println(\"I was passed into bar\", h.(person).first)\n",
    "        case secretAgent:\n",
    "        fmt.Println(\"I was passed into bar\", h.(secretAgent).first)\n",
    "    \n",
    "    }\n",
    "    //fmt.Println(\"I was passed into bar\", h)\n",
    "}\n",
    "\n",
    "\n",
    "func main() {\n",
    "    sa1 := secretAgent{\n",
    "        person: person{\n",
    "            \"James\",\n",
    "            \"Bond\",\n",
    "        },\n",
    "        ltk: true,\n",
    "    }\n",
    "    \n",
    "    sa2 := secretAgent{\n",
    "        person: person{\n",
    "            \"Miss\",\n",
    "            \"Moneypenny\",\n",
    "        },\n",
    "        ltk: true,\n",
    "    }\n",
    "    \n",
    "    p1 := person {\n",
    "        first: \"dr\",\n",
    "        last: \"yes\",\n",
    "    }\n",
    "    bar(sa1)\n",
    "    bar(sa2)\n",
    "    bar(p1)\n",
    "}\n",
    "main()"
   ]
  },
  {
   "cell_type": "markdown",
   "id": "ffae9904",
   "metadata": {},
   "source": [
    "## Interfaces vacías\n",
    "\n",
    "Todos tienen al menos ningun metodo.\n",
    "\n",
    "Entonces una interfaz vacía tiene todos los tipos. Acepta todos los tipos. \n",
    "\n",
    "(Todos serían type human en el ejemplo pasado).\n",
    "\n",
    "Toda variable  puede tener más de un tipo.\n",
    "\n",
    "Para aprender a usarlas:\n",
    "- https://www.ardanlabs.com/blog/2015/09/composition-with-go.html\n",
    "\n"
   ]
  },
  {
   "cell_type": "markdown",
   "id": "8a704a6f",
   "metadata": {},
   "source": [
    "## Varios tipos con interfaces:"
   ]
  },
  {
   "cell_type": "code",
   "execution_count": 6,
   "id": "72af17fb",
   "metadata": {},
   "outputs": [
    {
     "ename": "ERROR",
     "evalue": "repl.go:60:5: not a package: \"sa2\" in sa2.recorrido <*ast.SelectorExpr>",
     "output_type": "error",
     "traceback": [
      "repl.go:60:5: not a package: \"sa2\" in sa2.recorrido <*ast.SelectorExpr>"
     ]
    }
   ],
   "source": [
    "package main\n",
    "\n",
    "import (\n",
    "\t\"fmt\"\n",
    ")\n",
    "\n",
    "type person struct {\n",
    "\tfirst string\n",
    "\tlast  string\n",
    "}\n",
    "\n",
    "type secretAgent struct {\n",
    "\tperson\n",
    "\tltk bool\n",
    "}\n",
    "\n",
    "type Elly_nuevo map[string]int\n",
    "\n",
    "func (e Elly_nuevo) recorrido() {\n",
    "\tfor i, v := range e {\n",
    "\t\tfmt.Println(\"\\ni,v son iguales a: \", i, v)\n",
    "\t}\n",
    "}\n",
    "\n",
    "func (s secretAgent) speak() {\n",
    "\tfmt.Println(\"I am\", s.first, s.last)\n",
    "}\n",
    "\n",
    "type human interface {\n",
    "\t//  sintaxis: keyword indetifier type\n",
    "\tspeak()\n",
    "\t//  Cualquier otro tipo que tenga el método speak, tambien es human.\n",
    "    \n",
    "    // Como añado recorrido, human Elly_nuevo y secretAgent son del mismo typo !!!!!!!!!\n",
    "\trecorrido()\n",
    "}\n",
    "\n",
    "func main() {\n",
    "\te := Elly_nuevo{\n",
    "\t\t\"Hola\": 3,\n",
    "\t}\n",
    "\n",
    "\tfmt.Println(e[\"Hola\"])\n",
    "    \n",
    "    e.recorrido()\n",
    "\n",
    "\t// Ok, tengo mi nuevo tipo. Elly_nuevo. Ahora quiero que tenga el método skeak\n",
    "    \n",
    "    \n",
    "    \n",
    "        \n",
    "    sa2 := secretAgent{\n",
    "        person: person{\n",
    "            \"Miss\",\n",
    "            \"Moneypenny\",\n",
    "        },\n",
    "        ltk: true,\n",
    "    }\n",
    "    \n",
    "    sa2.recorrido()\n",
    "\n",
    "\n",
    "}\n",
    "main()"
   ]
  },
  {
   "cell_type": "markdown",
   "id": "1dfc264f",
   "metadata": {},
   "source": [
    "# Anonymous func"
   ]
  },
  {
   "cell_type": "code",
   "execution_count": 29,
   "id": "1f3cbba3",
   "metadata": {},
   "outputs": [
    {
     "name": "stdout",
     "output_type": "stream",
     "text": [
      "Hola\n"
     ]
    }
   ],
   "source": [
    "func main(){\n",
    "    func(){\n",
    "        fmt.Println(\"Hola\")\n",
    "    }()\n",
    "}\n",
    "main()"
   ]
  },
  {
   "cell_type": "code",
   "execution_count": 34,
   "id": "4b6ca927",
   "metadata": {},
   "outputs": [
    {
     "name": "stdout",
     "output_type": "stream",
     "text": [
      "Anonymous func ran\n",
      "The meaning of life: 42\n"
     ]
    }
   ],
   "source": [
    "func main() {\n",
    "    \n",
    "    func() {\n",
    "        fmt.Println(\"Anonymous func ran\")\n",
    "    }()\n",
    "\n",
    "    func(x int) {\n",
    "        fmt.Println(\"The meaning of life:\", x)\n",
    "    }(42)\n",
    "}\n",
    "\n",
    "main()"
   ]
  },
  {
   "cell_type": "code",
   "execution_count": null,
   "id": "eff3b6ba",
   "metadata": {},
   "outputs": [],
   "source": []
  },
  {
   "cell_type": "markdown",
   "id": "306a37fa",
   "metadata": {},
   "source": [
    "# func expression\n",
    "\n",
    "Una función tambien es un tipo.\n",
    "Entonces puedo asignar identificadores a las variables"
   ]
  },
  {
   "cell_type": "code",
   "execution_count": 39,
   "id": "8d38a1ae",
   "metadata": {},
   "outputs": [
    {
     "name": "stdout",
     "output_type": "stream",
     "text": [
      "my first func expression\n",
      "the year big brother started watching: 1984\n"
     ]
    }
   ],
   "source": [
    "func main() {\n",
    "\n",
    "    f := func() {\n",
    "        fmt.Println(\"my first func expression\")\n",
    "    }\n",
    "    f()\n",
    "\n",
    "    g := func(x int) {\n",
    "        fmt.Println(\"the year big brother started watching:\", x)\n",
    "    }\n",
    "    g(1984)\n",
    "}\n",
    "main()"
   ]
  },
  {
   "cell_type": "markdown",
   "id": "bcbdcb0e",
   "metadata": {},
   "source": [
    "## Return a Function"
   ]
  },
  {
   "cell_type": "code",
   "execution_count": 58,
   "id": "f74c30ad",
   "metadata": {},
   "outputs": [
    {
     "name": "stdout",
     "output_type": "stream",
     "text": [
      "Asi funciona func\n"
     ]
    }
   ],
   "source": [
    "func main() {\n",
    "    s1 := foo()\n",
    "    fmt.Println(s1)\n",
    "}\n",
    "\n",
    "func foo() string {\n",
    "    return \"Asi funciona func\"\n",
    "}\n",
    "main()"
   ]
  },
  {
   "cell_type": "markdown",
   "id": "14962ffc",
   "metadata": {},
   "source": [
    "De nuevo, una función es un tipo de variable"
   ]
  },
  {
   "cell_type": "code",
   "execution_count": 2,
   "id": "51f8e897",
   "metadata": {},
   "outputs": [
    {
     "ename": "ERROR",
     "evalue": "repl.go:6:5: undefined \"fmt\" in fmt.Println <*ast.SelectorExpr>",
     "output_type": "error",
     "traceback": [
      "repl.go:6:5: undefined \"fmt\" in fmt.Println <*ast.SelectorExpr>"
     ]
    }
   ],
   "source": [
    "func main() {\n",
    "\n",
    "    x:=func() int{\n",
    "        return 451\n",
    "    }\n",
    "    fmt.Println(x())\n",
    "    fmt.Printf(\"%T\\n\",x)\n",
    "\n",
    "}\n",
    "\n",
    "\n",
    "main()"
   ]
  },
  {
   "cell_type": "code",
   "execution_count": 57,
   "id": "fdf20d21",
   "metadata": {},
   "outputs": [
    {
     "name": "stdout",
     "output_type": "stream",
     "text": [
      "42\n",
      "func() int\n",
      "\n",
      "42\n",
      "int\n"
     ]
    }
   ],
   "source": [
    "func main() {\n",
    "    x:=bar()\n",
    "    fmt.Println(x())\n",
    "    fmt.Printf(\"%T\\n\\n\",x)\n",
    "    \n",
    "    v := x()\n",
    "    fmt.Println(v)\n",
    "    fmt.Printf(\"%T\\n\",v)\n",
    "}\n",
    "\n",
    "\n",
    "func bar() func() int{\n",
    "    return func() int{\n",
    "        return 42\n",
    "    }\n",
    "}\n",
    "\n",
    "// funcion llamada bar que retorna una funcion que retorna a su vez un entero\n",
    "\n",
    "main()"
   ]
  },
  {
   "cell_type": "code",
   "execution_count": 61,
   "id": "4eb8a54d",
   "metadata": {},
   "outputs": [
    {
     "name": "stdout",
     "output_type": "stream",
     "text": [
      "42\n",
      "func() int\n",
      "\n"
     ]
    }
   ],
   "source": [
    "func main() {\n",
    "    fmt.Println(bar()())\n",
    "    fmt.Printf(\"%T\\n\\n\",bar())   \n",
    "}\n",
    "\n",
    "func bar() func() int{\n",
    "    return func() int{\n",
    "        return 42\n",
    "    }\n",
    "}\n",
    "main()"
   ]
  },
  {
   "cell_type": "markdown",
   "id": "20100147",
   "metadata": {},
   "source": [
    "## Callback\n",
    "\n",
    "passing a func as an argument"
   ]
  },
  {
   "cell_type": "code",
   "execution_count": 8,
   "id": "9a913b1d",
   "metadata": {},
   "outputs": [
    {
     "name": "stdout",
     "output_type": "stream",
     "text": [
      "15\n"
     ]
    }
   ],
   "source": [
    "func main() {\n",
    "    ii := []int{1,2,3,4,5}\n",
    "    s  := sum(ii...)\n",
    "    \n",
    "    fmt.Println(s)\n",
    "}\n",
    "\n",
    "func sum(xi ...int) int{\n",
    "    total:=0\n",
    "    for _,v := range xi{\n",
    "        total += v\n",
    "    }\n",
    "    return total\n",
    "}\n",
    "main()"
   ]
  },
  {
   "cell_type": "code",
   "execution_count": 9,
   "id": "69c642aa",
   "metadata": {},
   "outputs": [],
   "source": [
    "// Ahora solo queremos llamar números pares"
   ]
  },
  {
   "cell_type": "code",
   "execution_count": 27,
   "id": "e05cd22a",
   "metadata": {},
   "outputs": [
    {
     "name": "stdout",
     "output_type": "stream",
     "text": [
      "Total:  45\n",
      "even/pares:  20\n"
     ]
    }
   ],
   "source": [
    "func main() {\n",
    "    ii := []int{1,2,3,4,5,6,7,8,9}\n",
    "    s  := sum(ii...)\n",
    "    fmt.Println(\"Total: \",s)\n",
    "    \n",
    "    s2 := even(sum,ii...)\n",
    "    fmt.Println(\"even/pares: \",s2)\n",
    "    \n",
    "}\n",
    "\n",
    "func sum(xi ...int) int{\n",
    "    total:=0\n",
    "    for _,v := range xi{\n",
    "        total += v\n",
    "    }\n",
    "    return total\n",
    "}\n",
    "\n",
    "func even (f func(xi ...int) int, yi ...int) int{     // Aqui está lo nuevo.\n",
    "                                                      // En ingresar una funcion\n",
    "    \n",
    "    var aux []int\n",
    "    for _,v := range yi{\n",
    "        if v%2 == 0 {\n",
    "            aux = append(aux,v)\n",
    "        }\n",
    "    }\n",
    "    return f(aux...)\n",
    "}\n",
    "main()"
   ]
  },
  {
   "cell_type": "markdown",
   "id": "35c51a28",
   "metadata": {},
   "source": [
    "Ahora creemos una con odd numbers"
   ]
  },
  {
   "cell_type": "code",
   "execution_count": 29,
   "id": "ffd7f260",
   "metadata": {},
   "outputs": [
    {
     "name": "stdout",
     "output_type": "stream",
     "text": [
      "Total:  45\n",
      "odd/impares:  25\n"
     ]
    }
   ],
   "source": [
    "func main() {\n",
    "    ii := []int{1,2,3,4,5,6,7,8,9}\n",
    "    s  := sum(ii...)\n",
    "    fmt.Println(\"Total: \",s)\n",
    "    \n",
    "    s2 := odd(sum,ii...)\n",
    "    fmt.Println(\"odd/impares: \",s2)\n",
    "    \n",
    "}\n",
    "\n",
    "func sum(xi ...int) int{\n",
    "    total:=0\n",
    "    for _,v := range xi{\n",
    "        total += v\n",
    "    }\n",
    "    return total\n",
    "}\n",
    "\n",
    "func odd (f func(xi ...int) int, yi ...int) int{\n",
    "    \n",
    "    var aux []int\n",
    "    \n",
    "    for _,v := range yi{\n",
    "        if v%2 != 0 {\n",
    "            aux = append(aux,v)\n",
    "        }\n",
    "    }\n",
    "    return f(aux...)\n",
    "}\n",
    "\n",
    "\n",
    "main()"
   ]
  },
  {
   "cell_type": "markdown",
   "id": "25fcd7ed",
   "metadata": {},
   "source": [
    "# Closure\n",
    "\n",
    "Que tanto acceso tengo a mis variables.\n",
    "\n",
    "Que tanto alcance o limitación tiene una variable\n",
    "\n",
    "Siempre queremos limitar lo más posible las variables"
   ]
  },
  {
   "cell_type": "markdown",
   "id": "edca1b12",
   "metadata": {},
   "source": [
    "## Caso 1\n",
    "El alcance es todo el doc. El paquete entero"
   ]
  },
  {
   "cell_type": "code",
   "execution_count": 32,
   "id": "62b43067",
   "metadata": {},
   "outputs": [
    {
     "name": "stdout",
     "output_type": "stream",
     "text": [
      "0\n",
      "1\n"
     ]
    }
   ],
   "source": [
    "var x int // Definirla fuera del main aumenta su alcance al resto de funciones\n",
    "\n",
    "func main(){\n",
    "    fmt.Println(x)\n",
    "    algo()\n",
    "    fmt.Println(x)   \n",
    "}\n",
    "\n",
    "func algo(){           \n",
    "    x++\n",
    "}\n",
    "\n",
    "main()"
   ]
  },
  {
   "cell_type": "markdown",
   "id": "5d9702ad",
   "metadata": {},
   "source": [
    "## Caso 2\n",
    "El alcance es una función"
   ]
  },
  {
   "cell_type": "code",
   "execution_count": 35,
   "id": "0dd5c0a3",
   "metadata": {},
   "outputs": [
    {
     "name": "stdout",
     "output_type": "stream",
     "text": [
      "0\n",
      "0\n"
     ]
    }
   ],
   "source": [
    "func main(){\n",
    "    var x int // Definirla dentro de una función implica no poder usarla fuera de esta \n",
    "              // función.\n",
    "    fmt.Println(x)\n",
    "    algo()\n",
    "    fmt.Println(x)   \n",
    "}\n",
    "\n",
    "func algo(){           \n",
    "    x++\n",
    "}\n",
    "\n",
    "main()\n",
    "// No da error porque estamos en jupyter, y nos guarda la definición de las variables.\n",
    "// Sin embargo efectua el x++ en la función algo()."
   ]
  },
  {
   "cell_type": "markdown",
   "id": "ed8e40dc",
   "metadata": {},
   "source": [
    "## Caso 3\n",
    "Aun dentro de una función, podemos tener un nuevo bloque de código en {} "
   ]
  },
  {
   "cell_type": "code",
   "execution_count": 41,
   "id": "6ce9c7cc",
   "metadata": {},
   "outputs": [
    {
     "name": "stdout",
     "output_type": "stream",
     "text": [
      "0\n",
      "42\n"
     ]
    }
   ],
   "source": [
    "func main(){\n",
    "    var x int \n",
    "    fmt.Println(x)\n",
    "    \n",
    "    {\n",
    "        var y int =42\n",
    "        fmt.Println(y)    // Solo definida en este bloque de código\n",
    "    }\n",
    "    \n",
    "    //fmt.Println(y)     // Esta línea de código traerá un error  \n",
    "}\n",
    "main()"
   ]
  },
  {
   "cell_type": "markdown",
   "id": "9dea1816",
   "metadata": {},
   "source": [
    "La idea de ser consiente del alcance de mis variables es darle vida a las variables"
   ]
  },
  {
   "cell_type": "code",
   "execution_count": 44,
   "id": "459eadf3",
   "metadata": {},
   "outputs": [
    {
     "name": "stdout",
     "output_type": "stream",
     "text": [
      "1\n"
     ]
    }
   ],
   "source": [
    "func main(){\n",
    "    fmt.Println(increment()())\n",
    "}\n",
    "\n",
    "// Función llamada increment que retorna una funcion (que a su vez retorna un int)\n",
    "func increment() func() int{\n",
    "    var x int // x solo vive en increment() pero tambien en la función que se retorna\n",
    "    return func() int{\n",
    "        x++\n",
    "        return x   \n",
    "    }  \n",
    "}\n",
    "\n",
    "main()"
   ]
  },
  {
   "cell_type": "code",
   "execution_count": 46,
   "id": "fba6df78",
   "metadata": {},
   "outputs": [
    {
     "name": "stdout",
     "output_type": "stream",
     "text": [
      "1\n",
      "2\n",
      "3\n"
     ]
    }
   ],
   "source": [
    "func main(){\n",
    "    a:= increment()   // Aquí es donde x=0. Pero no se vuelve a redefinir cuando se llama!!\n",
    "    fmt.Println(a())\n",
    "    fmt.Println(a())\n",
    "    fmt.Println(a())\n",
    "    \n",
    "}\n",
    "\n",
    "func increment() func() int{\n",
    "    var x int // x solo vive en increment() pero tambien en la función que se retorna\n",
    "    return func() int{\n",
    "        x++\n",
    "        return x   \n",
    "    }  \n",
    "}\n",
    "\n",
    "main()"
   ]
  },
  {
   "cell_type": "code",
   "execution_count": 50,
   "id": "86077e05",
   "metadata": {},
   "outputs": [
    {
     "name": "stdout",
     "output_type": "stream",
     "text": [
      "1\n",
      "2\n",
      "3\n",
      "1\n",
      "4\n"
     ]
    }
   ],
   "source": [
    "func main(){\n",
    "    a:= increment()   // x=0. \n",
    "    fmt.Println(a())\n",
    "    fmt.Println(a())\n",
    "    fmt.Println(a())\n",
    "    \n",
    "    b:=increment() // Aqui se redefine x\n",
    "    fmt.Println(b())\n",
    "    \n",
    "    // Hay conclicto con a y b? \n",
    "    fmt.Println(a())\n",
    "    // NO LO HAY !! CADA UNO TIENE SU X DEFINIDO.\n",
    "    \n",
    "}\n",
    "\n",
    "func increment() func() int{\n",
    "    var x int \n",
    "    return func() int{\n",
    "        x++\n",
    "        return x   \n",
    "    }  \n",
    "}\n",
    "\n",
    "// Aunque tienen el mismo identificador: x\n",
    "// Son diferentes variables, con alcance diferente\n",
    "\n",
    "main()"
   ]
  },
  {
   "cell_type": "markdown",
   "id": "1b3e0bc8",
   "metadata": {},
   "source": [
    "# Recursion\n",
    "\n",
    "Cuando una funcón se llama a si misma\n",
    "\n",
    "\n",
    "Todo lo que se vea, se puede hacer tambien con los loops\n"
   ]
  },
  {
   "cell_type": "code",
   "execution_count": 53,
   "id": "bb495d9a",
   "metadata": {},
   "outputs": [
    {
     "name": "stdout",
     "output_type": "stream",
     "text": [
      "24"
     ]
    }
   ],
   "source": [
    "func main(){\n",
    "    fmt.Print(factorial(4))\n",
    "}\n",
    "\n",
    "func factorial(n int) int{\n",
    "    if n==0{\n",
    "        return 1\n",
    "    }\n",
    "    return n*factorial(n-1)\n",
    "}\n",
    "\n",
    "main()"
   ]
  },
  {
   "cell_type": "code",
   "execution_count": 74,
   "id": "b14603af",
   "metadata": {},
   "outputs": [
    {
     "name": "stdout",
     "output_type": "stream",
     "text": [
      "120"
     ]
    }
   ],
   "source": [
    "func main(){\n",
    "    fmt.Print(factorial(5))\n",
    "}\n",
    "\n",
    "func factorial(n int) int{\n",
    "    total:=n\n",
    "    for i:=n-1; i>0; i-- {\n",
    "        if i==1{\n",
    "            return total\n",
    "        }else{\n",
    "            total=total*(i)\n",
    "        }\n",
    "    }\n",
    "}\n",
    "\n",
    "main()"
   ]
  },
  {
   "cell_type": "markdown",
   "id": "fdbb5e1a",
   "metadata": {},
   "source": [
    "Versión limpia:"
   ]
  },
  {
   "cell_type": "code",
   "execution_count": 76,
   "id": "fcc6e2d1",
   "metadata": {},
   "outputs": [
    {
     "name": "stdout",
     "output_type": "stream",
     "text": [
      "120"
     ]
    }
   ],
   "source": [
    "func main(){\n",
    "    fmt.Print(factorial(5))\n",
    "}\n",
    "\n",
    "func factorial(n int) int{\n",
    "    total:=n\n",
    "    for i:=n-1; i>0; i-- {\n",
    "        total*=i\n",
    "    }\n",
    "    return total\n",
    "}\n",
    "\n",
    "main()"
   ]
  },
  {
   "cell_type": "markdown",
   "id": "6130e364",
   "metadata": {},
   "source": [
    "Otra forma:"
   ]
  },
  {
   "cell_type": "code",
   "execution_count": 78,
   "id": "f405bf1d",
   "metadata": {},
   "outputs": [
    {
     "name": "stdout",
     "output_type": "stream",
     "text": [
      "120"
     ]
    }
   ],
   "source": [
    "func main(){\n",
    "    fmt.Print(factorial(5))\n",
    "}\n",
    "\n",
    "func factorial(n int) int{\n",
    "    total:=1\n",
    "    for ;n>0; n-- {\n",
    "        total*=n\n",
    "    }\n",
    "    return total\n",
    "}\n",
    "\n",
    "main()"
   ]
  },
  {
   "cell_type": "code",
   "execution_count": null,
   "id": "b833dcb1",
   "metadata": {},
   "outputs": [],
   "source": []
  }
 ],
 "metadata": {
  "kernelspec": {
   "display_name": "Go",
   "language": "go",
   "name": "gophernotes"
  },
  "language_info": {
   "codemirror_mode": "",
   "file_extension": ".go",
   "mimetype": "",
   "name": "go",
   "nbconvert_exporter": "",
   "pygments_lexer": "",
   "version": "go1.20.3"
  }
 },
 "nbformat": 4,
 "nbformat_minor": 5
}

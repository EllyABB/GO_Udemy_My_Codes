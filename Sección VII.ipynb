{
 "cells": [
  {
   "cell_type": "markdown",
   "id": "f7c0d421",
   "metadata": {},
   "source": [
    "# Seccion VII\n",
    "\n",
    "# Funciones !\n",
    "\n",
    "## Sintaxis:\n",
    "\n",
    "func (r receiver) identifier(parameters) (return(s)) { ... }\n"
   ]
  },
  {
   "cell_type": "code",
   "execution_count": 1,
   "id": "f3341a92",
   "metadata": {},
   "outputs": [],
   "source": [
    "package main\n",
    "import \"fmt\""
   ]
  },
  {
   "cell_type": "markdown",
   "id": "5d4c7f1b",
   "metadata": {},
   "source": [
    "## básica:"
   ]
  },
  {
   "cell_type": "code",
   "execution_count": 2,
   "id": "d7389500",
   "metadata": {},
   "outputs": [
    {
     "name": "stdout",
     "output_type": "stream",
     "text": [
      "hello from foo\n"
     ]
    }
   ],
   "source": [
    "func main() {\n",
    "    foo()\n",
    "}\n",
    "\n",
    "func foo() {\n",
    "    fmt.Println(\"hello from foo\")\n",
    "}\n",
    "\n",
    "main()"
   ]
  },
  {
   "cell_type": "markdown",
   "id": "ec3e6be0",
   "metadata": {},
   "source": [
    "## takes an argument"
   ]
  },
  {
   "cell_type": "code",
   "execution_count": 4,
   "id": "42c70553",
   "metadata": {},
   "outputs": [
    {
     "name": "stdout",
     "output_type": "stream",
     "text": [
      "Hello, James\n"
     ]
    }
   ],
   "source": [
    "func main() {\n",
    "    bar(\"James\")\n",
    "}\n",
    "\n",
    "// everything in Go is PASS BY VALUE\n",
    "func bar(s string) {\n",
    "    fmt.Println(\"Hello,\", s)\n",
    "}\n",
    "main()"
   ]
  },
  {
   "cell_type": "markdown",
   "id": "4cb6a946",
   "metadata": {},
   "source": [
    "## Return"
   ]
  },
  {
   "cell_type": "code",
   "execution_count": 6,
   "id": "a99eb98a",
   "metadata": {},
   "outputs": [
    {
     "name": "stdout",
     "output_type": "stream",
     "text": [
      "Hello from woo, Moneypenny\n"
     ]
    }
   ],
   "source": [
    "func main() {\n",
    "    s1 := woo(\"Moneypenny\")\n",
    "    fmt.Println(s1)\n",
    "}\n",
    "\n",
    "func woo(st string) string {\n",
    "    return fmt.Sprint(\"Hello from woo, \", st)\n",
    "}\n",
    "main()"
   ]
  },
  {
   "cell_type": "markdown",
   "id": "635b2407",
   "metadata": {},
   "source": [
    "## Multiple return"
   ]
  },
  {
   "cell_type": "code",
   "execution_count": 8,
   "id": "9d8f344a",
   "metadata": {},
   "outputs": [
    {
     "name": "stdout",
     "output_type": "stream",
     "text": [
      "Ian Fleming, says \"Hello\"\n"
     ]
    }
   ],
   "source": [
    "func main() {\n",
    "    x, y := mouse(\"Ian\", \"Fleming\")\n",
    "    if y {\n",
    "        fmt.Println(x)\n",
    "    }\n",
    "}\n",
    "\n",
    "\n",
    "func mouse(fn string, ln string) (string, bool) {\n",
    "    a := fmt.Sprint(fn, \" \", ln, `, says \"Hello\"`)\n",
    "    b := true\n",
    "    return a, b\n",
    "\n",
    "}\n",
    "\n",
    "main()"
   ]
  },
  {
   "cell_type": "markdown",
   "id": "3b67d2bd",
   "metadata": {},
   "source": [
    "# Variadic parameter\n",
    "You can create a func which takes an **unlimited** number of arguments. When you do this,\n",
    "this is known as a “variadic parameter.” When use the lexical element operator “...T”"
   ]
  },
  {
   "cell_type": "code",
   "execution_count": null,
   "id": "e5674287",
   "metadata": {},
   "outputs": [],
   "source": []
  }
 ],
 "metadata": {
  "kernelspec": {
   "display_name": "Go",
   "language": "go",
   "name": "gophernotes"
  },
  "language_info": {
   "codemirror_mode": "",
   "file_extension": ".go",
   "mimetype": "",
   "name": "go",
   "nbconvert_exporter": "",
   "pygments_lexer": "",
   "version": "go1.20.3"
  }
 },
 "nbformat": 4,
 "nbformat_minor": 5
}

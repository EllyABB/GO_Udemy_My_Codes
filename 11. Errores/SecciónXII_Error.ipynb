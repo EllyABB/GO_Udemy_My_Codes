{
 "cells": [
  {
   "cell_type": "markdown",
   "id": "f33022f5",
   "metadata": {},
   "source": [
    "# Sección XII\n",
    "# Error handling"
   ]
  },
  {
   "cell_type": "markdown",
   "id": "5f446939",
   "metadata": {},
   "source": [
    "Go adopta un enfoque diferente. Para el manejo simple de errores, las devoluciones de valores múltiples de Go facilitan informar un error **sin sobrecargar el valor de retorno**. Un tipo de error canónico, junto con otras características de Go, hace que el manejo de errores sea agradable pero bastante diferente al de otros idiomas.\n",
    "\n",
    "\n",
    "Go también tiene un par de funciones integradas para señalar y recuperarse de condiciones realmente excepcionales. El mecanismo de recuperación se ejecuta solo como parte del estado de una función que se elimina después de un error, lo cual **es suficiente para manejar una catástrofe pero no requiere estructuras de control adicionales** y, cuando se usa bien, puede resultar en un código de manejo de errores limpio.\n",
    "\n",
    "\n",
    "Consulte el artículo Aplazar, entrar en pánico y recuperar para obtener más información. Además, la publicación de blog Los errores son valores describe un enfoque para manejar los errores de manera limpia en Go al demostrar que, dado que los errores son solo valores, se puede implementar todo el poder de Go en el manejo de errores.\n",
    "\n",
    "    - go.dev/doc/faq#exceptions\n",
    "    - Blog : https://go.dev/blog/errors-are-values\n",
    "    - https://pkg.go.dev/builtin#error\n"
   ]
  },
  {
   "cell_type": "markdown",
   "id": "44576ebe",
   "metadata": {},
   "source": [
    "type error interface{\n",
    "\n",
    "\n",
    "        Error() string\n",
    "\n",
    "\n",
    "}\n",
    "\n",
    "Entonces **error** es un tipo.\n",
    "\n",
    "So any type that has this method attached to it is also an error and you just have to create a type.\n",
    "\n",
    "You could create a struct, you could attach a method called error to that struct, it could return a string. Then it will implicitly implement type error and it will be an error."
   ]
  },
  {
   "cell_type": "markdown",
   "id": "2dcaaca1",
   "metadata": {},
   "source": [
    "Write the code with errors before writing the code without errors. Always check for errors.\n",
    "Always, always, always.*\n",
    "    \n",
    "\n",
    "You don't want to get in the habit of just using that underscore character and throwing errors away.    You always want to check your error"
   ]
  },
  {
   "cell_type": "code",
   "execution_count": 8,
   "id": "dd48896d",
   "metadata": {},
   "outputs": [],
   "source": [
    "import \"fmt\""
   ]
  },
  {
   "cell_type": "code",
   "execution_count": 11,
   "id": "b8dcb3c9",
   "metadata": {},
   "outputs": [
    {
     "name": "stdout",
     "output_type": "stream",
     "text": [
      "Hola\n",
      "5\n"
     ]
    }
   ],
   "source": [
    "func main() {\n",
    "    n, err := fmt.Println(\"Hola\")\n",
    "\n",
    "    if err != nil {\n",
    "        fmt.Println(err)\n",
    "    }\n",
    "\n",
    "    fmt.Println(n)\n",
    "\n",
    "}\n",
    "main()"
   ]
  },
  {
   "cell_type": "code",
   "execution_count": 2,
   "id": "fbdde4b2",
   "metadata": {},
   "outputs": [],
   "source": [
    "import \"io/iountil\""
   ]
  },
  {
   "cell_type": "code",
   "execution_count": 4,
   "id": "ac3a2b41",
   "metadata": {},
   "outputs": [],
   "source": [
    "import \"os\""
   ]
  },
  {
   "cell_type": "code",
   "execution_count": 5,
   "id": "f32ef230",
   "metadata": {},
   "outputs": [
    {
     "ename": "ERROR",
     "evalue": "repl.go:14:13: undefined \"iountil\" in iountil.ReadAll <*ast.SelectorExpr>",
     "output_type": "error",
     "traceback": [
      "repl.go:14:13: undefined \"iountil\" in iountil.ReadAll <*ast.SelectorExpr>"
     ]
    }
   ],
   "source": [
    "func main(){\n",
    "\n",
    "\tf, err :=os.Open(\"names.txt\")\n",
    "\n",
    "\n",
    "\tif err != nil{\n",
    "\t\tfmt.Println(err)\n",
    "\t\treturn\n",
    "\t}\n",
    "\n",
    "\tdefer f.Close()\n",
    "\n",
    "\n",
    "\tbs, err := iountil.ReadAll(f)\n",
    "\tif err != nil{\n",
    "\t\tfmt.Println(err)\n",
    "\t\treturn\n",
    "\t}\n",
    "\n",
    "\tfmt.Println(strings(bs))\n",
    "}"
   ]
  },
  {
   "cell_type": "markdown",
   "id": "d8874ab9",
   "metadata": {},
   "source": [
    "Formas de escribir los errores:\n",
    "- fmt.Println()\n",
    "- log.Println()\n",
    "- log.Fatalln()\n",
    "    - os.exit()\n",
    "    - defer function doesn't work\n",
    "    - Ejemplo cool en error_5.go\n",
    "       \n",
    ".\n",
    "\n",
    "    \n",
    "- log.Panicln()\n",
    "\n",
    "    - os.Exit\n",
    "    - defer function run\n",
    "    - can use recover\n",
    "    \n",
    "- Panic"
   ]
  },
  {
   "cell_type": "code",
   "execution_count": 10,
   "id": "2fd9324b",
   "metadata": {},
   "outputs": [
    {
     "name": "stdout",
     "output_type": "stream",
     "text": [
      "Acá hay un error:  open nofile.txt: no such file or directory\n",
      "Salí"
     ]
    }
   ],
   "source": [
    "func main(){\n",
    "    _, err:=os.Open(\"nofile.txt\")\n",
    "    \n",
    "    if err!=nil{\n",
    "        fmt.Println(\"Acá hay un error: \",err)\n",
    "    }\n",
    "    \n",
    "    fmt.Print(\"Salí\")\n",
    "}\n",
    "main()"
   ]
  },
  {
   "cell_type": "code",
   "execution_count": 6,
   "id": "de12f7b0",
   "metadata": {},
   "outputs": [
    {
     "name": "stdout",
     "output_type": "stream",
     "text": [
      "Salí\n"
     ]
    }
   ],
   "source": [
    "import \"log\"\n",
    "func main(){\n",
    "    _, err:=os.Open(\"nofile.txt\")\n",
    "    \n",
    "    if err!=nil{\n",
    "        //fmt.Println(\"Acá hay un error: \",err)\n",
    "        log.Println(\"log form: \",err) // Si hay error en terminal! identico al anterior\n",
    "                                      // con un registro de la fecha.\n",
    "                                      // ejemplo: err_4.go\n",
    "    }\n",
    "    \n",
    "    fmt.Println(\"Salí\")// Si sale!!\n",
    "}\n",
    "main()"
   ]
  },
  {
   "cell_type": "code",
   "execution_count": 5,
   "id": "465e1b2e",
   "metadata": {},
   "outputs": [
    {
     "ename": "ERROR",
     "evalue": "repl.go:1:7: expected ';', found 'IDENT' calls (and 1 more errors)",
     "output_type": "error",
     "traceback": [
      "repl.go:1:7: expected ';', found 'IDENT' calls (and 1 more errors)"
     ]
    }
   ],
   "source": [
    "Fatal calls os.exit!!\n",
    "It kills the kernel!!\n",
    "\n",
    "careful!!\n",
    "\n",
    "func main(){\n",
    "    \n",
    "    _, err:=os.Open(\"nofile.txt\")\n",
    "    if err!=nil{\n",
    "        //fmt.Println(\"Acá hay un error: \",err)\n",
    "        //log.Println(\"log form: \",err) \n",
    "        \n",
    "        log.Fatalln(err)\n",
    "    }\n",
    "    \n",
    "    fmt.Print(\"Salí\")\n",
    "}\n",
    "main()"
   ]
  },
  {
   "cell_type": "markdown",
   "id": "f3dd1e40",
   "metadata": {},
   "source": [
    "# Panic\n",
    "-https://pkg.go.dev/builtin#panic\n",
    "\n",
    "The panic built-in function stops normal execution of the current goroutine. When a function F calls panic, normal execution of F stops immediately. Any functions whose execution was deferred by F are run in the usual way, and then F returns to its caller. To the caller G, the invocation of F then behaves like a call to panic, terminating G's execution and running any deferred functions. This continues until all functions in the executing goroutine have stopped, in reverse order. At that point, the program is terminated with a non-zero exit code. This termination sequence is called panicking and can be controlled by the built-in function recover.\n",
    "\n"
   ]
  },
  {
   "cell_type": "code",
   "execution_count": 13,
   "id": "774271aa",
   "metadata": {},
   "outputs": [
    {
     "name": "stdout",
     "output_type": "stream",
     "text": [
      "funcion diferida\n"
     ]
    },
    {
     "ename": "ERROR",
     "evalue": "Puedo escribir algo aca? open nofile.txt: no such file or directory open nofile.txt: no such file or directory\n",
     "output_type": "error",
     "traceback": [
      "Puedo escribir algo aca? open nofile.txt: no such file or directory open nofile.txt: no such file or directory\n"
     ]
    }
   ],
   "source": [
    "\n",
    "func main(){\n",
    "\n",
    "    defer foo() // En este caso si sale! corren las func defer!!\n",
    "    \n",
    "    _, err:=os.Open(\"nofile.txt\")\n",
    "    if err!=nil{\n",
    "        //fmt.Println(\"Acá hay un error: \",err)\n",
    "        //log.Println(\"log form: \",err) \n",
    "        //log.Fatalln(\"Puedo escribir algo aca?\",err)\n",
    "\n",
    "        log.Panicln(\"Puedo escribir algo aca?\",err,err.Error()) // equivalente a un frt.println \n",
    "                                                    // seguido de un panic\n",
    "\n",
    "    }\n",
    "    \n",
    "    fmt.Print(\"No salí, veamos si las funciones diferidas corren\")   \n",
    "}\n",
    "\n",
    "\n",
    "func foo(){\n",
    "    fmt.Println(\"funcion diferida\")\n",
    "}\n",
    "\n",
    "main()"
   ]
  },
  {
   "cell_type": "code",
   "execution_count": 14,
   "id": "40b39b5f",
   "metadata": {},
   "outputs": [
    {
     "name": "stdout",
     "output_type": "stream",
     "text": [
      "funcion diferida\n"
     ]
    },
    {
     "ename": "ERROR",
     "evalue": "open nofile.txt: no such file or directory",
     "output_type": "error",
     "traceback": [
      "open nofile.txt: no such file or directory"
     ]
    }
   ],
   "source": [
    "package main\n",
    "\n",
    "import(\n",
    "    \"os\" \n",
    "    \"fmt\"\n",
    ")\n",
    "\n",
    "func main(){\n",
    "\n",
    "    defer foo() // Ahora si sale! corren las func defer!!\n",
    "    \n",
    "    _, err:=os.Open(\"nofile.txt\")\n",
    "    if err!=nil{\n",
    "        //fmt.Println(\"Acá hay un error: \",err)\n",
    "        //log.Println(\"log form: \",err) \n",
    "        //log.Fatalln(\"Puedo escribir algo aca?\",err)\n",
    "\n",
    "        //log.Panicln(\"Puedo escribir algo aca?\",err,err.Error()) \n",
    "\n",
    "        //panic(\"y aca?\",err) // En estos casos no puedo mandar un mensaje!\n",
    "        panic(err) \n",
    "    }\n",
    "    \n",
    "    fmt.Print(\"No salí, veamos si las funciones diferidas corren\")   \n",
    "}\n",
    "\n",
    "\n",
    "func foo(){\n",
    "    fmt.Println(\"funcion diferida\")\n",
    "}\n",
    "\n",
    "main()"
   ]
  },
  {
   "cell_type": "markdown",
   "id": "0c23a0d4",
   "metadata": {},
   "source": [
    "# Defer, panic and recover\n",
    "\n",
    "-https://go.dev/blog/defer-panic-and-recover"
   ]
  },
  {
   "cell_type": "markdown",
   "id": "beb45947",
   "metadata": {},
   "source": [
    "A defer statement pushes a function call onto a list. The list of saved calls is executed after the surrounding function returns. Defer is commonly used to simplify functions that perform various clean-up actions.\n",
    "\n"
   ]
  },
  {
   "cell_type": "code",
   "execution_count": 15,
   "id": "81a3d4c1",
   "metadata": {},
   "outputs": [
    {
     "ename": "ERROR",
     "evalue": "repl.go:15:12: undefined identifier: io",
     "output_type": "error",
     "traceback": [
      "repl.go:15:12: undefined identifier: io"
     ]
    }
   ],
   "source": [
    "func CopyFile(dstName, srcName string) (written int64, err error) {\n",
    "    src, err := os.Open(srcName)\n",
    "    if err != nil {\n",
    "        return\n",
    "    }\n",
    "    defer src.Close()\n",
    "\n",
    "    dst, err := os.Create(dstName)\n",
    "    if err != nil {\n",
    "        return\n",
    "    }\n",
    "    defer dst.Close()\n",
    "\n",
    "    return io.Copy(dst, src)\n",
    "}"
   ]
  },
  {
   "cell_type": "markdown",
   "id": "bd6bacbc",
   "metadata": {},
   "source": [
    "A deferred function’s arguments are evaluated when the defer statement is evaluated.\n"
   ]
  },
  {
   "cell_type": "code",
   "execution_count": 25,
   "id": "52c5b309",
   "metadata": {},
   "outputs": [
    {
     "name": "stdout",
     "output_type": "stream",
     "text": [
      "defer\n",
      "el segundo  2\n",
      "el primero  1\n",
      "cerrar\n"
     ]
    }
   ],
   "source": [
    "\n",
    "//In this example, the expression “i” is evaluated when the Println call is deferred.\n",
    "//The deferred call will print “0” after the function returns.\n",
    "\n",
    "func main(){\n",
    "    fmt.Println(\"defer\")\n",
    "    a()\n",
    "    fmt.Println(\"cerrar\")\n",
    "    \n",
    "    \n",
    "}\n",
    "func a() {\n",
    "    i := 1\n",
    "    defer fmt.Println(\"el primero \",i)\n",
    "    i++\n",
    "    defer fmt.Println(\"el segundo \",i)\n",
    "    return\n",
    "}\n",
    "main()"
   ]
  },
  {
   "cell_type": "markdown",
   "id": "6e430698",
   "metadata": {},
   "source": [
    "Deferred function calls are executed in Last In First Out order after the surrounding function returns.\n"
   ]
  },
  {
   "cell_type": "code",
   "execution_count": 28,
   "id": "9484e51c",
   "metadata": {},
   "outputs": [
    {
     "name": "stdout",
     "output_type": "stream",
     "text": [
      "Caso:  3\n",
      "Caso:  2\n",
      "Caso:  1\n",
      "Caso:  0\n"
     ]
    }
   ],
   "source": [
    "func main() {\n",
    "    for i := 0; i < 4; i++ {\n",
    "        defer fmt.Println(\"Caso: \",i)\n",
    "    }\n",
    "}\n",
    "main()"
   ]
  },
  {
   "cell_type": "markdown",
   "id": "180291d1",
   "metadata": {},
   "source": [
    "Deferred functions may read and assign to the returning function’s named return values.\n"
   ]
  },
  {
   "cell_type": "code",
   "execution_count": 35,
   "id": "61436103",
   "metadata": {},
   "outputs": [
    {
     "name": "stdout",
     "output_type": "stream",
     "text": [
      "Caso normal 1\n",
      "2\n"
     ]
    }
   ],
   "source": [
    "func main() {\n",
    "    var x int\n",
    "    x++\n",
    "    fmt.Println(\"Caso normal\",x)\n",
    "    \n",
    "    j := c()\n",
    "    fmt.Println(j)\n",
    "}\n",
    "\n",
    "func c() (i int) {\n",
    "    defer func() { i++ }()\n",
    "    return 1\n",
    "}\n",
    "main()"
   ]
  },
  {
   "cell_type": "markdown",
   "id": "d458024d",
   "metadata": {},
   "source": [
    "## Panic:\n",
    "Panic is a built-in function that stops the ordinary flow of control and begins panicking. When the function F calls panic, execution of F stops, any deferred functions in F are executed normally, and then F returns to its caller. To the caller, F then behaves like a call to panic. The process continues up the stack until all functions in the current goroutine have returned, at which point the program crashes. Panics can be initiated by invoking panic directly. They can also be caused by runtime errors, such as out-of-bounds array accesses."
   ]
  },
  {
   "cell_type": "markdown",
   "id": "d5a0c56e",
   "metadata": {},
   "source": [
    "## Recover:\n",
    "\n",
    "Recover is a built-in function that regains control of a panicking goroutine. Recover is only useful inside deferred functions. During normal execution, a call to recover will return nil and have no other effect. If the current goroutine is panicking, a call to recover will capture the value given to panic and resume normal execution.\n",
    "\n"
   ]
  },
  {
   "cell_type": "code",
   "execution_count": 36,
   "id": "33a75c39",
   "metadata": {},
   "outputs": [
    {
     "name": "stdout",
     "output_type": "stream",
     "text": [
      "Calling g.\n",
      "Printing in g 0\n",
      "Printing in g 1\n",
      "Printing in g 2\n",
      "Printing in g 3\n",
      "Panicking!\n",
      "Defer in g 3\n",
      "Defer in g 2\n",
      "Defer in g 1\n",
      "Defer in g 0\n",
      "Recovered in f 4\n",
      "Returned normally from f.\n"
     ]
    }
   ],
   "source": [
    "func main() {\n",
    "    f()\n",
    "    fmt.Println(\"Returned normally from f.\")\n",
    "}\n",
    "\n",
    "func f() {\n",
    "    defer func() {\n",
    "        if r := recover(); r != nil {\n",
    "            fmt.Println(\"Recovered in f\", r)\n",
    "        }\n",
    "    }()\n",
    "    fmt.Println(\"Calling g.\")\n",
    "    g(0)\n",
    "    fmt.Println(\"Returned normally from g.\")\n",
    "}\n",
    "\n",
    "func g(i int) {\n",
    "    if i > 3 {\n",
    "        fmt.Println(\"Panicking!\")\n",
    "        panic(fmt.Sprintf(\"%v\", i))\n",
    "    }\n",
    "    defer fmt.Println(\"Defer in g\", i)\n",
    "    fmt.Println(\"Printing in g\", i)\n",
    "    g(i + 1)\n",
    "}\n",
    "main()"
   ]
  },
  {
   "cell_type": "markdown",
   "id": "f7b379f1",
   "metadata": {},
   "source": [
    "# Errors with info\n",
    "\n",
    "erros.New() recibe strings"
   ]
  },
  {
   "cell_type": "code",
   "execution_count": 2,
   "id": "1621acde",
   "metadata": {},
   "outputs": [
    {
     "ename": "ERROR",
     "evalue": "repl.go:1:6: expected ';', found 'IDENT' example (and 3 more errors)",
     "output_type": "error",
     "traceback": [
      "repl.go:1:6: expected ';', found 'IDENT' example (and 3 more errors)"
     ]
    }
   ],
   "source": [
    "This example kills the kernel\n",
    "You better look the error_9.go\n",
    "\n",
    "import (\n",
    "\t\"errors\"\n",
    "\t\"log\"\n",
    ")\n",
    "\n",
    "func main() {\n",
    "    _, err := sqrt(-10)\n",
    "    if err != nil {\n",
    "        log.Fatalln(err)\n",
    "    }\n",
    "}\n",
    "\n",
    "func sqrt(f float64) (float64, error) {\n",
    "    if f < 0 {\n",
    "        return 0, errors.New(\"norgate math: square root of negative number\") // incluye\n",
    "                                                                            // esta info\n",
    "                                                                            // en el error\n",
    "    }\n",
    "    return 42, nil\n",
    "}\n",
    "main()"
   ]
  },
  {
   "cell_type": "code",
   "execution_count": 5,
   "id": "1165f3cd",
   "metadata": {},
   "outputs": [],
   "source": [
    "import \"errors\""
   ]
  },
  {
   "cell_type": "code",
   "execution_count": 3,
   "id": "517a0577",
   "metadata": {},
   "outputs": [
    {
     "ename": "ERROR",
     "evalue": "repl.go:1:10: expected ';', found 'IDENT' el",
     "output_type": "error",
     "traceback": [
      "repl.go:1:10: expected ';', found 'IDENT' el"
     ]
    }
   ],
   "source": [
    "Mataría el Kernel por el Fatalln\n",
    "\n",
    "var ErrNorgateMath = errors.New(\"norgate math: square root of negative number\")\n",
    "\n",
    "func main() {\n",
    "\tfmt.Printf(\"%T\\n\", ErrNorgateMath)\n",
    "\t_, err := sqrt(-10)\n",
    "\tif err != nil {\n",
    "\t\tlog.Fatalln(err)\n",
    "\t}\n",
    "}\n",
    "\n",
    "func sqrt(f float64) (float64, error) {\n",
    "\tif f < 0 {\n",
    "\t\treturn 0, ErrNorgateMath\n",
    "\t}\n",
    "\treturn 42, nil\n",
    "}"
   ]
  },
  {
   "cell_type": "code",
   "execution_count": 9,
   "id": "de1737b1",
   "metadata": {},
   "outputs": [
    {
     "name": "stdout",
     "output_type": "stream",
     "text": [
      "*errors.errorString\n"
     ]
    }
   ],
   "source": [
    "\n",
    "var ErrNorgateMath = errors.New(\"norgate math: square root of negative number\")\n",
    "\n",
    "func main() {\n",
    "    fmt.Printf(\"%T\\n\", ErrNorgateMath)\n",
    "}\n",
    "\n",
    "main()"
   ]
  },
  {
   "cell_type": "code",
   "execution_count": 10,
   "id": "18cc97cb",
   "metadata": {},
   "outputs": [
    {
     "ename": "ERROR",
     "evalue": "repl.go:1:9: expected ';', found 'IDENT' problemas (and 3 more errors)",
     "output_type": "error",
     "traceback": [
      "repl.go:1:9: expected ';', found 'IDENT' problemas (and 3 more errors)"
     ]
    }
   ],
   "source": [
    "Tambien problemas con el kernel\n",
    "ver error_10.go\n",
    "\n",
    "import (\n",
    "    \"fmt\"\n",
    "    \"log\"\n",
    ")\n",
    "\n",
    "func main() {\n",
    "    _, err := sqrt(-10.23)\n",
    "    if err != nil {\n",
    "        log.Fatalln(err)\n",
    "    }\n",
    "}\n",
    "\n",
    "func sqrt(f float64) (float64, error) {\n",
    "    if f < 0 {\n",
    "        return 0, fmt.Errorf(\"norgate math again: square root of negative number: %v\", f)\n",
    "        // Basicamente es como llamar New() pero dandole un formato \n",
    "    }\n",
    "    return 42, nil\n",
    "}"
   ]
  },
  {
   "cell_type": "code",
   "execution_count": null,
   "id": "4f27e91c",
   "metadata": {},
   "outputs": [],
   "source": [
    "Tambien podemos asignar una variable!\n",
    "\n",
    "func main() {\n",
    "    _, err := sqrt(-10.23)\n",
    "    if err != nil {\n",
    "        log.Fatalln(err)\n",
    "        }\n",
    "}\n",
    "\n",
    "func sqrt(f float64) (float64, error) {\n",
    "    if f < 0 {\n",
    "        ErrNorgateMath := fmt.Errorf(\"norgate math again: square root of negative number: %v\", f)\n",
    "        return 0, ErrNorgateMath\n",
    "    }\n",
    "    return 42, nil\n",
    "}"
   ]
  },
  {
   "cell_type": "markdown",
   "id": "665aa74d",
   "metadata": {},
   "source": [
    "Podemos crear structuras con el método Error() atadas a este. Ver error_11.go\n",
    "\n",
    "- https://pkg.go.dev/builtin#error\n",
    "\n",
    "Todas las estructuras a las que cree con el metodo Error() serán tambien tipo error"
   ]
  },
  {
   "cell_type": "code",
   "execution_count": null,
   "id": "e8da2623",
   "metadata": {},
   "outputs": [],
   "source": []
  }
 ],
 "metadata": {
  "kernelspec": {
   "display_name": "Go",
   "language": "go",
   "name": "gophernotes"
  },
  "language_info": {
   "codemirror_mode": "",
   "file_extension": ".go",
   "mimetype": "",
   "name": "go",
   "nbconvert_exporter": "",
   "pygments_lexer": "",
   "version": "go1.20.3"
  }
 },
 "nbformat": 4,
 "nbformat_minor": 5
}

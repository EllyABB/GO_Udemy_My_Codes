{
 "cells": [
  {
   "cell_type": "markdown",
   "id": "f33022f5",
   "metadata": {},
   "source": [
    "# Sección XII\n",
    "# Error handling"
   ]
  },
  {
   "cell_type": "markdown",
   "id": "5f446939",
   "metadata": {},
   "source": [
    "Go adopta un enfoque diferente. Para el manejo simple de errores, las devoluciones de valores múltiples de Go facilitan informar un error **sin sobrecargar el valor de retorno**. Un tipo de error canónico, junto con otras características de Go, hace que el manejo de errores sea agradable pero bastante diferente al de otros idiomas.\n",
    "\n",
    "\n",
    "Go también tiene un par de funciones integradas para señalar y recuperarse de condiciones realmente excepcionales. El mecanismo de recuperación se ejecuta solo como parte del estado de una función que se elimina después de un error, lo cual **es suficiente para manejar una catástrofe pero no requiere estructuras de control adicionales** y, cuando se usa bien, puede resultar en un código de manejo de errores limpio.\n",
    "\n",
    "\n",
    "Consulte el artículo Aplazar, entrar en pánico y recuperar para obtener más información. Además, la publicación de blog Los errores son valores describe un enfoque para manejar los errores de manera limpia en Go al demostrar que, dado que los errores son solo valores, se puede implementar todo el poder de Go en el manejo de errores.\n",
    "\n",
    "    - go.dev/doc/faq#exceptions\n",
    "    - Blog : https://go.dev/blog/errors-are-values\n",
    "    - https://pkg.go.dev/builtin#error\n"
   ]
  },
  {
   "cell_type": "markdown",
   "id": "44576ebe",
   "metadata": {},
   "source": [
    "type error interface{\n",
    "\n",
    "\n",
    "        Error() string\n",
    "\n",
    "\n",
    "}\n",
    "\n",
    "Entonces **error** es un tipo.\n",
    "\n",
    "So any type that has this method attached to it is also an error and you just have to create a type.\n",
    "\n",
    "You could create a struct, you could attach a method called error to that struct, it could return a string. Then it will implicitly implement type error and it will be an error."
   ]
  },
  {
   "cell_type": "markdown",
   "id": "2dcaaca1",
   "metadata": {},
   "source": [
    "Write the code with errors before writing the code without errors. Always check for errors.\n",
    "Always, always, always.*\n",
    "    \n",
    "\n",
    "You don't want to get in the habit of just using that underscore character and throwing errors away.    You always want to check your error"
   ]
  },
  {
   "cell_type": "code",
   "execution_count": 3,
   "id": "dd48896d",
   "metadata": {},
   "outputs": [],
   "source": [
    "import \"fmt\""
   ]
  },
  {
   "cell_type": "code",
   "execution_count": 11,
   "id": "b8dcb3c9",
   "metadata": {},
   "outputs": [
    {
     "name": "stdout",
     "output_type": "stream",
     "text": [
      "Hola\n",
      "5\n"
     ]
    }
   ],
   "source": [
    "func main() {\n",
    "    n, err := fmt.Println(\"Hola\")\n",
    "\n",
    "    if err != nil {\n",
    "        fmt.Println(err)\n",
    "    }\n",
    "\n",
    "    fmt.Println(n)\n",
    "\n",
    "}\n",
    "main()"
   ]
  },
  {
   "cell_type": "code",
   "execution_count": 2,
   "id": "fbdde4b2",
   "metadata": {},
   "outputs": [],
   "source": [
    "import \"io/iountil\""
   ]
  },
  {
   "cell_type": "code",
   "execution_count": 1,
   "id": "ac3a2b41",
   "metadata": {},
   "outputs": [],
   "source": [
    "import \"os\""
   ]
  },
  {
   "cell_type": "code",
   "execution_count": 5,
   "id": "1f881a6e",
   "metadata": {},
   "outputs": [
    {
     "ename": "ERROR",
     "evalue": "repl.go:14:13: undefined \"iountil\" in iountil.ReadAll <*ast.SelectorExpr>",
     "output_type": "error",
     "traceback": [
      "repl.go:14:13: undefined \"iountil\" in iountil.ReadAll <*ast.SelectorExpr>"
     ]
    }
   ],
   "source": [
    "func main(){\n",
    "\n",
    "\tf, err :=os.Open(\"names.txt\")\n",
    "\n",
    "\n",
    "\tif err != nil{\n",
    "\t\tfmt.Println(err)\n",
    "\t\treturn\n",
    "\t}\n",
    "\n",
    "\tdefer f.Close()\n",
    "\n",
    "\n",
    "\tbs, err := iountil.ReadAll(f)\n",
    "\tif err != nil{\n",
    "\t\tfmt.Println(err)\n",
    "\t\treturn\n",
    "\t}\n",
    "\n",
    "\tfmt.Println(strings(bs))\n",
    "}"
   ]
  },
  {
   "cell_type": "markdown",
   "id": "7b1e660a",
   "metadata": {},
   "source": [
    "Formas de escribir los errores:\n",
    "- fmt.Println()\n",
    "- log.Println()\n",
    "- log.Fatalln()\n",
    "    - os.exit()\n",
    "    - defer function doesn't work\n",
    "    - Ejemplo cool en error_5.go\n",
    "    \n",
    "    \n",
    ".\n",
    "\n",
    "    \n",
    "- log.Panicln()\n",
    "\n",
    "    - os.Exit\n",
    "    - defer function run\n",
    "    - can use recover\n",
    "    \n",
    "- Panic"
   ]
  },
  {
   "cell_type": "code",
   "execution_count": 10,
   "id": "b3bf3429",
   "metadata": {},
   "outputs": [
    {
     "name": "stdout",
     "output_type": "stream",
     "text": [
      "Acá hay un error:  open nofile.txt: no such file or directory\n",
      "Salí"
     ]
    }
   ],
   "source": [
    "func main(){\n",
    "    _, err:=os.Open(\"nofile.txt\")\n",
    "    \n",
    "    if err!=nil{\n",
    "        fmt.Println(\"Acá hay un error: \",err)\n",
    "    }\n",
    "    \n",
    "    fmt.Print(\"Salí\")\n",
    "}\n",
    "main()"
   ]
  },
  {
   "cell_type": "code",
   "execution_count": 14,
   "id": "1609258b",
   "metadata": {},
   "outputs": [
    {
     "name": "stdout",
     "output_type": "stream",
     "text": [
      "Salí"
     ]
    }
   ],
   "source": [
    "import \"log\"\n",
    "func main(){\n",
    "    _, err:=os.Open(\"nofile.txt\")\n",
    "    \n",
    "    if err!=nil{\n",
    "        //fmt.Println(\"Acá hay un error: \",err)\n",
    "        log.Println(\"log form: \",err) // Si hay error en terminal! identico al anterior\n",
    "                                      // con un registro de la fecha.\n",
    "                                      // ejemplo: err_4.go\n",
    "    }\n",
    "    \n",
    "    fmt.Print(\"Salí\")\n",
    "}\n",
    "main()"
   ]
  },
  {
   "cell_type": "code",
   "execution_count": null,
   "id": "cd1a512d",
   "metadata": {},
   "outputs": [],
   "source": []
  }
 ],
 "metadata": {
  "kernelspec": {
   "display_name": "Go",
   "language": "go",
   "name": "gophernotes"
  },
  "language_info": {
   "codemirror_mode": "",
   "file_extension": ".go",
   "mimetype": "",
   "name": "go",
   "nbconvert_exporter": "",
   "pygments_lexer": "",
   "version": "go1.20.3"
  }
 },
 "nbformat": 4,
 "nbformat_minor": 5
}
